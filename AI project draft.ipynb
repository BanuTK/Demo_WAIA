{
  "nbformat": 4,
  "nbformat_minor": 0,
  "metadata": {
    "kernelspec": {
      "display_name": "Python 3",
      "language": "python",
      "name": "python3"
    },
    "language_info": {
      "codemirror_mode": {
        "name": "ipython",
        "version": 3
      },
      "file_extension": ".py",
      "mimetype": "text/x-python",
      "name": "python",
      "nbconvert_exporter": "python",
      "pygments_lexer": "ipython3",
      "version": "3.8.5"
    },
    "toc": {
      "base_numbering": 1,
      "nav_menu": {},
      "number_sections": true,
      "sideBar": true,
      "skip_h1_title": false,
      "title_cell": "Table of Contents",
      "title_sidebar": "Contents",
      "toc_cell": false,
      "toc_position": {},
      "toc_section_display": true,
      "toc_window_display": false
    },
    "colab": {
      "name": "AI project draft.ipynb",
      "provenance": [],
      "toc_visible": true
    }
  },
  "cells": [
    {
      "cell_type": "code",
      "metadata": {
        "id": "ZqPvewEVWeLo"
      },
      "source": [
        "import pandas as pd\n",
        "import numpy as np\n",
        "import seaborn as sns\n",
        "import matplotlib.pyplot as plt\n",
        "import matplotlib.dates as mpl_dates\n",
        "import datetime\n",
        "from datetime import datetime"
      ],
      "execution_count": 1,
      "outputs": []
    },
    {
      "cell_type": "code",
      "metadata": {
        "id": "7RoaRhNEWeLq"
      },
      "source": [
        "#some clustering libraries\n",
        "import sklearn\n",
        "from sklearn.preprocessing import StandardScaler\n",
        "from sklearn.cluster import KMeans\n",
        "from sklearn.metrics import silhouette_score\n",
        "from scipy.cluster.hierarchy import linkage\n",
        "from scipy.cluster.hierarchy import dendrogram\n",
        "from scipy.cluster.hierarchy import cut_tree"
      ],
      "execution_count": 2,
      "outputs": []
    },
    {
      "cell_type": "code",
      "metadata": {
        "id": "hejK6H-uWeLq"
      },
      "source": [
        "url = 'https://archive.ics.uci.edu/ml/machine-learning-databases/00352/Online%20Retail.xlsx'\n",
        "df = pd.read_excel(url)\n",
        "# df=pd.read_csv('OnlineRetail.csv')\n",
        "# df.head(2)"
      ],
      "execution_count": 5,
      "outputs": []
    },
    {
      "cell_type": "code",
      "metadata": {
        "colab": {
          "base_uri": "https://localhost:8080/",
          "height": 106
        },
        "id": "8y0WZwtLXFM1",
        "outputId": "f8308245-e6d4-47ef-9458-4242230b84e9"
      },
      "source": [
        "df.head(2)"
      ],
      "execution_count": 4,
      "outputs": [
        {
          "output_type": "execute_result",
          "data": {
            "text/html": [
              "<div>\n",
              "<style scoped>\n",
              "    .dataframe tbody tr th:only-of-type {\n",
              "        vertical-align: middle;\n",
              "    }\n",
              "\n",
              "    .dataframe tbody tr th {\n",
              "        vertical-align: top;\n",
              "    }\n",
              "\n",
              "    .dataframe thead th {\n",
              "        text-align: right;\n",
              "    }\n",
              "</style>\n",
              "<table border=\"1\" class=\"dataframe\">\n",
              "  <thead>\n",
              "    <tr style=\"text-align: right;\">\n",
              "      <th></th>\n",
              "      <th>InvoiceNo</th>\n",
              "      <th>StockCode</th>\n",
              "      <th>Description</th>\n",
              "      <th>Quantity</th>\n",
              "      <th>InvoiceDate</th>\n",
              "      <th>UnitPrice</th>\n",
              "      <th>CustomerID</th>\n",
              "      <th>Country</th>\n",
              "    </tr>\n",
              "  </thead>\n",
              "  <tbody>\n",
              "    <tr>\n",
              "      <th>0</th>\n",
              "      <td>536365</td>\n",
              "      <td>85123A</td>\n",
              "      <td>WHITE HANGING HEART T-LIGHT HOLDER</td>\n",
              "      <td>6</td>\n",
              "      <td>2010-12-01 08:26:00</td>\n",
              "      <td>2.55</td>\n",
              "      <td>17850.0</td>\n",
              "      <td>United Kingdom</td>\n",
              "    </tr>\n",
              "    <tr>\n",
              "      <th>1</th>\n",
              "      <td>536365</td>\n",
              "      <td>71053</td>\n",
              "      <td>WHITE METAL LANTERN</td>\n",
              "      <td>6</td>\n",
              "      <td>2010-12-01 08:26:00</td>\n",
              "      <td>3.39</td>\n",
              "      <td>17850.0</td>\n",
              "      <td>United Kingdom</td>\n",
              "    </tr>\n",
              "  </tbody>\n",
              "</table>\n",
              "</div>"
            ],
            "text/plain": [
              "  InvoiceNo StockCode  ... CustomerID         Country\n",
              "0    536365    85123A  ...    17850.0  United Kingdom\n",
              "1    536365     71053  ...    17850.0  United Kingdom\n",
              "\n",
              "[2 rows x 8 columns]"
            ]
          },
          "metadata": {
            "tags": []
          },
          "execution_count": 4
        }
      ]
    },
    {
      "cell_type": "markdown",
      "metadata": {
        "id": "LT5cm7aSclv-"
      },
      "source": [
        "Comment -\n",
        "\n",
        "Always observe and separate the identity features (because they are never used for training), numeric,categorical and target features. You don't have a target. So just the numberic and categorical. Study them individually then. Use describe for the numerics."
      ]
    },
    {
      "cell_type": "code",
      "metadata": {
        "id": "psCcUaO7WeLr",
        "outputId": "4eef4dd7-f5de-44a1-ad66-ec14dd27b3ce"
      },
      "source": [
        "df.shape #number of rows and columns"
      ],
      "execution_count": null,
      "outputs": [
        {
          "output_type": "execute_result",
          "data": {
            "text/plain": [
              "(541909, 8)"
            ]
          },
          "metadata": {
            "tags": []
          },
          "execution_count": 5
        }
      ]
    },
    {
      "cell_type": "code",
      "metadata": {
        "id": "GqJ8s3kFWeLs",
        "outputId": "23975d33-fdf8-437a-ea66-a34b2929de4d"
      },
      "source": [
        "df.info() # count, and data types of each feauture"
      ],
      "execution_count": null,
      "outputs": [
        {
          "output_type": "stream",
          "text": [
            "<class 'pandas.core.frame.DataFrame'>\n",
            "RangeIndex: 541909 entries, 0 to 541908\n",
            "Data columns (total 8 columns):\n",
            " #   Column       Non-Null Count   Dtype  \n",
            "---  ------       --------------   -----  \n",
            " 0   InvoiceNo    541909 non-null  object \n",
            " 1   StockCode    541909 non-null  object \n",
            " 2   Description  540455 non-null  object \n",
            " 3   Quantity     541909 non-null  int64  \n",
            " 4   InvoiceDate  541909 non-null  object \n",
            " 5   UnitPrice    541909 non-null  float64\n",
            " 6   CustomerID   406829 non-null  float64\n",
            " 7   Country      541909 non-null  object \n",
            "dtypes: float64(2), int64(1), object(5)\n",
            "memory usage: 33.1+ MB\n"
          ],
          "name": "stdout"
        }
      ]
    },
    {
      "cell_type": "markdown",
      "metadata": {
        "id": "oPKbPW3VXR1W"
      },
      "source": [
        "Comments -\n",
        "\n",
        "What's you observation here?"
      ]
    },
    {
      "cell_type": "code",
      "metadata": {
        "colab": {
          "base_uri": "https://localhost:8080/"
        },
        "id": "HIvvGLtGWeLs",
        "outputId": "388fc4dc-5d3e-4120-9391-1397ec1e9a30"
      },
      "source": [
        "df.InvoiceNo.unique()"
      ],
      "execution_count": 6,
      "outputs": [
        {
          "output_type": "execute_result",
          "data": {
            "text/plain": [
              "array([536365, 536366, 536367, ..., 581585, 581586, 581587], dtype=object)"
            ]
          },
          "metadata": {
            "tags": []
          },
          "execution_count": 6
        }
      ]
    },
    {
      "cell_type": "code",
      "metadata": {
        "colab": {
          "base_uri": "https://localhost:8080/"
        },
        "id": "8gv-5b52WeLs",
        "outputId": "e4e19a9b-e31e-4926-cc59-9e4ce4243c1b"
      },
      "source": [
        "df.StockCode.unique()"
      ],
      "execution_count": 7,
      "outputs": [
        {
          "output_type": "execute_result",
          "data": {
            "text/plain": [
              "array(['85123A', 71053, '84406B', ..., '90214U', '47591b', 23843],\n",
              "      dtype=object)"
            ]
          },
          "metadata": {
            "tags": []
          },
          "execution_count": 7
        }
      ]
    },
    {
      "cell_type": "code",
      "metadata": {
        "colab": {
          "base_uri": "https://localhost:8080/"
        },
        "id": "-2-jwmjVWeLt",
        "outputId": "6bba2c6d-0008-44de-f938-aa6d332b4c4d"
      },
      "source": [
        "df.Description.unique()"
      ],
      "execution_count": 8,
      "outputs": [
        {
          "output_type": "execute_result",
          "data": {
            "text/plain": [
              "array(['WHITE HANGING HEART T-LIGHT HOLDER', 'WHITE METAL LANTERN',\n",
              "       'CREAM CUPID HEARTS COAT HANGER', ..., 'lost',\n",
              "       'CREAM HANGING HEART T-LIGHT HOLDER',\n",
              "       'PAPER CRAFT , LITTLE BIRDIE'], dtype=object)"
            ]
          },
          "metadata": {
            "tags": []
          },
          "execution_count": 8
        }
      ]
    },
    {
      "cell_type": "code",
      "metadata": {
        "colab": {
          "base_uri": "https://localhost:8080/"
        },
        "id": "6-fyrXvaWeLt",
        "outputId": "0c829072-3235-46e0-9aa7-28a500a52009"
      },
      "source": [
        "df.Country.unique()  #which countries there are"
      ],
      "execution_count": 9,
      "outputs": [
        {
          "output_type": "execute_result",
          "data": {
            "text/plain": [
              "array(['United Kingdom', 'France', 'Australia', 'Netherlands', 'Germany',\n",
              "       'Norway', 'EIRE', 'Switzerland', 'Spain', 'Poland', 'Portugal',\n",
              "       'Italy', 'Belgium', 'Lithuania', 'Japan', 'Iceland',\n",
              "       'Channel Islands', 'Denmark', 'Cyprus', 'Sweden', 'Austria',\n",
              "       'Israel', 'Finland', 'Bahrain', 'Greece', 'Hong Kong', 'Singapore',\n",
              "       'Lebanon', 'United Arab Emirates', 'Saudi Arabia',\n",
              "       'Czech Republic', 'Canada', 'Unspecified', 'Brazil', 'USA',\n",
              "       'European Community', 'Malta', 'RSA'], dtype=object)"
            ]
          },
          "metadata": {
            "tags": []
          },
          "execution_count": 9
        }
      ]
    },
    {
      "cell_type": "markdown",
      "metadata": {
        "id": "yqFUfhkmXaeg"
      },
      "source": [
        "Comments -\n",
        "\n",
        "It's good you are checking unique values but also check how many are they. This will give you an overview of the cardinality of these variables. \n",
        "\n",
        "I would us - \n",
        "`for col in df.columns: print(len(df[col].unique())`"
      ]
    },
    {
      "cell_type": "code",
      "metadata": {
        "id": "ZdNJh03hWeLt",
        "outputId": "c899bf04-1592-4b67-f710-273ffcb33f3c"
      },
      "source": [
        "def display_missing(df):  #find out missing values per each column\n",
        "    for col in df.columns.tolist():\n",
        "        print('{} column missing values: {}'.format(col, df[col].isnull().sum())) #provide blank space, and fill with the value of sum of empty cells\n",
        "      #  print('\\n') # go to next line\n",
        "display_missing(df)"
      ],
      "execution_count": null,
      "outputs": [
        {
          "output_type": "stream",
          "text": [
            "InvoiceNo column missing values: 0\n",
            "StockCode column missing values: 0\n",
            "Description column missing values: 1454\n",
            "Quantity column missing values: 0\n",
            "InvoiceDate column missing values: 0\n",
            "UnitPrice column missing values: 0\n",
            "CustomerID column missing values: 135080\n",
            "Country column missing values: 0\n"
          ],
          "name": "stdout"
        }
      ]
    },
    {
      "cell_type": "markdown",
      "metadata": {
        "id": "bNiXxL_NcaxW"
      },
      "source": [
        "Comment - \n",
        "\n",
        "Use .isna.sum(). It is less code. No function, no for loop required."
      ]
    },
    {
      "cell_type": "code",
      "metadata": {
        "id": "1RVr5VtAWeLu",
        "outputId": "a6dbd0a3-4f3c-4053-91be-37f985113a56"
      },
      "source": [
        "df_corr=df.corr().abs().unstack().sort_values(kind=\"quicksort\", ascending=False).reset_index()\n",
        "df_corr.rename(columns={\"level_0\": \"Feature 1\", \"level_1\": \"Feature 2\", 0: 'Correlation Coefficient'}, inplace=True)\n",
        "df_corr[df_corr['Feature 1'] == 'CustomerID']   #VERY LOW CORRELATION  "
      ],
      "execution_count": null,
      "outputs": [
        {
          "output_type": "execute_result",
          "data": {
            "text/html": [
              "<div>\n",
              "<style scoped>\n",
              "    .dataframe tbody tr th:only-of-type {\n",
              "        vertical-align: middle;\n",
              "    }\n",
              "\n",
              "    .dataframe tbody tr th {\n",
              "        vertical-align: top;\n",
              "    }\n",
              "\n",
              "    .dataframe thead th {\n",
              "        text-align: right;\n",
              "    }\n",
              "</style>\n",
              "<table border=\"1\" class=\"dataframe\">\n",
              "  <thead>\n",
              "    <tr style=\"text-align: right;\">\n",
              "      <th></th>\n",
              "      <th>Feature 1</th>\n",
              "      <th>Feature 2</th>\n",
              "      <th>Correlation Coefficient</th>\n",
              "    </tr>\n",
              "  </thead>\n",
              "  <tbody>\n",
              "    <tr>\n",
              "      <th>0</th>\n",
              "      <td>CustomerID</td>\n",
              "      <td>CustomerID</td>\n",
              "      <td>1.00000</td>\n",
              "    </tr>\n",
              "    <tr>\n",
              "      <th>3</th>\n",
              "      <td>CustomerID</td>\n",
              "      <td>UnitPrice</td>\n",
              "      <td>0.00456</td>\n",
              "    </tr>\n",
              "    <tr>\n",
              "      <th>5</th>\n",
              "      <td>CustomerID</td>\n",
              "      <td>Quantity</td>\n",
              "      <td>0.00360</td>\n",
              "    </tr>\n",
              "  </tbody>\n",
              "</table>\n",
              "</div>"
            ],
            "text/plain": [
              "    Feature 1   Feature 2  Correlation Coefficient\n",
              "0  CustomerID  CustomerID                  1.00000\n",
              "3  CustomerID   UnitPrice                  0.00456\n",
              "5  CustomerID    Quantity                  0.00360"
            ]
          },
          "metadata": {
            "tags": []
          },
          "execution_count": 12
        }
      ]
    },
    {
      "cell_type": "code",
      "metadata": {
        "id": "Z1cvh1XlWeLu",
        "outputId": "5e00574b-a485-43d3-ddec-b4f16c809870"
      },
      "source": [
        "df_corr=df.corr().abs().unstack().sort_values(kind=\"quicksort\", ascending=False).reset_index()\n",
        "df_corr.rename(columns={\"level_0\": \"Feature 1\", \"level_1\": \"Feature 2\", 0: 'Correlation Coefficient'}, inplace=True)\n",
        "df_corr[df_corr['Feature 1'] == 'UnitPrice']   #VERY LOW CORRELATION "
      ],
      "execution_count": null,
      "outputs": [
        {
          "output_type": "execute_result",
          "data": {
            "text/html": [
              "<div>\n",
              "<style scoped>\n",
              "    .dataframe tbody tr th:only-of-type {\n",
              "        vertical-align: middle;\n",
              "    }\n",
              "\n",
              "    .dataframe tbody tr th {\n",
              "        vertical-align: top;\n",
              "    }\n",
              "\n",
              "    .dataframe thead th {\n",
              "        text-align: right;\n",
              "    }\n",
              "</style>\n",
              "<table border=\"1\" class=\"dataframe\">\n",
              "  <thead>\n",
              "    <tr style=\"text-align: right;\">\n",
              "      <th></th>\n",
              "      <th>Feature 1</th>\n",
              "      <th>Feature 2</th>\n",
              "      <th>Correlation Coefficient</th>\n",
              "    </tr>\n",
              "  </thead>\n",
              "  <tbody>\n",
              "    <tr>\n",
              "      <th>1</th>\n",
              "      <td>UnitPrice</td>\n",
              "      <td>UnitPrice</td>\n",
              "      <td>1.000000</td>\n",
              "    </tr>\n",
              "    <tr>\n",
              "      <th>4</th>\n",
              "      <td>UnitPrice</td>\n",
              "      <td>CustomerID</td>\n",
              "      <td>0.004560</td>\n",
              "    </tr>\n",
              "    <tr>\n",
              "      <th>7</th>\n",
              "      <td>UnitPrice</td>\n",
              "      <td>Quantity</td>\n",
              "      <td>0.001235</td>\n",
              "    </tr>\n",
              "  </tbody>\n",
              "</table>\n",
              "</div>"
            ],
            "text/plain": [
              "   Feature 1   Feature 2  Correlation Coefficient\n",
              "1  UnitPrice   UnitPrice                 1.000000\n",
              "4  UnitPrice  CustomerID                 0.004560\n",
              "7  UnitPrice    Quantity                 0.001235"
            ]
          },
          "metadata": {
            "tags": []
          },
          "execution_count": 13
        }
      ]
    },
    {
      "cell_type": "markdown",
      "metadata": {
        "id": "NYcFeMdXdJCn"
      },
      "source": [
        "Comment -\n",
        "\n",
        "Why check one bt one? Use heatmap or sns.paiplot to get an idea. Note your observations in bullet points in markdowns."
      ]
    },
    {
      "cell_type": "code",
      "metadata": {
        "id": "zL9SvhwIWeLu",
        "outputId": "1ea34220-c8fb-4ee0-fc5c-f270bf0c3c71"
      },
      "source": [
        "df['InvoiceDate'] =  pd.to_datetime(df['InvoiceDate'], format='%d-%m-%Y %H:%M')\n",
        "df.mindate = df['InvoiceDate'].min()\n",
        "df['mindate'] = np.nan\n",
        "df['mindate'] = pd.to_datetime(df['mindate'], format='%d-%m-%Y %H:%M')\n",
        "df.info()\n",
        "df.head()"
      ],
      "execution_count": null,
      "outputs": [
        {
          "output_type": "stream",
          "text": [
            "<class 'pandas.core.frame.DataFrame'>\n",
            "RangeIndex: 541909 entries, 0 to 541908\n",
            "Data columns (total 9 columns):\n",
            " #   Column       Non-Null Count   Dtype         \n",
            "---  ------       --------------   -----         \n",
            " 0   InvoiceNo    541909 non-null  object        \n",
            " 1   StockCode    541909 non-null  object        \n",
            " 2   Description  540455 non-null  object        \n",
            " 3   Quantity     541909 non-null  int64         \n",
            " 4   InvoiceDate  541909 non-null  datetime64[ns]\n",
            " 5   UnitPrice    541909 non-null  float64       \n",
            " 6   CustomerID   406829 non-null  float64       \n",
            " 7   Country      541909 non-null  object        \n",
            " 8   mindate      0 non-null       datetime64[ns]\n",
            "dtypes: datetime64[ns](2), float64(2), int64(1), object(4)\n",
            "memory usage: 37.2+ MB\n"
          ],
          "name": "stdout"
        },
        {
          "output_type": "execute_result",
          "data": {
            "text/html": [
              "<div>\n",
              "<style scoped>\n",
              "    .dataframe tbody tr th:only-of-type {\n",
              "        vertical-align: middle;\n",
              "    }\n",
              "\n",
              "    .dataframe tbody tr th {\n",
              "        vertical-align: top;\n",
              "    }\n",
              "\n",
              "    .dataframe thead th {\n",
              "        text-align: right;\n",
              "    }\n",
              "</style>\n",
              "<table border=\"1\" class=\"dataframe\">\n",
              "  <thead>\n",
              "    <tr style=\"text-align: right;\">\n",
              "      <th></th>\n",
              "      <th>InvoiceNo</th>\n",
              "      <th>StockCode</th>\n",
              "      <th>Description</th>\n",
              "      <th>Quantity</th>\n",
              "      <th>InvoiceDate</th>\n",
              "      <th>UnitPrice</th>\n",
              "      <th>CustomerID</th>\n",
              "      <th>Country</th>\n",
              "      <th>mindate</th>\n",
              "    </tr>\n",
              "  </thead>\n",
              "  <tbody>\n",
              "    <tr>\n",
              "      <th>0</th>\n",
              "      <td>536365</td>\n",
              "      <td>85123A</td>\n",
              "      <td>WHITE HANGING HEART T-LIGHT HOLDER</td>\n",
              "      <td>6</td>\n",
              "      <td>2010-12-01 08:26:00</td>\n",
              "      <td>2.55</td>\n",
              "      <td>17850.0</td>\n",
              "      <td>United Kingdom</td>\n",
              "      <td>NaT</td>\n",
              "    </tr>\n",
              "    <tr>\n",
              "      <th>1</th>\n",
              "      <td>536365</td>\n",
              "      <td>71053</td>\n",
              "      <td>WHITE METAL LANTERN</td>\n",
              "      <td>6</td>\n",
              "      <td>2010-12-01 08:26:00</td>\n",
              "      <td>3.39</td>\n",
              "      <td>17850.0</td>\n",
              "      <td>United Kingdom</td>\n",
              "      <td>NaT</td>\n",
              "    </tr>\n",
              "    <tr>\n",
              "      <th>2</th>\n",
              "      <td>536365</td>\n",
              "      <td>84406B</td>\n",
              "      <td>CREAM CUPID HEARTS COAT HANGER</td>\n",
              "      <td>8</td>\n",
              "      <td>2010-12-01 08:26:00</td>\n",
              "      <td>2.75</td>\n",
              "      <td>17850.0</td>\n",
              "      <td>United Kingdom</td>\n",
              "      <td>NaT</td>\n",
              "    </tr>\n",
              "    <tr>\n",
              "      <th>3</th>\n",
              "      <td>536365</td>\n",
              "      <td>84029G</td>\n",
              "      <td>KNITTED UNION FLAG HOT WATER BOTTLE</td>\n",
              "      <td>6</td>\n",
              "      <td>2010-12-01 08:26:00</td>\n",
              "      <td>3.39</td>\n",
              "      <td>17850.0</td>\n",
              "      <td>United Kingdom</td>\n",
              "      <td>NaT</td>\n",
              "    </tr>\n",
              "    <tr>\n",
              "      <th>4</th>\n",
              "      <td>536365</td>\n",
              "      <td>84029E</td>\n",
              "      <td>RED WOOLLY HOTTIE WHITE HEART.</td>\n",
              "      <td>6</td>\n",
              "      <td>2010-12-01 08:26:00</td>\n",
              "      <td>3.39</td>\n",
              "      <td>17850.0</td>\n",
              "      <td>United Kingdom</td>\n",
              "      <td>NaT</td>\n",
              "    </tr>\n",
              "  </tbody>\n",
              "</table>\n",
              "</div>"
            ],
            "text/plain": [
              "  InvoiceNo StockCode                          Description  Quantity  \\\n",
              "0    536365    85123A   WHITE HANGING HEART T-LIGHT HOLDER         6   \n",
              "1    536365     71053                  WHITE METAL LANTERN         6   \n",
              "2    536365    84406B       CREAM CUPID HEARTS COAT HANGER         8   \n",
              "3    536365    84029G  KNITTED UNION FLAG HOT WATER BOTTLE         6   \n",
              "4    536365    84029E       RED WOOLLY HOTTIE WHITE HEART.         6   \n",
              "\n",
              "          InvoiceDate  UnitPrice  CustomerID         Country mindate  \n",
              "0 2010-12-01 08:26:00       2.55     17850.0  United Kingdom     NaT  \n",
              "1 2010-12-01 08:26:00       3.39     17850.0  United Kingdom     NaT  \n",
              "2 2010-12-01 08:26:00       2.75     17850.0  United Kingdom     NaT  \n",
              "3 2010-12-01 08:26:00       3.39     17850.0  United Kingdom     NaT  \n",
              "4 2010-12-01 08:26:00       3.39     17850.0  United Kingdom     NaT  "
            ]
          },
          "metadata": {
            "tags": []
          },
          "execution_count": 14
        }
      ]
    },
    {
      "cell_type": "code",
      "metadata": {
        "id": "E82VrLfCWeLv",
        "outputId": "c36670ab-e540-4dca-e426-e2b0319aa886"
      },
      "source": [
        "df['month']=pd.DatetimeIndex(df['InvoiceDate']).month\n",
        "df['year'] = pd.DatetimeIndex(df['InvoiceDate']).year\n",
        "df['dow'] = pd.DatetimeIndex(df['InvoiceDate']).dayofweek\n",
        "df.tail(2)\n",
        "df.info()"
      ],
      "execution_count": null,
      "outputs": [
        {
          "output_type": "stream",
          "text": [
            "<class 'pandas.core.frame.DataFrame'>\n",
            "RangeIndex: 541909 entries, 0 to 541908\n",
            "Data columns (total 12 columns):\n",
            " #   Column       Non-Null Count   Dtype         \n",
            "---  ------       --------------   -----         \n",
            " 0   InvoiceNo    541909 non-null  object        \n",
            " 1   StockCode    541909 non-null  object        \n",
            " 2   Description  540455 non-null  object        \n",
            " 3   Quantity     541909 non-null  int64         \n",
            " 4   InvoiceDate  541909 non-null  datetime64[ns]\n",
            " 5   UnitPrice    541909 non-null  float64       \n",
            " 6   CustomerID   406829 non-null  float64       \n",
            " 7   Country      541909 non-null  object        \n",
            " 8   mindate      0 non-null       datetime64[ns]\n",
            " 9   month        541909 non-null  int64         \n",
            " 10  year         541909 non-null  int64         \n",
            " 11  dow          541909 non-null  int64         \n",
            "dtypes: datetime64[ns](2), float64(2), int64(4), object(4)\n",
            "memory usage: 49.6+ MB\n"
          ],
          "name": "stdout"
        }
      ]
    },
    {
      "cell_type": "markdown",
      "metadata": {
        "id": "fLK38oLWdYYV"
      },
      "source": [
        "Comment -\n",
        "\n",
        "Good job there!"
      ]
    },
    {
      "cell_type": "code",
      "metadata": {
        "id": "mbA9DZaEWeLv",
        "outputId": "21be6dda-ad45-455a-e59e-8a78903a8462"
      },
      "source": [
        "np.unique(df.dow.values)  #one day of week value is missing from the original data, nothing to do, ignore and continue"
      ],
      "execution_count": null,
      "outputs": [
        {
          "output_type": "execute_result",
          "data": {
            "text/plain": [
              "array([0, 1, 2, 3, 4, 6], dtype=int64)"
            ]
          },
          "metadata": {
            "tags": []
          },
          "execution_count": 16
        }
      ]
    },
    {
      "cell_type": "markdown",
      "metadata": {
        "id": "sWhVSyU-dg0j"
      },
      "source": [
        "Comment-\n",
        "Do you know which day it is? Check the documentation for datetime on what 0 to 6 means."
      ]
    },
    {
      "cell_type": "code",
      "metadata": {
        "id": "oALg8S7zWeLv",
        "outputId": "2d2a2581-18f6-4de0-835b-a4fd77798c5f"
      },
      "source": [
        "df[\"mindate\"] = pd.Timestamp(\"01-12-2010 8:26\")\n",
        "df.info()"
      ],
      "execution_count": null,
      "outputs": [
        {
          "output_type": "stream",
          "text": [
            "<class 'pandas.core.frame.DataFrame'>\n",
            "RangeIndex: 541909 entries, 0 to 541908\n",
            "Data columns (total 12 columns):\n",
            " #   Column       Non-Null Count   Dtype         \n",
            "---  ------       --------------   -----         \n",
            " 0   InvoiceNo    541909 non-null  object        \n",
            " 1   StockCode    541909 non-null  object        \n",
            " 2   Description  540455 non-null  object        \n",
            " 3   Quantity     541909 non-null  int64         \n",
            " 4   InvoiceDate  541909 non-null  datetime64[ns]\n",
            " 5   UnitPrice    541909 non-null  float64       \n",
            " 6   CustomerID   406829 non-null  float64       \n",
            " 7   Country      541909 non-null  object        \n",
            " 8   mindate      541909 non-null  datetime64[ns]\n",
            " 9   month        541909 non-null  int64         \n",
            " 10  year         541909 non-null  int64         \n",
            " 11  dow          541909 non-null  int64         \n",
            "dtypes: datetime64[ns](2), float64(2), int64(4), object(4)\n",
            "memory usage: 49.6+ MB\n"
          ],
          "name": "stdout"
        }
      ]
    },
    {
      "cell_type": "code",
      "metadata": {
        "id": "jsnKrFGVWeLv",
        "outputId": "97eeef6a-a90c-4258-e113-437e5c1c85d2"
      },
      "source": [
        "maxdate = max(df['InvoiceDate'])\n",
        "df['dp'] = maxdate - df['InvoiceDate']\n",
        "df['days'] =df['InvoiceDate'] - df['mindate']\n",
        "df.head()"
      ],
      "execution_count": null,
      "outputs": [
        {
          "output_type": "execute_result",
          "data": {
            "text/html": [
              "<div>\n",
              "<style scoped>\n",
              "    .dataframe tbody tr th:only-of-type {\n",
              "        vertical-align: middle;\n",
              "    }\n",
              "\n",
              "    .dataframe tbody tr th {\n",
              "        vertical-align: top;\n",
              "    }\n",
              "\n",
              "    .dataframe thead th {\n",
              "        text-align: right;\n",
              "    }\n",
              "</style>\n",
              "<table border=\"1\" class=\"dataframe\">\n",
              "  <thead>\n",
              "    <tr style=\"text-align: right;\">\n",
              "      <th></th>\n",
              "      <th>InvoiceNo</th>\n",
              "      <th>StockCode</th>\n",
              "      <th>Description</th>\n",
              "      <th>Quantity</th>\n",
              "      <th>InvoiceDate</th>\n",
              "      <th>UnitPrice</th>\n",
              "      <th>CustomerID</th>\n",
              "      <th>Country</th>\n",
              "      <th>mindate</th>\n",
              "      <th>month</th>\n",
              "      <th>year</th>\n",
              "      <th>dow</th>\n",
              "      <th>dp</th>\n",
              "      <th>days</th>\n",
              "    </tr>\n",
              "  </thead>\n",
              "  <tbody>\n",
              "    <tr>\n",
              "      <th>0</th>\n",
              "      <td>536365</td>\n",
              "      <td>85123A</td>\n",
              "      <td>WHITE HANGING HEART T-LIGHT HOLDER</td>\n",
              "      <td>6</td>\n",
              "      <td>2010-12-01 08:26:00</td>\n",
              "      <td>2.55</td>\n",
              "      <td>17850.0</td>\n",
              "      <td>United Kingdom</td>\n",
              "      <td>2010-01-12 08:26:00</td>\n",
              "      <td>12</td>\n",
              "      <td>2010</td>\n",
              "      <td>2</td>\n",
              "      <td>373 days 04:24:00</td>\n",
              "      <td>323 days</td>\n",
              "    </tr>\n",
              "    <tr>\n",
              "      <th>1</th>\n",
              "      <td>536365</td>\n",
              "      <td>71053</td>\n",
              "      <td>WHITE METAL LANTERN</td>\n",
              "      <td>6</td>\n",
              "      <td>2010-12-01 08:26:00</td>\n",
              "      <td>3.39</td>\n",
              "      <td>17850.0</td>\n",
              "      <td>United Kingdom</td>\n",
              "      <td>2010-01-12 08:26:00</td>\n",
              "      <td>12</td>\n",
              "      <td>2010</td>\n",
              "      <td>2</td>\n",
              "      <td>373 days 04:24:00</td>\n",
              "      <td>323 days</td>\n",
              "    </tr>\n",
              "    <tr>\n",
              "      <th>2</th>\n",
              "      <td>536365</td>\n",
              "      <td>84406B</td>\n",
              "      <td>CREAM CUPID HEARTS COAT HANGER</td>\n",
              "      <td>8</td>\n",
              "      <td>2010-12-01 08:26:00</td>\n",
              "      <td>2.75</td>\n",
              "      <td>17850.0</td>\n",
              "      <td>United Kingdom</td>\n",
              "      <td>2010-01-12 08:26:00</td>\n",
              "      <td>12</td>\n",
              "      <td>2010</td>\n",
              "      <td>2</td>\n",
              "      <td>373 days 04:24:00</td>\n",
              "      <td>323 days</td>\n",
              "    </tr>\n",
              "    <tr>\n",
              "      <th>3</th>\n",
              "      <td>536365</td>\n",
              "      <td>84029G</td>\n",
              "      <td>KNITTED UNION FLAG HOT WATER BOTTLE</td>\n",
              "      <td>6</td>\n",
              "      <td>2010-12-01 08:26:00</td>\n",
              "      <td>3.39</td>\n",
              "      <td>17850.0</td>\n",
              "      <td>United Kingdom</td>\n",
              "      <td>2010-01-12 08:26:00</td>\n",
              "      <td>12</td>\n",
              "      <td>2010</td>\n",
              "      <td>2</td>\n",
              "      <td>373 days 04:24:00</td>\n",
              "      <td>323 days</td>\n",
              "    </tr>\n",
              "    <tr>\n",
              "      <th>4</th>\n",
              "      <td>536365</td>\n",
              "      <td>84029E</td>\n",
              "      <td>RED WOOLLY HOTTIE WHITE HEART.</td>\n",
              "      <td>6</td>\n",
              "      <td>2010-12-01 08:26:00</td>\n",
              "      <td>3.39</td>\n",
              "      <td>17850.0</td>\n",
              "      <td>United Kingdom</td>\n",
              "      <td>2010-01-12 08:26:00</td>\n",
              "      <td>12</td>\n",
              "      <td>2010</td>\n",
              "      <td>2</td>\n",
              "      <td>373 days 04:24:00</td>\n",
              "      <td>323 days</td>\n",
              "    </tr>\n",
              "  </tbody>\n",
              "</table>\n",
              "</div>"
            ],
            "text/plain": [
              "  InvoiceNo StockCode                          Description  Quantity  \\\n",
              "0    536365    85123A   WHITE HANGING HEART T-LIGHT HOLDER         6   \n",
              "1    536365     71053                  WHITE METAL LANTERN         6   \n",
              "2    536365    84406B       CREAM CUPID HEARTS COAT HANGER         8   \n",
              "3    536365    84029G  KNITTED UNION FLAG HOT WATER BOTTLE         6   \n",
              "4    536365    84029E       RED WOOLLY HOTTIE WHITE HEART.         6   \n",
              "\n",
              "          InvoiceDate  UnitPrice  CustomerID         Country  \\\n",
              "0 2010-12-01 08:26:00       2.55     17850.0  United Kingdom   \n",
              "1 2010-12-01 08:26:00       3.39     17850.0  United Kingdom   \n",
              "2 2010-12-01 08:26:00       2.75     17850.0  United Kingdom   \n",
              "3 2010-12-01 08:26:00       3.39     17850.0  United Kingdom   \n",
              "4 2010-12-01 08:26:00       3.39     17850.0  United Kingdom   \n",
              "\n",
              "              mindate  month  year  dow                dp     days  \n",
              "0 2010-01-12 08:26:00     12  2010    2 373 days 04:24:00 323 days  \n",
              "1 2010-01-12 08:26:00     12  2010    2 373 days 04:24:00 323 days  \n",
              "2 2010-01-12 08:26:00     12  2010    2 373 days 04:24:00 323 days  \n",
              "3 2010-01-12 08:26:00     12  2010    2 373 days 04:24:00 323 days  \n",
              "4 2010-01-12 08:26:00     12  2010    2 373 days 04:24:00 323 days  "
            ]
          },
          "metadata": {
            "tags": []
          },
          "execution_count": 18
        }
      ]
    },
    {
      "cell_type": "markdown",
      "metadata": {
        "id": "akm5sjUSd3Cx"
      },
      "source": [
        "Comment -\n",
        "\n",
        "Why did you do this? Not sure I understand your objective. Use more user friendly column names and use markdown to describe your thought process."
      ]
    },
    {
      "cell_type": "code",
      "metadata": {
        "id": "ytyxGud8WeLw",
        "outputId": "1997d6ac-15de-4398-8d02-53b24d6dad31"
      },
      "source": [
        "df['dp'] = pd.to_numeric(df['dp'].dt.days, downcast='integer')\n",
        "df['days'] = pd.to_numeric(df['days'].dt.days, downcast='integer')\n",
        "df['revenue']= df ['Quantity']* df['UnitPrice']\n",
        "df.head(2)"
      ],
      "execution_count": null,
      "outputs": [
        {
          "output_type": "execute_result",
          "data": {
            "text/html": [
              "<div>\n",
              "<style scoped>\n",
              "    .dataframe tbody tr th:only-of-type {\n",
              "        vertical-align: middle;\n",
              "    }\n",
              "\n",
              "    .dataframe tbody tr th {\n",
              "        vertical-align: top;\n",
              "    }\n",
              "\n",
              "    .dataframe thead th {\n",
              "        text-align: right;\n",
              "    }\n",
              "</style>\n",
              "<table border=\"1\" class=\"dataframe\">\n",
              "  <thead>\n",
              "    <tr style=\"text-align: right;\">\n",
              "      <th></th>\n",
              "      <th>InvoiceNo</th>\n",
              "      <th>StockCode</th>\n",
              "      <th>Description</th>\n",
              "      <th>Quantity</th>\n",
              "      <th>InvoiceDate</th>\n",
              "      <th>UnitPrice</th>\n",
              "      <th>CustomerID</th>\n",
              "      <th>Country</th>\n",
              "      <th>mindate</th>\n",
              "      <th>month</th>\n",
              "      <th>year</th>\n",
              "      <th>dow</th>\n",
              "      <th>dp</th>\n",
              "      <th>days</th>\n",
              "      <th>revenue</th>\n",
              "    </tr>\n",
              "  </thead>\n",
              "  <tbody>\n",
              "    <tr>\n",
              "      <th>0</th>\n",
              "      <td>536365</td>\n",
              "      <td>85123A</td>\n",
              "      <td>WHITE HANGING HEART T-LIGHT HOLDER</td>\n",
              "      <td>6</td>\n",
              "      <td>2010-12-01 08:26:00</td>\n",
              "      <td>2.55</td>\n",
              "      <td>17850.0</td>\n",
              "      <td>United Kingdom</td>\n",
              "      <td>2010-01-12 08:26:00</td>\n",
              "      <td>12</td>\n",
              "      <td>2010</td>\n",
              "      <td>2</td>\n",
              "      <td>373</td>\n",
              "      <td>323</td>\n",
              "      <td>15.30</td>\n",
              "    </tr>\n",
              "    <tr>\n",
              "      <th>1</th>\n",
              "      <td>536365</td>\n",
              "      <td>71053</td>\n",
              "      <td>WHITE METAL LANTERN</td>\n",
              "      <td>6</td>\n",
              "      <td>2010-12-01 08:26:00</td>\n",
              "      <td>3.39</td>\n",
              "      <td>17850.0</td>\n",
              "      <td>United Kingdom</td>\n",
              "      <td>2010-01-12 08:26:00</td>\n",
              "      <td>12</td>\n",
              "      <td>2010</td>\n",
              "      <td>2</td>\n",
              "      <td>373</td>\n",
              "      <td>323</td>\n",
              "      <td>20.34</td>\n",
              "    </tr>\n",
              "  </tbody>\n",
              "</table>\n",
              "</div>"
            ],
            "text/plain": [
              "  InvoiceNo StockCode                         Description  Quantity  \\\n",
              "0    536365    85123A  WHITE HANGING HEART T-LIGHT HOLDER         6   \n",
              "1    536365     71053                 WHITE METAL LANTERN         6   \n",
              "\n",
              "          InvoiceDate  UnitPrice  CustomerID         Country  \\\n",
              "0 2010-12-01 08:26:00       2.55     17850.0  United Kingdom   \n",
              "1 2010-12-01 08:26:00       3.39     17850.0  United Kingdom   \n",
              "\n",
              "              mindate  month  year  dow   dp  days  revenue  \n",
              "0 2010-01-12 08:26:00     12  2010    2  373   323    15.30  \n",
              "1 2010-01-12 08:26:00     12  2010    2  373   323    20.34  "
            ]
          },
          "metadata": {
            "tags": []
          },
          "execution_count": 19
        }
      ]
    },
    {
      "cell_type": "code",
      "metadata": {
        "id": "CRweHPWIWeLw",
        "outputId": "5448f757-0c00-4036-d5e1-0b269fe71c15"
      },
      "source": [
        "import matplotlib.pyplot as plt\n",
        "c_pivot=df.pivot_table(index='Country', values='revenue')\n",
        "c_pivot.plot.bar(figsize=(12,6))\n",
        "plt.show()"
      ],
      "execution_count": null,
      "outputs": [
        {
          "output_type": "display_data",
          "data": {
            "image/png": "[encoded data removed]",
            "text/plain": [
              "<Figure size 864x432 with 1 Axes>"
            ]
          },
          "metadata": {
            "tags": [],
            "needs_background": "light"
          }
        }
      ]
    },
    {
      "cell_type": "code",
      "metadata": {
        "id": "CxK7SIdPWeLw",
        "outputId": "1a1cd107-0230-43c9-d5a7-c2d8ad683367"
      },
      "source": [
        "import matplotlib.pyplot as plt\n",
        "c_pivot=df.pivot_table(index='month', values='revenue')\n",
        "c_pivot.plot.bar(figsize=(12,6))\n",
        "plt.show()"
      ],
      "execution_count": null,
      "outputs": [
        {
          "output_type": "display_data",
          "data": {
            "image/png": "[encoded data removed]",
            "text/plain": [
              "<Figure size 864x432 with 1 Axes>"
            ]
          },
          "metadata": {
            "tags": [],
            "needs_background": "light"
          }
        }
      ]
    },
    {
      "cell_type": "code",
      "metadata": {
        "id": "WKslOKQNWeLx",
        "outputId": "43890a8d-8d89-4bd0-df1b-5e19797c811c"
      },
      "source": [
        "import matplotlib.pyplot as plt\n",
        "c_pivot=df.pivot_table(index='year', values='revenue')\n",
        "c_pivot.plot.bar(figsize=(12,6))\n",
        "plt.show()"
      ],
      "execution_count": null,
      "outputs": [
        {
          "output_type": "display_data",
          "data": {
            "image/png": "[encoded data removed]",
            "text/plain": [
              "<Figure size 864x432 with 1 Axes>"
            ]
          },
          "metadata": {
            "tags": [],
            "needs_background": "light"
          }
        }
      ]
    },
    {
      "cell_type": "code",
      "metadata": {
        "id": "g5CpH73DWeLx",
        "outputId": "b934a0fd-e5c0-4ca3-e850-536cd1f7e1d6"
      },
      "source": [
        "import matplotlib.pyplot as plt\n",
        "c_pivot=df.pivot_table(index='dow', values='revenue')\n",
        "c_pivot.plot.bar(figsize=(12,6))\n",
        "plt.show()"
      ],
      "execution_count": null,
      "outputs": [
        {
          "output_type": "display_data",
          "data": {
            "image/png": "[encoded data removed]",
            "text/plain": [
              "<Figure size 864x432 with 1 Axes>"
            ]
          },
          "metadata": {
            "tags": [],
            "needs_background": "light"
          }
        }
      ]
    },
    {
      "cell_type": "code",
      "metadata": {
        "id": "KKx3J0k8WeLx",
        "outputId": "2d3668d9-2bd5-4d4f-fcf5-fe8ea3e48d61"
      },
      "source": [
        "df.info()  #final datatypes after conversions and adding new columns"
      ],
      "execution_count": null,
      "outputs": [
        {
          "output_type": "stream",
          "text": [
            "<class 'pandas.core.frame.DataFrame'>\n",
            "RangeIndex: 541909 entries, 0 to 541908\n",
            "Data columns (total 15 columns):\n",
            " #   Column       Non-Null Count   Dtype         \n",
            "---  ------       --------------   -----         \n",
            " 0   InvoiceNo    541909 non-null  object        \n",
            " 1   StockCode    541909 non-null  object        \n",
            " 2   Description  540455 non-null  object        \n",
            " 3   Quantity     541909 non-null  int64         \n",
            " 4   InvoiceDate  541909 non-null  datetime64[ns]\n",
            " 5   UnitPrice    541909 non-null  float64       \n",
            " 6   CustomerID   406829 non-null  float64       \n",
            " 7   Country      541909 non-null  object        \n",
            " 8   mindate      541909 non-null  datetime64[ns]\n",
            " 9   month        541909 non-null  int64         \n",
            " 10  year         541909 non-null  int64         \n",
            " 11  dow          541909 non-null  int64         \n",
            " 12  dp           541909 non-null  int16         \n",
            " 13  days         541909 non-null  int16         \n",
            " 14  revenue      541909 non-null  float64       \n",
            "dtypes: datetime64[ns](2), float64(3), int16(2), int64(4), object(4)\n",
            "memory usage: 55.8+ MB\n"
          ],
          "name": "stdout"
        }
      ]
    },
    {
      "cell_type": "code",
      "metadata": {
        "id": "-7QpqamSWeLx",
        "outputId": "7a46919c-6780-4893-b279-6ea6ab8b1785"
      },
      "source": [
        "boxplot_cols=['Quantity', 'UnitPrice', 'CustomerID','days', 'revenue', 'month', 'dow', 'Country', 'InvoiceNo']\n",
        "df[boxplot_cols].plot(kind='box', subplots=True, layout=(1,9), figsize=(16,5))"
      ],
      "execution_count": null,
      "outputs": [
        {
          "output_type": "execute_result",
          "data": {
            "text/plain": [
              "Quantity         AxesSubplot(0.125,0.125;0.0731132x0.755)\n",
              "UnitPrice     AxesSubplot(0.212736,0.125;0.0731132x0.755)\n",
              "CustomerID    AxesSubplot(0.300472,0.125;0.0731132x0.755)\n",
              "days          AxesSubplot(0.388208,0.125;0.0731132x0.755)\n",
              "revenue       AxesSubplot(0.475943,0.125;0.0731132x0.755)\n",
              "month         AxesSubplot(0.563679,0.125;0.0731132x0.755)\n",
              "dow           AxesSubplot(0.651415,0.125;0.0731132x0.755)\n",
              "dtype: object"
            ]
          },
          "metadata": {
            "tags": []
          },
          "execution_count": 25
        },
        {
          "output_type": "display_data",
          "data": {
            "image/png": "[encoded data removed]",
            "text/plain": [
              "<Figure size 1152x360 with 9 Axes>"
            ]
          },
          "metadata": {
            "tags": [],
            "needs_background": "light"
          }
        }
      ]
    },
    {
      "cell_type": "code",
      "metadata": {
        "id": "XzqyY8VKWeLy",
        "outputId": "160e611e-4563-439d-91e9-c4bc6bc07202"
      },
      "source": [
        "corr=df[['Quantity', 'UnitPrice', 'days', 'revenue','CustomerID' , 'month', 'dow', 'Country']].corr()  #only correlation between Quantity and revenue--makes sense\n",
        "corr"
      ],
      "execution_count": null,
      "outputs": [
        {
          "output_type": "execute_result",
          "data": {
            "text/html": [
              "<div>\n",
              "<style scoped>\n",
              "    .dataframe tbody tr th:only-of-type {\n",
              "        vertical-align: middle;\n",
              "    }\n",
              "\n",
              "    .dataframe tbody tr th {\n",
              "        vertical-align: top;\n",
              "    }\n",
              "\n",
              "    .dataframe thead th {\n",
              "        text-align: right;\n",
              "    }\n",
              "</style>\n",
              "<table border=\"1\" class=\"dataframe\">\n",
              "  <thead>\n",
              "    <tr style=\"text-align: right;\">\n",
              "      <th></th>\n",
              "      <th>Quantity</th>\n",
              "      <th>UnitPrice</th>\n",
              "      <th>days</th>\n",
              "      <th>revenue</th>\n",
              "      <th>CustomerID</th>\n",
              "      <th>month</th>\n",
              "      <th>dow</th>\n",
              "    </tr>\n",
              "  </thead>\n",
              "  <tbody>\n",
              "    <tr>\n",
              "      <th>Quantity</th>\n",
              "      <td>1.000000</td>\n",
              "      <td>-0.001235</td>\n",
              "      <td>0.000658</td>\n",
              "      <td>0.886681</td>\n",
              "      <td>-0.003600</td>\n",
              "      <td>-0.001116</td>\n",
              "      <td>-0.000904</td>\n",
              "    </tr>\n",
              "    <tr>\n",
              "      <th>UnitPrice</th>\n",
              "      <td>-0.001235</td>\n",
              "      <td>1.000000</td>\n",
              "      <td>-0.004547</td>\n",
              "      <td>-0.162029</td>\n",
              "      <td>-0.004560</td>\n",
              "      <td>-0.000497</td>\n",
              "      <td>-0.007310</td>\n",
              "    </tr>\n",
              "    <tr>\n",
              "      <th>days</th>\n",
              "      <td>0.000658</td>\n",
              "      <td>-0.004547</td>\n",
              "      <td>1.000000</td>\n",
              "      <td>0.000338</td>\n",
              "      <td>-0.000699</td>\n",
              "      <td>0.600329</td>\n",
              "      <td>0.029152</td>\n",
              "    </tr>\n",
              "    <tr>\n",
              "      <th>revenue</th>\n",
              "      <td>0.886681</td>\n",
              "      <td>-0.162029</td>\n",
              "      <td>0.000338</td>\n",
              "      <td>1.000000</td>\n",
              "      <td>-0.002274</td>\n",
              "      <td>0.000141</td>\n",
              "      <td>-0.002458</td>\n",
              "    </tr>\n",
              "    <tr>\n",
              "      <th>CustomerID</th>\n",
              "      <td>-0.003600</td>\n",
              "      <td>-0.004560</td>\n",
              "      <td>-0.000699</td>\n",
              "      <td>-0.002274</td>\n",
              "      <td>1.000000</td>\n",
              "      <td>0.030612</td>\n",
              "      <td>0.020822</td>\n",
              "    </tr>\n",
              "    <tr>\n",
              "      <th>month</th>\n",
              "      <td>-0.001116</td>\n",
              "      <td>-0.000497</td>\n",
              "      <td>0.600329</td>\n",
              "      <td>0.000141</td>\n",
              "      <td>0.030612</td>\n",
              "      <td>1.000000</td>\n",
              "      <td>0.040045</td>\n",
              "    </tr>\n",
              "    <tr>\n",
              "      <th>dow</th>\n",
              "      <td>-0.000904</td>\n",
              "      <td>-0.007310</td>\n",
              "      <td>0.029152</td>\n",
              "      <td>-0.002458</td>\n",
              "      <td>0.020822</td>\n",
              "      <td>0.040045</td>\n",
              "      <td>1.000000</td>\n",
              "    </tr>\n",
              "  </tbody>\n",
              "</table>\n",
              "</div>"
            ],
            "text/plain": [
              "            Quantity  UnitPrice      days   revenue  CustomerID     month  \\\n",
              "Quantity    1.000000  -0.001235  0.000658  0.886681   -0.003600 -0.001116   \n",
              "UnitPrice  -0.001235   1.000000 -0.004547 -0.162029   -0.004560 -0.000497   \n",
              "days        0.000658  -0.004547  1.000000  0.000338   -0.000699  0.600329   \n",
              "revenue     0.886681  -0.162029  0.000338  1.000000   -0.002274  0.000141   \n",
              "CustomerID -0.003600  -0.004560 -0.000699 -0.002274    1.000000  0.030612   \n",
              "month      -0.001116  -0.000497  0.600329  0.000141    0.030612  1.000000   \n",
              "dow        -0.000904  -0.007310  0.029152 -0.002458    0.020822  0.040045   \n",
              "\n",
              "                 dow  \n",
              "Quantity   -0.000904  \n",
              "UnitPrice  -0.007310  \n",
              "days        0.029152  \n",
              "revenue    -0.002458  \n",
              "CustomerID  0.020822  \n",
              "month       0.040045  \n",
              "dow         1.000000  "
            ]
          },
          "metadata": {
            "tags": []
          },
          "execution_count": 26
        }
      ]
    },
    {
      "cell_type": "code",
      "metadata": {
        "id": "HiRqqKNGWeLy",
        "outputId": "fb38148b-e01a-4b5b-bf7c-ab70cc9bf231"
      },
      "source": [
        "fig=plt.figure(figsize=(6,6))\n",
        "plt.matshow(corr, cmap='RdBu', fignum=fig.number)\n",
        "plt.xticks(range(len(corr.columns)), corr.columns, rotation='vertical');\n",
        "plt.yticks(range(len(corr.columns)), corr.columns);  #only correlation between Quantity and revenue--makes sense"
      ],
      "execution_count": null,
      "outputs": [
        {
          "output_type": "display_data",
          "data": {
            "image/png": "[encoded data removed]",
            "text/plain": [
              "<Figure size 432x432 with 1 Axes>"
            ]
          },
          "metadata": {
            "tags": [],
            "needs_background": "light"
          }
        }
      ]
    },
    {
      "cell_type": "code",
      "metadata": {
        "id": "6bJ8q349WeLy",
        "outputId": "b9b5cba8-1ad2-4589-9e35-7f553245b4f4"
      },
      "source": [
        "df.describe()"
      ],
      "execution_count": null,
      "outputs": [
        {
          "output_type": "execute_result",
          "data": {
            "text/html": [
              "<div>\n",
              "<style scoped>\n",
              "    .dataframe tbody tr th:only-of-type {\n",
              "        vertical-align: middle;\n",
              "    }\n",
              "\n",
              "    .dataframe tbody tr th {\n",
              "        vertical-align: top;\n",
              "    }\n",
              "\n",
              "    .dataframe thead th {\n",
              "        text-align: right;\n",
              "    }\n",
              "</style>\n",
              "<table border=\"1\" class=\"dataframe\">\n",
              "  <thead>\n",
              "    <tr style=\"text-align: right;\">\n",
              "      <th></th>\n",
              "      <th>Quantity</th>\n",
              "      <th>UnitPrice</th>\n",
              "      <th>CustomerID</th>\n",
              "      <th>month</th>\n",
              "      <th>year</th>\n",
              "      <th>dow</th>\n",
              "      <th>dp</th>\n",
              "      <th>days</th>\n",
              "      <th>revenue</th>\n",
              "    </tr>\n",
              "  </thead>\n",
              "  <tbody>\n",
              "    <tr>\n",
              "      <th>count</th>\n",
              "      <td>541909.000000</td>\n",
              "      <td>541909.000000</td>\n",
              "      <td>406829.000000</td>\n",
              "      <td>541909.000000</td>\n",
              "      <td>541909.000000</td>\n",
              "      <td>541909.000000</td>\n",
              "      <td>541909.000000</td>\n",
              "      <td>541909.000000</td>\n",
              "      <td>541909.000000</td>\n",
              "    </tr>\n",
              "    <tr>\n",
              "      <th>mean</th>\n",
              "      <td>9.552250</td>\n",
              "      <td>4.611114</td>\n",
              "      <td>15287.690570</td>\n",
              "      <td>7.553128</td>\n",
              "      <td>2010.921609</td>\n",
              "      <td>2.431277</td>\n",
              "      <td>157.403319</td>\n",
              "      <td>537.994966</td>\n",
              "      <td>17.987795</td>\n",
              "    </tr>\n",
              "    <tr>\n",
              "      <th>std</th>\n",
              "      <td>218.081158</td>\n",
              "      <td>96.759853</td>\n",
              "      <td>1713.600303</td>\n",
              "      <td>3.509055</td>\n",
              "      <td>0.268787</td>\n",
              "      <td>1.844709</td>\n",
              "      <td>115.883491</td>\n",
              "      <td>115.877117</td>\n",
              "      <td>378.810824</td>\n",
              "    </tr>\n",
              "    <tr>\n",
              "      <th>min</th>\n",
              "      <td>-80995.000000</td>\n",
              "      <td>-11062.060000</td>\n",
              "      <td>12346.000000</td>\n",
              "      <td>1.000000</td>\n",
              "      <td>2010.000000</td>\n",
              "      <td>0.000000</td>\n",
              "      <td>0.000000</td>\n",
              "      <td>323.000000</td>\n",
              "      <td>-168469.600000</td>\n",
              "    </tr>\n",
              "    <tr>\n",
              "      <th>25%</th>\n",
              "      <td>1.000000</td>\n",
              "      <td>1.250000</td>\n",
              "      <td>13953.000000</td>\n",
              "      <td>5.000000</td>\n",
              "      <td>2011.000000</td>\n",
              "      <td>1.000000</td>\n",
              "      <td>51.000000</td>\n",
              "      <td>440.000000</td>\n",
              "      <td>3.400000</td>\n",
              "    </tr>\n",
              "    <tr>\n",
              "      <th>50%</th>\n",
              "      <td>3.000000</td>\n",
              "      <td>2.080000</td>\n",
              "      <td>15152.000000</td>\n",
              "      <td>8.000000</td>\n",
              "      <td>2011.000000</td>\n",
              "      <td>2.000000</td>\n",
              "      <td>142.000000</td>\n",
              "      <td>553.000000</td>\n",
              "      <td>9.750000</td>\n",
              "    </tr>\n",
              "    <tr>\n",
              "      <th>75%</th>\n",
              "      <td>10.000000</td>\n",
              "      <td>4.130000</td>\n",
              "      <td>16791.000000</td>\n",
              "      <td>11.000000</td>\n",
              "      <td>2011.000000</td>\n",
              "      <td>4.000000</td>\n",
              "      <td>256.000000</td>\n",
              "      <td>645.000000</td>\n",
              "      <td>17.400000</td>\n",
              "    </tr>\n",
              "    <tr>\n",
              "      <th>max</th>\n",
              "      <td>80995.000000</td>\n",
              "      <td>38970.000000</td>\n",
              "      <td>18287.000000</td>\n",
              "      <td>12.000000</td>\n",
              "      <td>2011.000000</td>\n",
              "      <td>6.000000</td>\n",
              "      <td>373.000000</td>\n",
              "      <td>696.000000</td>\n",
              "      <td>168469.600000</td>\n",
              "    </tr>\n",
              "  </tbody>\n",
              "</table>\n",
              "</div>"
            ],
            "text/plain": [
              "            Quantity      UnitPrice     CustomerID          month  \\\n",
              "count  541909.000000  541909.000000  406829.000000  541909.000000   \n",
              "mean        9.552250       4.611114   15287.690570       7.553128   \n",
              "std       218.081158      96.759853    1713.600303       3.509055   \n",
              "min    -80995.000000  -11062.060000   12346.000000       1.000000   \n",
              "25%         1.000000       1.250000   13953.000000       5.000000   \n",
              "50%         3.000000       2.080000   15152.000000       8.000000   \n",
              "75%        10.000000       4.130000   16791.000000      11.000000   \n",
              "max     80995.000000   38970.000000   18287.000000      12.000000   \n",
              "\n",
              "                year            dow             dp           days  \\\n",
              "count  541909.000000  541909.000000  541909.000000  541909.000000   \n",
              "mean     2010.921609       2.431277     157.403319     537.994966   \n",
              "std         0.268787       1.844709     115.883491     115.877117   \n",
              "min      2010.000000       0.000000       0.000000     323.000000   \n",
              "25%      2011.000000       1.000000      51.000000     440.000000   \n",
              "50%      2011.000000       2.000000     142.000000     553.000000   \n",
              "75%      2011.000000       4.000000     256.000000     645.000000   \n",
              "max      2011.000000       6.000000     373.000000     696.000000   \n",
              "\n",
              "             revenue  \n",
              "count  541909.000000  \n",
              "mean       17.987795  \n",
              "std       378.810824  \n",
              "min   -168469.600000  \n",
              "25%         3.400000  \n",
              "50%         9.750000  \n",
              "75%        17.400000  \n",
              "max    168469.600000  "
            ]
          },
          "metadata": {
            "tags": []
          },
          "execution_count": 28
        }
      ]
    },
    {
      "cell_type": "code",
      "metadata": {
        "id": "svgpdPP5WeLy",
        "outputId": "1c4c11a8-8fac-454d-bd34-7c21c564e39c"
      },
      "source": [
        "df.head()"
      ],
      "execution_count": null,
      "outputs": [
        {
          "output_type": "execute_result",
          "data": {
            "text/html": [
              "<div>\n",
              "<style scoped>\n",
              "    .dataframe tbody tr th:only-of-type {\n",
              "        vertical-align: middle;\n",
              "    }\n",
              "\n",
              "    .dataframe tbody tr th {\n",
              "        vertical-align: top;\n",
              "    }\n",
              "\n",
              "    .dataframe thead th {\n",
              "        text-align: right;\n",
              "    }\n",
              "</style>\n",
              "<table border=\"1\" class=\"dataframe\">\n",
              "  <thead>\n",
              "    <tr style=\"text-align: right;\">\n",
              "      <th></th>\n",
              "      <th>InvoiceNo</th>\n",
              "      <th>StockCode</th>\n",
              "      <th>Description</th>\n",
              "      <th>Quantity</th>\n",
              "      <th>InvoiceDate</th>\n",
              "      <th>UnitPrice</th>\n",
              "      <th>CustomerID</th>\n",
              "      <th>Country</th>\n",
              "      <th>mindate</th>\n",
              "      <th>month</th>\n",
              "      <th>year</th>\n",
              "      <th>dow</th>\n",
              "      <th>dp</th>\n",
              "      <th>days</th>\n",
              "      <th>revenue</th>\n",
              "    </tr>\n",
              "  </thead>\n",
              "  <tbody>\n",
              "    <tr>\n",
              "      <th>0</th>\n",
              "      <td>536365</td>\n",
              "      <td>85123A</td>\n",
              "      <td>WHITE HANGING HEART T-LIGHT HOLDER</td>\n",
              "      <td>6</td>\n",
              "      <td>2010-12-01 08:26:00</td>\n",
              "      <td>2.55</td>\n",
              "      <td>17850.0</td>\n",
              "      <td>United Kingdom</td>\n",
              "      <td>2010-01-12 08:26:00</td>\n",
              "      <td>12</td>\n",
              "      <td>2010</td>\n",
              "      <td>2</td>\n",
              "      <td>373</td>\n",
              "      <td>323</td>\n",
              "      <td>15.30</td>\n",
              "    </tr>\n",
              "    <tr>\n",
              "      <th>1</th>\n",
              "      <td>536365</td>\n",
              "      <td>71053</td>\n",
              "      <td>WHITE METAL LANTERN</td>\n",
              "      <td>6</td>\n",
              "      <td>2010-12-01 08:26:00</td>\n",
              "      <td>3.39</td>\n",
              "      <td>17850.0</td>\n",
              "      <td>United Kingdom</td>\n",
              "      <td>2010-01-12 08:26:00</td>\n",
              "      <td>12</td>\n",
              "      <td>2010</td>\n",
              "      <td>2</td>\n",
              "      <td>373</td>\n",
              "      <td>323</td>\n",
              "      <td>20.34</td>\n",
              "    </tr>\n",
              "    <tr>\n",
              "      <th>2</th>\n",
              "      <td>536365</td>\n",
              "      <td>84406B</td>\n",
              "      <td>CREAM CUPID HEARTS COAT HANGER</td>\n",
              "      <td>8</td>\n",
              "      <td>2010-12-01 08:26:00</td>\n",
              "      <td>2.75</td>\n",
              "      <td>17850.0</td>\n",
              "      <td>United Kingdom</td>\n",
              "      <td>2010-01-12 08:26:00</td>\n",
              "      <td>12</td>\n",
              "      <td>2010</td>\n",
              "      <td>2</td>\n",
              "      <td>373</td>\n",
              "      <td>323</td>\n",
              "      <td>22.00</td>\n",
              "    </tr>\n",
              "    <tr>\n",
              "      <th>3</th>\n",
              "      <td>536365</td>\n",
              "      <td>84029G</td>\n",
              "      <td>KNITTED UNION FLAG HOT WATER BOTTLE</td>\n",
              "      <td>6</td>\n",
              "      <td>2010-12-01 08:26:00</td>\n",
              "      <td>3.39</td>\n",
              "      <td>17850.0</td>\n",
              "      <td>United Kingdom</td>\n",
              "      <td>2010-01-12 08:26:00</td>\n",
              "      <td>12</td>\n",
              "      <td>2010</td>\n",
              "      <td>2</td>\n",
              "      <td>373</td>\n",
              "      <td>323</td>\n",
              "      <td>20.34</td>\n",
              "    </tr>\n",
              "    <tr>\n",
              "      <th>4</th>\n",
              "      <td>536365</td>\n",
              "      <td>84029E</td>\n",
              "      <td>RED WOOLLY HOTTIE WHITE HEART.</td>\n",
              "      <td>6</td>\n",
              "      <td>2010-12-01 08:26:00</td>\n",
              "      <td>3.39</td>\n",
              "      <td>17850.0</td>\n",
              "      <td>United Kingdom</td>\n",
              "      <td>2010-01-12 08:26:00</td>\n",
              "      <td>12</td>\n",
              "      <td>2010</td>\n",
              "      <td>2</td>\n",
              "      <td>373</td>\n",
              "      <td>323</td>\n",
              "      <td>20.34</td>\n",
              "    </tr>\n",
              "  </tbody>\n",
              "</table>\n",
              "</div>"
            ],
            "text/plain": [
              "  InvoiceNo StockCode                          Description  Quantity  \\\n",
              "0    536365    85123A   WHITE HANGING HEART T-LIGHT HOLDER         6   \n",
              "1    536365     71053                  WHITE METAL LANTERN         6   \n",
              "2    536365    84406B       CREAM CUPID HEARTS COAT HANGER         8   \n",
              "3    536365    84029G  KNITTED UNION FLAG HOT WATER BOTTLE         6   \n",
              "4    536365    84029E       RED WOOLLY HOTTIE WHITE HEART.         6   \n",
              "\n",
              "          InvoiceDate  UnitPrice  CustomerID         Country  \\\n",
              "0 2010-12-01 08:26:00       2.55     17850.0  United Kingdom   \n",
              "1 2010-12-01 08:26:00       3.39     17850.0  United Kingdom   \n",
              "2 2010-12-01 08:26:00       2.75     17850.0  United Kingdom   \n",
              "3 2010-12-01 08:26:00       3.39     17850.0  United Kingdom   \n",
              "4 2010-12-01 08:26:00       3.39     17850.0  United Kingdom   \n",
              "\n",
              "              mindate  month  year  dow   dp  days  revenue  \n",
              "0 2010-01-12 08:26:00     12  2010    2  373   323    15.30  \n",
              "1 2010-01-12 08:26:00     12  2010    2  373   323    20.34  \n",
              "2 2010-01-12 08:26:00     12  2010    2  373   323    22.00  \n",
              "3 2010-01-12 08:26:00     12  2010    2  373   323    20.34  \n",
              "4 2010-01-12 08:26:00     12  2010    2  373   323    20.34  "
            ]
          },
          "metadata": {
            "tags": []
          },
          "execution_count": 29
        }
      ]
    },
    {
      "cell_type": "code",
      "metadata": {
        "id": "y1zARiCfWeLz",
        "outputId": "58bd55c9-67a8-4b14-f716-d239f772552a"
      },
      "source": [
        "df = df[(df.UnitPrice>0) & (df.Quantity>0)]  #remove negative Quantities and prices\n",
        "df.describe()"
      ],
      "execution_count": null,
      "outputs": [
        {
          "output_type": "execute_result",
          "data": {
            "text/html": [
              "<div>\n",
              "<style scoped>\n",
              "    .dataframe tbody tr th:only-of-type {\n",
              "        vertical-align: middle;\n",
              "    }\n",
              "\n",
              "    .dataframe tbody tr th {\n",
              "        vertical-align: top;\n",
              "    }\n",
              "\n",
              "    .dataframe thead th {\n",
              "        text-align: right;\n",
              "    }\n",
              "</style>\n",
              "<table border=\"1\" class=\"dataframe\">\n",
              "  <thead>\n",
              "    <tr style=\"text-align: right;\">\n",
              "      <th></th>\n",
              "      <th>Quantity</th>\n",
              "      <th>UnitPrice</th>\n",
              "      <th>CustomerID</th>\n",
              "      <th>month</th>\n",
              "      <th>year</th>\n",
              "      <th>dow</th>\n",
              "      <th>dp</th>\n",
              "      <th>days</th>\n",
              "      <th>revenue</th>\n",
              "    </tr>\n",
              "  </thead>\n",
              "  <tbody>\n",
              "    <tr>\n",
              "      <th>count</th>\n",
              "      <td>530104.000000</td>\n",
              "      <td>530104.000000</td>\n",
              "      <td>397884.000000</td>\n",
              "      <td>530104.000000</td>\n",
              "      <td>530104.000000</td>\n",
              "      <td>530104.000000</td>\n",
              "      <td>530104.000000</td>\n",
              "      <td>530104.000000</td>\n",
              "      <td>530104.000000</td>\n",
              "    </tr>\n",
              "    <tr>\n",
              "      <th>mean</th>\n",
              "      <td>10.542037</td>\n",
              "      <td>3.907625</td>\n",
              "      <td>15294.423453</td>\n",
              "      <td>7.560611</td>\n",
              "      <td>2010.921751</td>\n",
              "      <td>2.436626</td>\n",
              "      <td>157.124410</td>\n",
              "      <td>538.273671</td>\n",
              "      <td>20.121871</td>\n",
              "    </tr>\n",
              "    <tr>\n",
              "      <th>std</th>\n",
              "      <td>155.524124</td>\n",
              "      <td>35.915681</td>\n",
              "      <td>1713.141560</td>\n",
              "      <td>3.508496</td>\n",
              "      <td>0.268563</td>\n",
              "      <td>1.850651</td>\n",
              "      <td>115.927848</td>\n",
              "      <td>115.921079</td>\n",
              "      <td>270.356743</td>\n",
              "    </tr>\n",
              "    <tr>\n",
              "      <th>min</th>\n",
              "      <td>1.000000</td>\n",
              "      <td>0.001000</td>\n",
              "      <td>12346.000000</td>\n",
              "      <td>1.000000</td>\n",
              "      <td>2010.000000</td>\n",
              "      <td>0.000000</td>\n",
              "      <td>0.000000</td>\n",
              "      <td>323.000000</td>\n",
              "      <td>0.001000</td>\n",
              "    </tr>\n",
              "    <tr>\n",
              "      <th>25%</th>\n",
              "      <td>1.000000</td>\n",
              "      <td>1.250000</td>\n",
              "      <td>13969.000000</td>\n",
              "      <td>5.000000</td>\n",
              "      <td>2011.000000</td>\n",
              "      <td>1.000000</td>\n",
              "      <td>51.000000</td>\n",
              "      <td>440.000000</td>\n",
              "      <td>3.750000</td>\n",
              "    </tr>\n",
              "    <tr>\n",
              "      <th>50%</th>\n",
              "      <td>3.000000</td>\n",
              "      <td>2.080000</td>\n",
              "      <td>15159.000000</td>\n",
              "      <td>8.000000</td>\n",
              "      <td>2011.000000</td>\n",
              "      <td>2.000000</td>\n",
              "      <td>141.000000</td>\n",
              "      <td>554.000000</td>\n",
              "      <td>9.900000</td>\n",
              "    </tr>\n",
              "    <tr>\n",
              "      <th>75%</th>\n",
              "      <td>10.000000</td>\n",
              "      <td>4.130000</td>\n",
              "      <td>16795.000000</td>\n",
              "      <td>11.000000</td>\n",
              "      <td>2011.000000</td>\n",
              "      <td>4.000000</td>\n",
              "      <td>256.000000</td>\n",
              "      <td>645.000000</td>\n",
              "      <td>17.700000</td>\n",
              "    </tr>\n",
              "    <tr>\n",
              "      <th>max</th>\n",
              "      <td>80995.000000</td>\n",
              "      <td>13541.330000</td>\n",
              "      <td>18287.000000</td>\n",
              "      <td>12.000000</td>\n",
              "      <td>2011.000000</td>\n",
              "      <td>6.000000</td>\n",
              "      <td>373.000000</td>\n",
              "      <td>696.000000</td>\n",
              "      <td>168469.600000</td>\n",
              "    </tr>\n",
              "  </tbody>\n",
              "</table>\n",
              "</div>"
            ],
            "text/plain": [
              "            Quantity      UnitPrice     CustomerID          month  \\\n",
              "count  530104.000000  530104.000000  397884.000000  530104.000000   \n",
              "mean       10.542037       3.907625   15294.423453       7.560611   \n",
              "std       155.524124      35.915681    1713.141560       3.508496   \n",
              "min         1.000000       0.001000   12346.000000       1.000000   \n",
              "25%         1.000000       1.250000   13969.000000       5.000000   \n",
              "50%         3.000000       2.080000   15159.000000       8.000000   \n",
              "75%        10.000000       4.130000   16795.000000      11.000000   \n",
              "max     80995.000000   13541.330000   18287.000000      12.000000   \n",
              "\n",
              "                year            dow             dp           days  \\\n",
              "count  530104.000000  530104.000000  530104.000000  530104.000000   \n",
              "mean     2010.921751       2.436626     157.124410     538.273671   \n",
              "std         0.268563       1.850651     115.927848     115.921079   \n",
              "min      2010.000000       0.000000       0.000000     323.000000   \n",
              "25%      2011.000000       1.000000      51.000000     440.000000   \n",
              "50%      2011.000000       2.000000     141.000000     554.000000   \n",
              "75%      2011.000000       4.000000     256.000000     645.000000   \n",
              "max      2011.000000       6.000000     373.000000     696.000000   \n",
              "\n",
              "             revenue  \n",
              "count  530104.000000  \n",
              "mean       20.121871  \n",
              "std       270.356743  \n",
              "min         0.001000  \n",
              "25%         3.750000  \n",
              "50%         9.900000  \n",
              "75%        17.700000  \n",
              "max    168469.600000  "
            ]
          },
          "metadata": {
            "tags": []
          },
          "execution_count": 30
        }
      ]
    },
    {
      "cell_type": "code",
      "metadata": {
        "id": "dmVlzav2WeLz",
        "outputId": "e2617b2e-ad2e-4067-d615-ccb9b974692f"
      },
      "source": [
        "def display_missing(df):  #find out missing values per each column  --> CustomerID and description columns have null\n",
        "    for col in df.columns.tolist():\n",
        "        print('{} column missing values: {}'.format(col, df[col].isnull().sum())) #provide blank space, and fill with the value of sum of empty cells\n",
        "      #  print('\\n') # go to next line\n",
        "display_missing(df)"
      ],
      "execution_count": null,
      "outputs": [
        {
          "output_type": "stream",
          "text": [
            "InvoiceNo column missing values: 0\n",
            "StockCode column missing values: 0\n",
            "Description column missing values: 0\n",
            "Quantity column missing values: 0\n",
            "InvoiceDate column missing values: 0\n",
            "UnitPrice column missing values: 0\n",
            "CustomerID column missing values: 132220\n",
            "Country column missing values: 0\n",
            "mindate column missing values: 0\n",
            "month column missing values: 0\n",
            "year column missing values: 0\n",
            "dow column missing values: 0\n",
            "dp column missing values: 0\n",
            "days column missing values: 0\n",
            "revenue column missing values: 0\n"
          ],
          "name": "stdout"
        }
      ]
    },
    {
      "cell_type": "code",
      "metadata": {
        "id": "RgxUn1FIWeLz",
        "outputId": "16dfc20a-be31-4b31-a5a6-5fafca2eaa2c"
      },
      "source": [
        "df = df[df.CustomerID.notnull()].copy() #remove rows with empty CusotmerIds, need to identfy the customer\n",
        "df.describe()"
      ],
      "execution_count": null,
      "outputs": [
        {
          "output_type": "execute_result",
          "data": {
            "text/html": [
              "<div>\n",
              "<style scoped>\n",
              "    .dataframe tbody tr th:only-of-type {\n",
              "        vertical-align: middle;\n",
              "    }\n",
              "\n",
              "    .dataframe tbody tr th {\n",
              "        vertical-align: top;\n",
              "    }\n",
              "\n",
              "    .dataframe thead th {\n",
              "        text-align: right;\n",
              "    }\n",
              "</style>\n",
              "<table border=\"1\" class=\"dataframe\">\n",
              "  <thead>\n",
              "    <tr style=\"text-align: right;\">\n",
              "      <th></th>\n",
              "      <th>Quantity</th>\n",
              "      <th>UnitPrice</th>\n",
              "      <th>CustomerID</th>\n",
              "      <th>month</th>\n",
              "      <th>year</th>\n",
              "      <th>dow</th>\n",
              "      <th>dp</th>\n",
              "      <th>days</th>\n",
              "      <th>revenue</th>\n",
              "    </tr>\n",
              "  </thead>\n",
              "  <tbody>\n",
              "    <tr>\n",
              "      <th>count</th>\n",
              "      <td>397884.000000</td>\n",
              "      <td>397884.000000</td>\n",
              "      <td>397884.000000</td>\n",
              "      <td>397884.000000</td>\n",
              "      <td>397884.000000</td>\n",
              "      <td>397884.000000</td>\n",
              "      <td>397884.000000</td>\n",
              "      <td>397884.000000</td>\n",
              "      <td>397884.000000</td>\n",
              "    </tr>\n",
              "    <tr>\n",
              "      <th>mean</th>\n",
              "      <td>12.988238</td>\n",
              "      <td>3.116488</td>\n",
              "      <td>15294.423453</td>\n",
              "      <td>7.612475</td>\n",
              "      <td>2010.934260</td>\n",
              "      <td>2.614546</td>\n",
              "      <td>151.017304</td>\n",
              "      <td>544.428746</td>\n",
              "      <td>22.397000</td>\n",
              "    </tr>\n",
              "    <tr>\n",
              "      <th>std</th>\n",
              "      <td>179.331775</td>\n",
              "      <td>22.097877</td>\n",
              "      <td>1713.141560</td>\n",
              "      <td>3.416520</td>\n",
              "      <td>0.247828</td>\n",
              "      <td>1.928310</td>\n",
              "      <td>112.838746</td>\n",
              "      <td>112.819474</td>\n",
              "      <td>309.071041</td>\n",
              "    </tr>\n",
              "    <tr>\n",
              "      <th>min</th>\n",
              "      <td>1.000000</td>\n",
              "      <td>0.001000</td>\n",
              "      <td>12346.000000</td>\n",
              "      <td>1.000000</td>\n",
              "      <td>2010.000000</td>\n",
              "      <td>0.000000</td>\n",
              "      <td>0.000000</td>\n",
              "      <td>323.000000</td>\n",
              "      <td>0.001000</td>\n",
              "    </tr>\n",
              "    <tr>\n",
              "      <th>25%</th>\n",
              "      <td>2.000000</td>\n",
              "      <td>1.250000</td>\n",
              "      <td>13969.000000</td>\n",
              "      <td>5.000000</td>\n",
              "      <td>2011.000000</td>\n",
              "      <td>1.000000</td>\n",
              "      <td>49.000000</td>\n",
              "      <td>450.000000</td>\n",
              "      <td>4.680000</td>\n",
              "    </tr>\n",
              "    <tr>\n",
              "      <th>50%</th>\n",
              "      <td>6.000000</td>\n",
              "      <td>1.950000</td>\n",
              "      <td>15159.000000</td>\n",
              "      <td>8.000000</td>\n",
              "      <td>2011.000000</td>\n",
              "      <td>2.000000</td>\n",
              "      <td>130.000000</td>\n",
              "      <td>565.000000</td>\n",
              "      <td>11.800000</td>\n",
              "    </tr>\n",
              "    <tr>\n",
              "      <th>75%</th>\n",
              "      <td>12.000000</td>\n",
              "      <td>3.750000</td>\n",
              "      <td>16795.000000</td>\n",
              "      <td>11.000000</td>\n",
              "      <td>2011.000000</td>\n",
              "      <td>4.000000</td>\n",
              "      <td>246.000000</td>\n",
              "      <td>646.000000</td>\n",
              "      <td>19.800000</td>\n",
              "    </tr>\n",
              "    <tr>\n",
              "      <th>max</th>\n",
              "      <td>80995.000000</td>\n",
              "      <td>8142.750000</td>\n",
              "      <td>18287.000000</td>\n",
              "      <td>12.000000</td>\n",
              "      <td>2011.000000</td>\n",
              "      <td>6.000000</td>\n",
              "      <td>373.000000</td>\n",
              "      <td>696.000000</td>\n",
              "      <td>168469.600000</td>\n",
              "    </tr>\n",
              "  </tbody>\n",
              "</table>\n",
              "</div>"
            ],
            "text/plain": [
              "            Quantity      UnitPrice     CustomerID          month  \\\n",
              "count  397884.000000  397884.000000  397884.000000  397884.000000   \n",
              "mean       12.988238       3.116488   15294.423453       7.612475   \n",
              "std       179.331775      22.097877    1713.141560       3.416520   \n",
              "min         1.000000       0.001000   12346.000000       1.000000   \n",
              "25%         2.000000       1.250000   13969.000000       5.000000   \n",
              "50%         6.000000       1.950000   15159.000000       8.000000   \n",
              "75%        12.000000       3.750000   16795.000000      11.000000   \n",
              "max     80995.000000    8142.750000   18287.000000      12.000000   \n",
              "\n",
              "                year            dow             dp           days  \\\n",
              "count  397884.000000  397884.000000  397884.000000  397884.000000   \n",
              "mean     2010.934260       2.614546     151.017304     544.428746   \n",
              "std         0.247828       1.928310     112.838746     112.819474   \n",
              "min      2010.000000       0.000000       0.000000     323.000000   \n",
              "25%      2011.000000       1.000000      49.000000     450.000000   \n",
              "50%      2011.000000       2.000000     130.000000     565.000000   \n",
              "75%      2011.000000       4.000000     246.000000     646.000000   \n",
              "max      2011.000000       6.000000     373.000000     696.000000   \n",
              "\n",
              "             revenue  \n",
              "count  397884.000000  \n",
              "mean       22.397000  \n",
              "std       309.071041  \n",
              "min         0.001000  \n",
              "25%         4.680000  \n",
              "50%        11.800000  \n",
              "75%        19.800000  \n",
              "max    168469.600000  "
            ]
          },
          "metadata": {
            "tags": []
          },
          "execution_count": 32
        }
      ]
    },
    {
      "cell_type": "code",
      "metadata": {
        "id": "OogMXy96WeLz",
        "outputId": "2e0bc0b4-d8a8-4977-f7b0-d46b5d995655"
      },
      "source": [
        "df = df[df.Description.notnull()].copy()\n",
        "df.describe()"
      ],
      "execution_count": null,
      "outputs": [
        {
          "output_type": "execute_result",
          "data": {
            "text/html": [
              "<div>\n",
              "<style scoped>\n",
              "    .dataframe tbody tr th:only-of-type {\n",
              "        vertical-align: middle;\n",
              "    }\n",
              "\n",
              "    .dataframe tbody tr th {\n",
              "        vertical-align: top;\n",
              "    }\n",
              "\n",
              "    .dataframe thead th {\n",
              "        text-align: right;\n",
              "    }\n",
              "</style>\n",
              "<table border=\"1\" class=\"dataframe\">\n",
              "  <thead>\n",
              "    <tr style=\"text-align: right;\">\n",
              "      <th></th>\n",
              "      <th>Quantity</th>\n",
              "      <th>UnitPrice</th>\n",
              "      <th>CustomerID</th>\n",
              "      <th>month</th>\n",
              "      <th>year</th>\n",
              "      <th>dow</th>\n",
              "      <th>dp</th>\n",
              "      <th>days</th>\n",
              "      <th>revenue</th>\n",
              "    </tr>\n",
              "  </thead>\n",
              "  <tbody>\n",
              "    <tr>\n",
              "      <th>count</th>\n",
              "      <td>397884.000000</td>\n",
              "      <td>397884.000000</td>\n",
              "      <td>397884.000000</td>\n",
              "      <td>397884.000000</td>\n",
              "      <td>397884.000000</td>\n",
              "      <td>397884.000000</td>\n",
              "      <td>397884.000000</td>\n",
              "      <td>397884.000000</td>\n",
              "      <td>397884.000000</td>\n",
              "    </tr>\n",
              "    <tr>\n",
              "      <th>mean</th>\n",
              "      <td>12.988238</td>\n",
              "      <td>3.116488</td>\n",
              "      <td>15294.423453</td>\n",
              "      <td>7.612475</td>\n",
              "      <td>2010.934260</td>\n",
              "      <td>2.614546</td>\n",
              "      <td>151.017304</td>\n",
              "      <td>544.428746</td>\n",
              "      <td>22.397000</td>\n",
              "    </tr>\n",
              "    <tr>\n",
              "      <th>std</th>\n",
              "      <td>179.331775</td>\n",
              "      <td>22.097877</td>\n",
              "      <td>1713.141560</td>\n",
              "      <td>3.416520</td>\n",
              "      <td>0.247828</td>\n",
              "      <td>1.928310</td>\n",
              "      <td>112.838746</td>\n",
              "      <td>112.819474</td>\n",
              "      <td>309.071041</td>\n",
              "    </tr>\n",
              "    <tr>\n",
              "      <th>min</th>\n",
              "      <td>1.000000</td>\n",
              "      <td>0.001000</td>\n",
              "      <td>12346.000000</td>\n",
              "      <td>1.000000</td>\n",
              "      <td>2010.000000</td>\n",
              "      <td>0.000000</td>\n",
              "      <td>0.000000</td>\n",
              "      <td>323.000000</td>\n",
              "      <td>0.001000</td>\n",
              "    </tr>\n",
              "    <tr>\n",
              "      <th>25%</th>\n",
              "      <td>2.000000</td>\n",
              "      <td>1.250000</td>\n",
              "      <td>13969.000000</td>\n",
              "      <td>5.000000</td>\n",
              "      <td>2011.000000</td>\n",
              "      <td>1.000000</td>\n",
              "      <td>49.000000</td>\n",
              "      <td>450.000000</td>\n",
              "      <td>4.680000</td>\n",
              "    </tr>\n",
              "    <tr>\n",
              "      <th>50%</th>\n",
              "      <td>6.000000</td>\n",
              "      <td>1.950000</td>\n",
              "      <td>15159.000000</td>\n",
              "      <td>8.000000</td>\n",
              "      <td>2011.000000</td>\n",
              "      <td>2.000000</td>\n",
              "      <td>130.000000</td>\n",
              "      <td>565.000000</td>\n",
              "      <td>11.800000</td>\n",
              "    </tr>\n",
              "    <tr>\n",
              "      <th>75%</th>\n",
              "      <td>12.000000</td>\n",
              "      <td>3.750000</td>\n",
              "      <td>16795.000000</td>\n",
              "      <td>11.000000</td>\n",
              "      <td>2011.000000</td>\n",
              "      <td>4.000000</td>\n",
              "      <td>246.000000</td>\n",
              "      <td>646.000000</td>\n",
              "      <td>19.800000</td>\n",
              "    </tr>\n",
              "    <tr>\n",
              "      <th>max</th>\n",
              "      <td>80995.000000</td>\n",
              "      <td>8142.750000</td>\n",
              "      <td>18287.000000</td>\n",
              "      <td>12.000000</td>\n",
              "      <td>2011.000000</td>\n",
              "      <td>6.000000</td>\n",
              "      <td>373.000000</td>\n",
              "      <td>696.000000</td>\n",
              "      <td>168469.600000</td>\n",
              "    </tr>\n",
              "  </tbody>\n",
              "</table>\n",
              "</div>"
            ],
            "text/plain": [
              "            Quantity      UnitPrice     CustomerID          month  \\\n",
              "count  397884.000000  397884.000000  397884.000000  397884.000000   \n",
              "mean       12.988238       3.116488   15294.423453       7.612475   \n",
              "std       179.331775      22.097877    1713.141560       3.416520   \n",
              "min         1.000000       0.001000   12346.000000       1.000000   \n",
              "25%         2.000000       1.250000   13969.000000       5.000000   \n",
              "50%         6.000000       1.950000   15159.000000       8.000000   \n",
              "75%        12.000000       3.750000   16795.000000      11.000000   \n",
              "max     80995.000000    8142.750000   18287.000000      12.000000   \n",
              "\n",
              "                year            dow             dp           days  \\\n",
              "count  397884.000000  397884.000000  397884.000000  397884.000000   \n",
              "mean     2010.934260       2.614546     151.017304     544.428746   \n",
              "std         0.247828       1.928310     112.838746     112.819474   \n",
              "min      2010.000000       0.000000       0.000000     323.000000   \n",
              "25%      2011.000000       1.000000      49.000000     450.000000   \n",
              "50%      2011.000000       2.000000     130.000000     565.000000   \n",
              "75%      2011.000000       4.000000     246.000000     646.000000   \n",
              "max      2011.000000       6.000000     373.000000     696.000000   \n",
              "\n",
              "             revenue  \n",
              "count  397884.000000  \n",
              "mean       22.397000  \n",
              "std       309.071041  \n",
              "min         0.001000  \n",
              "25%         4.680000  \n",
              "50%        11.800000  \n",
              "75%        19.800000  \n",
              "max    168469.600000  "
            ]
          },
          "metadata": {
            "tags": []
          },
          "execution_count": 33
        }
      ]
    },
    {
      "cell_type": "code",
      "metadata": {
        "id": "Lzau8OgsWeL0",
        "outputId": "2b74ae7f-219a-4393-9d8e-2a945ffd5599"
      },
      "source": [
        "# Remove duplicate items \n",
        "df = df[~df.duplicated()]\n",
        "df.describe()"
      ],
      "execution_count": null,
      "outputs": [
        {
          "output_type": "execute_result",
          "data": {
            "text/html": [
              "<div>\n",
              "<style scoped>\n",
              "    .dataframe tbody tr th:only-of-type {\n",
              "        vertical-align: middle;\n",
              "    }\n",
              "\n",
              "    .dataframe tbody tr th {\n",
              "        vertical-align: top;\n",
              "    }\n",
              "\n",
              "    .dataframe thead th {\n",
              "        text-align: right;\n",
              "    }\n",
              "</style>\n",
              "<table border=\"1\" class=\"dataframe\">\n",
              "  <thead>\n",
              "    <tr style=\"text-align: right;\">\n",
              "      <th></th>\n",
              "      <th>Quantity</th>\n",
              "      <th>UnitPrice</th>\n",
              "      <th>CustomerID</th>\n",
              "      <th>month</th>\n",
              "      <th>year</th>\n",
              "      <th>dow</th>\n",
              "      <th>dp</th>\n",
              "      <th>days</th>\n",
              "      <th>revenue</th>\n",
              "    </tr>\n",
              "  </thead>\n",
              "  <tbody>\n",
              "    <tr>\n",
              "      <th>count</th>\n",
              "      <td>392692.000000</td>\n",
              "      <td>392692.000000</td>\n",
              "      <td>392692.000000</td>\n",
              "      <td>392692.000000</td>\n",
              "      <td>392692.000000</td>\n",
              "      <td>392692.000000</td>\n",
              "      <td>392692.000000</td>\n",
              "      <td>392692.000000</td>\n",
              "      <td>392692.000000</td>\n",
              "    </tr>\n",
              "    <tr>\n",
              "      <th>mean</th>\n",
              "      <td>13.119702</td>\n",
              "      <td>3.125914</td>\n",
              "      <td>15287.843865</td>\n",
              "      <td>7.601871</td>\n",
              "      <td>2010.934631</td>\n",
              "      <td>2.606911</td>\n",
              "      <td>151.204379</td>\n",
              "      <td>544.242641</td>\n",
              "      <td>22.631500</td>\n",
              "    </tr>\n",
              "    <tr>\n",
              "      <th>std</th>\n",
              "      <td>180.492832</td>\n",
              "      <td>22.241836</td>\n",
              "      <td>1713.539549</td>\n",
              "      <td>3.415015</td>\n",
              "      <td>0.247177</td>\n",
              "      <td>1.923929</td>\n",
              "      <td>112.691582</td>\n",
              "      <td>112.672325</td>\n",
              "      <td>311.099224</td>\n",
              "    </tr>\n",
              "    <tr>\n",
              "      <th>min</th>\n",
              "      <td>1.000000</td>\n",
              "      <td>0.001000</td>\n",
              "      <td>12346.000000</td>\n",
              "      <td>1.000000</td>\n",
              "      <td>2010.000000</td>\n",
              "      <td>0.000000</td>\n",
              "      <td>0.000000</td>\n",
              "      <td>323.000000</td>\n",
              "      <td>0.001000</td>\n",
              "    </tr>\n",
              "    <tr>\n",
              "      <th>25%</th>\n",
              "      <td>2.000000</td>\n",
              "      <td>1.250000</td>\n",
              "      <td>13955.000000</td>\n",
              "      <td>5.000000</td>\n",
              "      <td>2011.000000</td>\n",
              "      <td>1.000000</td>\n",
              "      <td>49.000000</td>\n",
              "      <td>450.000000</td>\n",
              "      <td>4.950000</td>\n",
              "    </tr>\n",
              "    <tr>\n",
              "      <th>50%</th>\n",
              "      <td>6.000000</td>\n",
              "      <td>1.950000</td>\n",
              "      <td>15150.000000</td>\n",
              "      <td>8.000000</td>\n",
              "      <td>2011.000000</td>\n",
              "      <td>2.000000</td>\n",
              "      <td>131.000000</td>\n",
              "      <td>565.000000</td>\n",
              "      <td>12.450000</td>\n",
              "    </tr>\n",
              "    <tr>\n",
              "      <th>75%</th>\n",
              "      <td>12.000000</td>\n",
              "      <td>3.750000</td>\n",
              "      <td>16791.000000</td>\n",
              "      <td>11.000000</td>\n",
              "      <td>2011.000000</td>\n",
              "      <td>4.000000</td>\n",
              "      <td>246.000000</td>\n",
              "      <td>646.000000</td>\n",
              "      <td>19.800000</td>\n",
              "    </tr>\n",
              "    <tr>\n",
              "      <th>max</th>\n",
              "      <td>80995.000000</td>\n",
              "      <td>8142.750000</td>\n",
              "      <td>18287.000000</td>\n",
              "      <td>12.000000</td>\n",
              "      <td>2011.000000</td>\n",
              "      <td>6.000000</td>\n",
              "      <td>373.000000</td>\n",
              "      <td>696.000000</td>\n",
              "      <td>168469.600000</td>\n",
              "    </tr>\n",
              "  </tbody>\n",
              "</table>\n",
              "</div>"
            ],
            "text/plain": [
              "            Quantity      UnitPrice     CustomerID          month  \\\n",
              "count  392692.000000  392692.000000  392692.000000  392692.000000   \n",
              "mean       13.119702       3.125914   15287.843865       7.601871   \n",
              "std       180.492832      22.241836    1713.539549       3.415015   \n",
              "min         1.000000       0.001000   12346.000000       1.000000   \n",
              "25%         2.000000       1.250000   13955.000000       5.000000   \n",
              "50%         6.000000       1.950000   15150.000000       8.000000   \n",
              "75%        12.000000       3.750000   16791.000000      11.000000   \n",
              "max     80995.000000    8142.750000   18287.000000      12.000000   \n",
              "\n",
              "                year            dow             dp           days  \\\n",
              "count  392692.000000  392692.000000  392692.000000  392692.000000   \n",
              "mean     2010.934631       2.606911     151.204379     544.242641   \n",
              "std         0.247177       1.923929     112.691582     112.672325   \n",
              "min      2010.000000       0.000000       0.000000     323.000000   \n",
              "25%      2011.000000       1.000000      49.000000     450.000000   \n",
              "50%      2011.000000       2.000000     131.000000     565.000000   \n",
              "75%      2011.000000       4.000000     246.000000     646.000000   \n",
              "max      2011.000000       6.000000     373.000000     696.000000   \n",
              "\n",
              "             revenue  \n",
              "count  392692.000000  \n",
              "mean       22.631500  \n",
              "std       311.099224  \n",
              "min         0.001000  \n",
              "25%         4.950000  \n",
              "50%        12.450000  \n",
              "75%        19.800000  \n",
              "max    168469.600000  "
            ]
          },
          "metadata": {
            "tags": []
          },
          "execution_count": 34
        }
      ]
    },
    {
      "cell_type": "code",
      "metadata": {
        "id": "Map9JO_3WeL0",
        "outputId": "d9829e03-44d8-4090-bece-c3e729c0a623"
      },
      "source": [
        "df3= df[df['Description'].astype(str).str.contains('WRONG') ==True]\n",
        "df4= df[df['Description'].astype(str).str.contains('LOST') ==True]\n",
        "df5= df[df['Description'].astype(str).str.contains('CRUSHED') ==True]\n",
        "df6= df[df['Description'].astype(str).str.contains('SMASHED') ==True]\n",
        "df7= df[df['Description'].astype(str).str.contains('DAMAGED') ==True]\n",
        "df8= df[df['Description'].astype(str).str.contains('FOUND') ==True]\n",
        "df9= df[df['Description'].astype(str).str.contains('THROWN') ==True]\n",
        "df10= df[df['Description'].astype(str).str.contains('MISSING') ==True]\n",
        "df11= df[df['Description'].astype(str).str.contains('AWAY') ==True]\n",
        "df12= df[df['Description'].astype(str).str.contains('\\\\?') ==True]\n",
        "df13= df[df['Description'].astype(str).str.contains('POSTAGE') ==True]\n",
        "df14= df[df['Description'].astype(str).str.contains('MANUAL') ==True]\n",
        "df15= df[df['Description'].astype(str).str.contains('CHARGES') ==True]\n",
        "df16= df[df['Description'].astype(str).str.contains('AMAZON') ==True]\n",
        "df17= df[df['Description'].astype(str).str.contains(' FEE ') ==True]\n",
        "df18= df[df['Description'].astype(str).str.contains('FAULT') ==True]\n",
        "df19= df[df['Description'].astype(str).str.contains('SALES') ==True]\n",
        "df20= df[df['Description'].astype(str).str.contains('ADJUST') ==True]\n",
        "df21= df[df['Description'].astype(str).str.contains('COUNTED') ==True]\n",
        "#df22= df[df['Description'].astype(str).str.contains('LABEL') ==True]\n",
        "df23= df[df['Description'].astype(str).str.contains('INCORRECT') ==True]\n",
        "df24= df[df['Description'].astype(str).str.contains(' SOLD ') ==True]\n",
        "df25= df[df['Description'].astype(str).str.contains('BROKEN') ==True]\n",
        "df26= df[df['Description'].astype(str).str.contains('BARCODE') ==True]\n",
        "#df27= df[df['Description'].astype(str).str.contains('CRACKED') ==True]\n",
        "df28= df[df['Description'].astype(str).str.contains('RETURNED') ==True]\n",
        "df29= df[df['Description'].astype(str).str.contains('MAILOUT') ==True]\n",
        "df30= df[df['Description'].astype(str).str.contains('DELIVERY') ==True]\n",
        "df31= df[df['Description'].astype(str).str.contains('MIX UP') ==True]\n",
        "df32= df[df['Description'].astype(str).str.contains('PUT ASIDE') ==True]\n",
        "df33= df[df['Description'].astype(str).str.contains('MOULDY') ==True]\n",
        "df34= df[df['Description'].astype(str).str.contains('ERROR') ==True]\n",
        "df35= df[df['Description'].astype(str).str.contains('DESTROYED') ==True]\n",
        "df36= df[df['Description'].astype(str).str.contains('RUSTY') ==True]\n",
        "\n",
        "print(df3)\n",
        "print(df4)\n",
        "print(df5)\n",
        "print(df6)\n",
        "print(df7)\n",
        "print(df8)\n",
        "print(df9)\n",
        "print(df10)\n",
        "print(df11)\n",
        "\n",
        "print(df12)\n",
        "print(df13)\n",
        "print(df14)\n",
        "print(df15)\n",
        "print(df16)\n",
        "print(df17)\n",
        "print(df18)\n",
        "print(df19)\n",
        "print(df20)\n",
        "\n",
        "print(df21)\n",
        "#print(df22)\n",
        "print(df23)\n",
        "print(df24)\n",
        "print(df25)\n",
        "print(df26)\n",
        "#print(df27)\n",
        "print(df28)\n",
        "print(df29)\n",
        "print(df30)\n",
        "print(df31)\n",
        "print(df32)\n",
        "print(df33)\n",
        "print(df34)\n",
        "print(df35)\n",
        "print(df36)"
      ],
      "execution_count": null,
      "outputs": [
        {
          "output_type": "stream",
          "text": [
            "Empty DataFrame\n",
            "Columns: [InvoiceNo, StockCode, Description, Quantity, InvoiceDate, UnitPrice, CustomerID, Country, mindate, month, year, dow, dp, days, revenue]\n",
            "Index: []\n",
            "Empty DataFrame\n",
            "Columns: [InvoiceNo, StockCode, Description, Quantity, InvoiceDate, UnitPrice, CustomerID, Country, mindate, month, year, dow, dp, days, revenue]\n",
            "Index: []\n",
            "Empty DataFrame\n",
            "Columns: [InvoiceNo, StockCode, Description, Quantity, InvoiceDate, UnitPrice, CustomerID, Country, mindate, month, year, dow, dp, days, revenue]\n",
            "Index: []\n",
            "Empty DataFrame\n",
            "Columns: [InvoiceNo, StockCode, Description, Quantity, InvoiceDate, UnitPrice, CustomerID, Country, mindate, month, year, dow, dp, days, revenue]\n",
            "Index: []\n",
            "Empty DataFrame\n",
            "Columns: [InvoiceNo, StockCode, Description, Quantity, InvoiceDate, UnitPrice, CustomerID, Country, mindate, month, year, dow, dp, days, revenue]\n",
            "Index: []\n",
            "Empty DataFrame\n",
            "Columns: [InvoiceNo, StockCode, Description, Quantity, InvoiceDate, UnitPrice, CustomerID, Country, mindate, month, year, dow, dp, days, revenue]\n",
            "Index: []\n",
            "Empty DataFrame\n",
            "Columns: [InvoiceNo, StockCode, Description, Quantity, InvoiceDate, UnitPrice, CustomerID, Country, mindate, month, year, dow, dp, days, revenue]\n",
            "Index: []\n",
            "Empty DataFrame\n",
            "Columns: [InvoiceNo, StockCode, Description, Quantity, InvoiceDate, UnitPrice, CustomerID, Country, mindate, month, year, dow, dp, days, revenue]\n",
            "Index: []\n",
            "Empty DataFrame\n",
            "Columns: [InvoiceNo, StockCode, Description, Quantity, InvoiceDate, UnitPrice, CustomerID, Country, mindate, month, year, dow, dp, days, revenue]\n",
            "Index: []\n",
            "Empty DataFrame\n",
            "Columns: [InvoiceNo, StockCode, Description, Quantity, InvoiceDate, UnitPrice, CustomerID, Country, mindate, month, year, dow, dp, days, revenue]\n",
            "Index: []\n",
            "       InvoiceNo StockCode Description  Quantity         InvoiceDate  \\\n",
            "45        536370      POST     POSTAGE         3 2010-12-01 08:45:00   \n",
            "386       536403      POST     POSTAGE         1 2010-12-01 11:27:00   \n",
            "1123      536527      POST     POSTAGE         1 2010-12-01 13:04:00   \n",
            "5073      536840      POST     POSTAGE         1 2010-12-02 18:27:00   \n",
            "5258      536852      POST     POSTAGE         1 2010-12-03 09:51:00   \n",
            "...          ...       ...         ...       ...                 ...   \n",
            "541198    581493      POST     POSTAGE         1 2011-12-09 10:10:00   \n",
            "541216    581494      POST     POSTAGE         2 2011-12-09 10:13:00   \n",
            "541730    581570      POST     POSTAGE         1 2011-12-09 11:59:00   \n",
            "541767    581574      POST     POSTAGE         2 2011-12-09 12:09:00   \n",
            "541768    581578      POST     POSTAGE         3 2011-12-09 12:16:00   \n",
            "\n",
            "        UnitPrice  CustomerID      Country             mindate  month  year  \\\n",
            "45           18.0     12583.0       France 2010-01-12 08:26:00     12  2010   \n",
            "386          15.0     12791.0  Netherlands 2010-01-12 08:26:00     12  2010   \n",
            "1123         18.0     12662.0      Germany 2010-01-12 08:26:00     12  2010   \n",
            "5073         18.0     12738.0      Germany 2010-01-12 08:26:00     12  2010   \n",
            "5258         18.0     12686.0       France 2010-01-12 08:26:00     12  2010   \n",
            "...           ...         ...          ...                 ...    ...   ...   \n",
            "541198       15.0     12423.0      Belgium 2010-01-12 08:26:00     12  2011   \n",
            "541216       18.0     12518.0      Germany 2010-01-12 08:26:00     12  2011   \n",
            "541730       18.0     12662.0      Germany 2010-01-12 08:26:00     12  2011   \n",
            "541767       18.0     12526.0      Germany 2010-01-12 08:26:00     12  2011   \n",
            "541768       18.0     12713.0      Germany 2010-01-12 08:26:00     12  2011   \n",
            "\n",
            "        dow   dp  days  revenue  \n",
            "45        2  373   323     54.0  \n",
            "386       2  373   323     15.0  \n",
            "1123      2  372   323     18.0  \n",
            "5073      3  371   324     18.0  \n",
            "5258      4  371   325     18.0  \n",
            "...     ...  ...   ...      ...  \n",
            "541198    4    0   696     15.0  \n",
            "541216    4    0   696     36.0  \n",
            "541730    4    0   696     18.0  \n",
            "541767    4    0   696     36.0  \n",
            "541768    4    0   696     54.0  \n",
            "\n",
            "[1115 rows x 15 columns]\n",
            "Empty DataFrame\n",
            "Columns: [InvoiceNo, StockCode, Description, Quantity, InvoiceDate, UnitPrice, CustomerID, Country, mindate, month, year, dow, dp, days, revenue]\n",
            "Index: []\n",
            "Empty DataFrame\n",
            "Columns: [InvoiceNo, StockCode, Description, Quantity, InvoiceDate, UnitPrice, CustomerID, Country, mindate, month, year, dow, dp, days, revenue]\n",
            "Index: []\n",
            "Empty DataFrame\n",
            "Columns: [InvoiceNo, StockCode, Description, Quantity, InvoiceDate, UnitPrice, CustomerID, Country, mindate, month, year, dow, dp, days, revenue]\n",
            "Index: []\n",
            "Empty DataFrame\n",
            "Columns: [InvoiceNo, StockCode, Description, Quantity, InvoiceDate, UnitPrice, CustomerID, Country, mindate, month, year, dow, dp, days, revenue]\n",
            "Index: []\n",
            "Empty DataFrame\n",
            "Columns: [InvoiceNo, StockCode, Description, Quantity, InvoiceDate, UnitPrice, CustomerID, Country, mindate, month, year, dow, dp, days, revenue]\n",
            "Index: []\n",
            "Empty DataFrame\n",
            "Columns: [InvoiceNo, StockCode, Description, Quantity, InvoiceDate, UnitPrice, CustomerID, Country, mindate, month, year, dow, dp, days, revenue]\n",
            "Index: []\n",
            "Empty DataFrame\n",
            "Columns: [InvoiceNo, StockCode, Description, Quantity, InvoiceDate, UnitPrice, CustomerID, Country, mindate, month, year, dow, dp, days, revenue]\n",
            "Index: []\n",
            "Empty DataFrame\n",
            "Columns: [InvoiceNo, StockCode, Description, Quantity, InvoiceDate, UnitPrice, CustomerID, Country, mindate, month, year, dow, dp, days, revenue]\n",
            "Index: []\n",
            "Empty DataFrame\n",
            "Columns: [InvoiceNo, StockCode, Description, Quantity, InvoiceDate, UnitPrice, CustomerID, Country, mindate, month, year, dow, dp, days, revenue]\n",
            "Index: []\n",
            "Empty DataFrame\n",
            "Columns: [InvoiceNo, StockCode, Description, Quantity, InvoiceDate, UnitPrice, CustomerID, Country, mindate, month, year, dow, dp, days, revenue]\n",
            "Index: []\n",
            "Empty DataFrame\n",
            "Columns: [InvoiceNo, StockCode, Description, Quantity, InvoiceDate, UnitPrice, CustomerID, Country, mindate, month, year, dow, dp, days, revenue]\n",
            "Index: []\n",
            "Empty DataFrame\n",
            "Columns: [InvoiceNo, StockCode, Description, Quantity, InvoiceDate, UnitPrice, CustomerID, Country, mindate, month, year, dow, dp, days, revenue]\n",
            "Index: []\n",
            "Empty DataFrame\n",
            "Columns: [InvoiceNo, StockCode, Description, Quantity, InvoiceDate, UnitPrice, CustomerID, Country, mindate, month, year, dow, dp, days, revenue]\n",
            "Index: []\n",
            "Empty DataFrame\n",
            "Columns: [InvoiceNo, StockCode, Description, Quantity, InvoiceDate, UnitPrice, CustomerID, Country, mindate, month, year, dow, dp, days, revenue]\n",
            "Index: []\n",
            "Empty DataFrame\n",
            "Columns: [InvoiceNo, StockCode, Description, Quantity, InvoiceDate, UnitPrice, CustomerID, Country, mindate, month, year, dow, dp, days, revenue]\n",
            "Index: []\n",
            "Empty DataFrame\n",
            "Columns: [InvoiceNo, StockCode, Description, Quantity, InvoiceDate, UnitPrice, CustomerID, Country, mindate, month, year, dow, dp, days, revenue]\n",
            "Index: []\n",
            "Empty DataFrame\n",
            "Columns: [InvoiceNo, StockCode, Description, Quantity, InvoiceDate, UnitPrice, CustomerID, Country, mindate, month, year, dow, dp, days, revenue]\n",
            "Index: []\n",
            "Empty DataFrame\n",
            "Columns: [InvoiceNo, StockCode, Description, Quantity, InvoiceDate, UnitPrice, CustomerID, Country, mindate, month, year, dow, dp, days, revenue]\n",
            "Index: []\n",
            "Empty DataFrame\n",
            "Columns: [InvoiceNo, StockCode, Description, Quantity, InvoiceDate, UnitPrice, CustomerID, Country, mindate, month, year, dow, dp, days, revenue]\n",
            "Index: []\n",
            "Empty DataFrame\n",
            "Columns: [InvoiceNo, StockCode, Description, Quantity, InvoiceDate, UnitPrice, CustomerID, Country, mindate, month, year, dow, dp, days, revenue]\n",
            "Index: []\n",
            "Empty DataFrame\n",
            "Columns: [InvoiceNo, StockCode, Description, Quantity, InvoiceDate, UnitPrice, CustomerID, Country, mindate, month, year, dow, dp, days, revenue]\n",
            "Index: []\n"
          ],
          "name": "stdout"
        }
      ]
    },
    {
      "cell_type": "code",
      "metadata": {
        "id": "57ephu48WeL1",
        "outputId": "df5a9133-5ba4-4bc0-e173-f55a6cc41e50"
      },
      "source": [
        "df2 = df[~df['Description'].astype(str).str.contains('POSTAGE')]\n",
        "df2.head()"
      ],
      "execution_count": null,
      "outputs": [
        {
          "output_type": "execute_result",
          "data": {
            "text/html": [
              "<div>\n",
              "<style scoped>\n",
              "    .dataframe tbody tr th:only-of-type {\n",
              "        vertical-align: middle;\n",
              "    }\n",
              "\n",
              "    .dataframe tbody tr th {\n",
              "        vertical-align: top;\n",
              "    }\n",
              "\n",
              "    .dataframe thead th {\n",
              "        text-align: right;\n",
              "    }\n",
              "</style>\n",
              "<table border=\"1\" class=\"dataframe\">\n",
              "  <thead>\n",
              "    <tr style=\"text-align: right;\">\n",
              "      <th></th>\n",
              "      <th>InvoiceNo</th>\n",
              "      <th>StockCode</th>\n",
              "      <th>Description</th>\n",
              "      <th>Quantity</th>\n",
              "      <th>InvoiceDate</th>\n",
              "      <th>UnitPrice</th>\n",
              "      <th>CustomerID</th>\n",
              "      <th>Country</th>\n",
              "      <th>mindate</th>\n",
              "      <th>month</th>\n",
              "      <th>year</th>\n",
              "      <th>dow</th>\n",
              "      <th>dp</th>\n",
              "      <th>days</th>\n",
              "      <th>revenue</th>\n",
              "    </tr>\n",
              "  </thead>\n",
              "  <tbody>\n",
              "    <tr>\n",
              "      <th>0</th>\n",
              "      <td>536365</td>\n",
              "      <td>85123A</td>\n",
              "      <td>WHITE HANGING HEART T-LIGHT HOLDER</td>\n",
              "      <td>6</td>\n",
              "      <td>2010-12-01 08:26:00</td>\n",
              "      <td>2.55</td>\n",
              "      <td>17850.0</td>\n",
              "      <td>United Kingdom</td>\n",
              "      <td>2010-01-12 08:26:00</td>\n",
              "      <td>12</td>\n",
              "      <td>2010</td>\n",
              "      <td>2</td>\n",
              "      <td>373</td>\n",
              "      <td>323</td>\n",
              "      <td>15.30</td>\n",
              "    </tr>\n",
              "    <tr>\n",
              "      <th>1</th>\n",
              "      <td>536365</td>\n",
              "      <td>71053</td>\n",
              "      <td>WHITE METAL LANTERN</td>\n",
              "      <td>6</td>\n",
              "      <td>2010-12-01 08:26:00</td>\n",
              "      <td>3.39</td>\n",
              "      <td>17850.0</td>\n",
              "      <td>United Kingdom</td>\n",
              "      <td>2010-01-12 08:26:00</td>\n",
              "      <td>12</td>\n",
              "      <td>2010</td>\n",
              "      <td>2</td>\n",
              "      <td>373</td>\n",
              "      <td>323</td>\n",
              "      <td>20.34</td>\n",
              "    </tr>\n",
              "    <tr>\n",
              "      <th>2</th>\n",
              "      <td>536365</td>\n",
              "      <td>84406B</td>\n",
              "      <td>CREAM CUPID HEARTS COAT HANGER</td>\n",
              "      <td>8</td>\n",
              "      <td>2010-12-01 08:26:00</td>\n",
              "      <td>2.75</td>\n",
              "      <td>17850.0</td>\n",
              "      <td>United Kingdom</td>\n",
              "      <td>2010-01-12 08:26:00</td>\n",
              "      <td>12</td>\n",
              "      <td>2010</td>\n",
              "      <td>2</td>\n",
              "      <td>373</td>\n",
              "      <td>323</td>\n",
              "      <td>22.00</td>\n",
              "    </tr>\n",
              "    <tr>\n",
              "      <th>3</th>\n",
              "      <td>536365</td>\n",
              "      <td>84029G</td>\n",
              "      <td>KNITTED UNION FLAG HOT WATER BOTTLE</td>\n",
              "      <td>6</td>\n",
              "      <td>2010-12-01 08:26:00</td>\n",
              "      <td>3.39</td>\n",
              "      <td>17850.0</td>\n",
              "      <td>United Kingdom</td>\n",
              "      <td>2010-01-12 08:26:00</td>\n",
              "      <td>12</td>\n",
              "      <td>2010</td>\n",
              "      <td>2</td>\n",
              "      <td>373</td>\n",
              "      <td>323</td>\n",
              "      <td>20.34</td>\n",
              "    </tr>\n",
              "    <tr>\n",
              "      <th>4</th>\n",
              "      <td>536365</td>\n",
              "      <td>84029E</td>\n",
              "      <td>RED WOOLLY HOTTIE WHITE HEART.</td>\n",
              "      <td>6</td>\n",
              "      <td>2010-12-01 08:26:00</td>\n",
              "      <td>3.39</td>\n",
              "      <td>17850.0</td>\n",
              "      <td>United Kingdom</td>\n",
              "      <td>2010-01-12 08:26:00</td>\n",
              "      <td>12</td>\n",
              "      <td>2010</td>\n",
              "      <td>2</td>\n",
              "      <td>373</td>\n",
              "      <td>323</td>\n",
              "      <td>20.34</td>\n",
              "    </tr>\n",
              "  </tbody>\n",
              "</table>\n",
              "</div>"
            ],
            "text/plain": [
              "  InvoiceNo StockCode                          Description  Quantity  \\\n",
              "0    536365    85123A   WHITE HANGING HEART T-LIGHT HOLDER         6   \n",
              "1    536365     71053                  WHITE METAL LANTERN         6   \n",
              "2    536365    84406B       CREAM CUPID HEARTS COAT HANGER         8   \n",
              "3    536365    84029G  KNITTED UNION FLAG HOT WATER BOTTLE         6   \n",
              "4    536365    84029E       RED WOOLLY HOTTIE WHITE HEART.         6   \n",
              "\n",
              "          InvoiceDate  UnitPrice  CustomerID         Country  \\\n",
              "0 2010-12-01 08:26:00       2.55     17850.0  United Kingdom   \n",
              "1 2010-12-01 08:26:00       3.39     17850.0  United Kingdom   \n",
              "2 2010-12-01 08:26:00       2.75     17850.0  United Kingdom   \n",
              "3 2010-12-01 08:26:00       3.39     17850.0  United Kingdom   \n",
              "4 2010-12-01 08:26:00       3.39     17850.0  United Kingdom   \n",
              "\n",
              "              mindate  month  year  dow   dp  days  revenue  \n",
              "0 2010-01-12 08:26:00     12  2010    2  373   323    15.30  \n",
              "1 2010-01-12 08:26:00     12  2010    2  373   323    20.34  \n",
              "2 2010-01-12 08:26:00     12  2010    2  373   323    22.00  \n",
              "3 2010-01-12 08:26:00     12  2010    2  373   323    20.34  \n",
              "4 2010-01-12 08:26:00     12  2010    2  373   323    20.34  "
            ]
          },
          "metadata": {
            "tags": []
          },
          "execution_count": 41
        }
      ]
    },
    {
      "cell_type": "code",
      "metadata": {
        "id": "PFfyJekPWeL1",
        "outputId": "5f6cadce-8157-4cc0-d9be-c91c3cae1772"
      },
      "source": [
        "df37 = df[df['InvoiceNo'] == '536370']\n",
        "df37.tail(3)"
      ],
      "execution_count": null,
      "outputs": [
        {
          "output_type": "execute_result",
          "data": {
            "text/html": [
              "<div>\n",
              "<style scoped>\n",
              "    .dataframe tbody tr th:only-of-type {\n",
              "        vertical-align: middle;\n",
              "    }\n",
              "\n",
              "    .dataframe tbody tr th {\n",
              "        vertical-align: top;\n",
              "    }\n",
              "\n",
              "    .dataframe thead th {\n",
              "        text-align: right;\n",
              "    }\n",
              "</style>\n",
              "<table border=\"1\" class=\"dataframe\">\n",
              "  <thead>\n",
              "    <tr style=\"text-align: right;\">\n",
              "      <th></th>\n",
              "      <th>InvoiceNo</th>\n",
              "      <th>StockCode</th>\n",
              "      <th>Description</th>\n",
              "      <th>Quantity</th>\n",
              "      <th>InvoiceDate</th>\n",
              "      <th>UnitPrice</th>\n",
              "      <th>CustomerID</th>\n",
              "      <th>Country</th>\n",
              "      <th>mindate</th>\n",
              "      <th>month</th>\n",
              "      <th>year</th>\n",
              "      <th>dow</th>\n",
              "      <th>dp</th>\n",
              "      <th>days</th>\n",
              "      <th>revenue</th>\n",
              "    </tr>\n",
              "  </thead>\n",
              "  <tbody>\n",
              "    <tr>\n",
              "      <th>43</th>\n",
              "      <td>536370</td>\n",
              "      <td>22544</td>\n",
              "      <td>MINI JIGSAW SPACEBOY</td>\n",
              "      <td>24</td>\n",
              "      <td>2010-12-01 08:45:00</td>\n",
              "      <td>0.42</td>\n",
              "      <td>12583.0</td>\n",
              "      <td>France</td>\n",
              "      <td>2010-01-12 08:26:00</td>\n",
              "      <td>12</td>\n",
              "      <td>2010</td>\n",
              "      <td>2</td>\n",
              "      <td>373</td>\n",
              "      <td>323</td>\n",
              "      <td>10.08</td>\n",
              "    </tr>\n",
              "    <tr>\n",
              "      <th>44</th>\n",
              "      <td>536370</td>\n",
              "      <td>22492</td>\n",
              "      <td>MINI PAINT SET VINTAGE</td>\n",
              "      <td>36</td>\n",
              "      <td>2010-12-01 08:45:00</td>\n",
              "      <td>0.65</td>\n",
              "      <td>12583.0</td>\n",
              "      <td>France</td>\n",
              "      <td>2010-01-12 08:26:00</td>\n",
              "      <td>12</td>\n",
              "      <td>2010</td>\n",
              "      <td>2</td>\n",
              "      <td>373</td>\n",
              "      <td>323</td>\n",
              "      <td>23.40</td>\n",
              "    </tr>\n",
              "    <tr>\n",
              "      <th>45</th>\n",
              "      <td>536370</td>\n",
              "      <td>POST</td>\n",
              "      <td>POSTAGE</td>\n",
              "      <td>3</td>\n",
              "      <td>2010-12-01 08:45:00</td>\n",
              "      <td>18.00</td>\n",
              "      <td>12583.0</td>\n",
              "      <td>France</td>\n",
              "      <td>2010-01-12 08:26:00</td>\n",
              "      <td>12</td>\n",
              "      <td>2010</td>\n",
              "      <td>2</td>\n",
              "      <td>373</td>\n",
              "      <td>323</td>\n",
              "      <td>54.00</td>\n",
              "    </tr>\n",
              "  </tbody>\n",
              "</table>\n",
              "</div>"
            ],
            "text/plain": [
              "   InvoiceNo StockCode             Description  Quantity         InvoiceDate  \\\n",
              "43    536370     22544    MINI JIGSAW SPACEBOY        24 2010-12-01 08:45:00   \n",
              "44    536370     22492  MINI PAINT SET VINTAGE        36 2010-12-01 08:45:00   \n",
              "45    536370      POST                 POSTAGE         3 2010-12-01 08:45:00   \n",
              "\n",
              "    UnitPrice  CustomerID Country             mindate  month  year  dow   dp  \\\n",
              "43       0.42     12583.0  France 2010-01-12 08:26:00     12  2010    2  373   \n",
              "44       0.65     12583.0  France 2010-01-12 08:26:00     12  2010    2  373   \n",
              "45      18.00     12583.0  France 2010-01-12 08:26:00     12  2010    2  373   \n",
              "\n",
              "    days  revenue  \n",
              "43   323    10.08  \n",
              "44   323    23.40  \n",
              "45   323    54.00  "
            ]
          },
          "metadata": {
            "tags": []
          },
          "execution_count": 42
        }
      ]
    },
    {
      "cell_type": "code",
      "metadata": {
        "id": "HmdUWrziWeL1",
        "outputId": "a705eca2-bcbe-46fd-fb2c-bdd146abbb05"
      },
      "source": [
        "df = df.dropna()\n",
        "df.shape"
      ],
      "execution_count": null,
      "outputs": [
        {
          "output_type": "execute_result",
          "data": {
            "text/plain": [
              "(392692, 15)"
            ]
          },
          "metadata": {
            "tags": []
          },
          "execution_count": 43
        }
      ]
    },
    {
      "cell_type": "code",
      "metadata": {
        "id": "507dMJLHWeL2",
        "outputId": "8cf89d58-cfb5-4c6d-d346-fae1bc1e72b8"
      },
      "source": [
        "df.plot.box(figsize=(10,6))   #Show outliers --> no action we do not want to exlude exceptional customers from the analysis"
      ],
      "execution_count": null,
      "outputs": [
        {
          "output_type": "execute_result",
          "data": {
            "text/plain": [
              "<AxesSubplot:>"
            ]
          },
          "metadata": {
            "tags": []
          },
          "execution_count": 44
        },
        {
          "output_type": "display_data",
          "data": {
            "image/png": "[encoded data removed]",
            "text/plain": [
              "<Figure size 720x432 with 1 Axes>"
            ]
          },
          "metadata": {
            "tags": [],
            "needs_background": "light"
          }
        }
      ]
    },
    {
      "cell_type": "code",
      "metadata": {
        "id": "8R-DgVvxWeL2",
        "outputId": "46bbc37e-0b86-4837-deed-55cd75b9350b"
      },
      "source": [
        "print(df['Quantity'].quantile(0.50)) \n",
        "print(df['Quantity'].quantile(0.9999)) "
      ],
      "execution_count": null,
      "outputs": [
        {
          "output_type": "stream",
          "text": [
            "6.0\n",
            "1510.9634999994887\n"
          ],
          "name": "stdout"
        }
      ]
    },
    {
      "cell_type": "code",
      "metadata": {
        "id": "nJoxBNJnWeL2",
        "outputId": "061971a5-e9e5-4415-b90f-a115b0f2cc8b"
      },
      "source": [
        "df39 = df[~(df['Quantity'] > 1200)]  \n",
        "df39.describe()"
      ],
      "execution_count": null,
      "outputs": [
        {
          "output_type": "execute_result",
          "data": {
            "text/html": [
              "<div>\n",
              "<style scoped>\n",
              "    .dataframe tbody tr th:only-of-type {\n",
              "        vertical-align: middle;\n",
              "    }\n",
              "\n",
              "    .dataframe tbody tr th {\n",
              "        vertical-align: top;\n",
              "    }\n",
              "\n",
              "    .dataframe thead th {\n",
              "        text-align: right;\n",
              "    }\n",
              "</style>\n",
              "<table border=\"1\" class=\"dataframe\">\n",
              "  <thead>\n",
              "    <tr style=\"text-align: right;\">\n",
              "      <th></th>\n",
              "      <th>Quantity</th>\n",
              "      <th>UnitPrice</th>\n",
              "      <th>CustomerID</th>\n",
              "      <th>month</th>\n",
              "      <th>year</th>\n",
              "      <th>dow</th>\n",
              "      <th>dp</th>\n",
              "      <th>days</th>\n",
              "      <th>revenue</th>\n",
              "    </tr>\n",
              "  </thead>\n",
              "  <tbody>\n",
              "    <tr>\n",
              "      <th>count</th>\n",
              "      <td>392622.000000</td>\n",
              "      <td>392622.000000</td>\n",
              "      <td>392622.000000</td>\n",
              "      <td>392622.000000</td>\n",
              "      <td>392622.000000</td>\n",
              "      <td>392622.000000</td>\n",
              "      <td>392622.000000</td>\n",
              "      <td>392622.000000</td>\n",
              "      <td>392622.000000</td>\n",
              "    </tr>\n",
              "    <tr>\n",
              "      <th>mean</th>\n",
              "      <td>12.394484</td>\n",
              "      <td>3.126288</td>\n",
              "      <td>15287.801514</td>\n",
              "      <td>7.601973</td>\n",
              "      <td>2010.934642</td>\n",
              "      <td>2.606950</td>\n",
              "      <td>151.196966</td>\n",
              "      <td>544.250032</td>\n",
              "      <td>21.688089</td>\n",
              "    </tr>\n",
              "    <tr>\n",
              "      <th>std</th>\n",
              "      <td>33.666160</td>\n",
              "      <td>22.243797</td>\n",
              "      <td>1713.534321</td>\n",
              "      <td>3.414895</td>\n",
              "      <td>0.247157</td>\n",
              "      <td>1.923985</td>\n",
              "      <td>112.687843</td>\n",
              "      <td>112.668592</td>\n",
              "      <td>90.994351</td>\n",
              "    </tr>\n",
              "    <tr>\n",
              "      <th>min</th>\n",
              "      <td>1.000000</td>\n",
              "      <td>0.001000</td>\n",
              "      <td>12347.000000</td>\n",
              "      <td>1.000000</td>\n",
              "      <td>2010.000000</td>\n",
              "      <td>0.000000</td>\n",
              "      <td>0.000000</td>\n",
              "      <td>323.000000</td>\n",
              "      <td>0.001000</td>\n",
              "    </tr>\n",
              "    <tr>\n",
              "      <th>25%</th>\n",
              "      <td>2.000000</td>\n",
              "      <td>1.250000</td>\n",
              "      <td>13955.000000</td>\n",
              "      <td>5.000000</td>\n",
              "      <td>2011.000000</td>\n",
              "      <td>1.000000</td>\n",
              "      <td>49.000000</td>\n",
              "      <td>450.000000</td>\n",
              "      <td>4.950000</td>\n",
              "    </tr>\n",
              "    <tr>\n",
              "      <th>50%</th>\n",
              "      <td>6.000000</td>\n",
              "      <td>1.950000</td>\n",
              "      <td>15150.000000</td>\n",
              "      <td>8.000000</td>\n",
              "      <td>2011.000000</td>\n",
              "      <td>2.000000</td>\n",
              "      <td>131.000000</td>\n",
              "      <td>565.000000</td>\n",
              "      <td>12.390000</td>\n",
              "    </tr>\n",
              "    <tr>\n",
              "      <th>75%</th>\n",
              "      <td>12.000000</td>\n",
              "      <td>3.750000</td>\n",
              "      <td>16791.000000</td>\n",
              "      <td>11.000000</td>\n",
              "      <td>2011.000000</td>\n",
              "      <td>4.000000</td>\n",
              "      <td>246.000000</td>\n",
              "      <td>646.000000</td>\n",
              "      <td>19.800000</td>\n",
              "    </tr>\n",
              "    <tr>\n",
              "      <th>max</th>\n",
              "      <td>1200.000000</td>\n",
              "      <td>8142.750000</td>\n",
              "      <td>18287.000000</td>\n",
              "      <td>12.000000</td>\n",
              "      <td>2011.000000</td>\n",
              "      <td>6.000000</td>\n",
              "      <td>373.000000</td>\n",
              "      <td>696.000000</td>\n",
              "      <td>38970.000000</td>\n",
              "    </tr>\n",
              "  </tbody>\n",
              "</table>\n",
              "</div>"
            ],
            "text/plain": [
              "            Quantity      UnitPrice     CustomerID          month  \\\n",
              "count  392622.000000  392622.000000  392622.000000  392622.000000   \n",
              "mean       12.394484       3.126288   15287.801514       7.601973   \n",
              "std        33.666160      22.243797    1713.534321       3.414895   \n",
              "min         1.000000       0.001000   12347.000000       1.000000   \n",
              "25%         2.000000       1.250000   13955.000000       5.000000   \n",
              "50%         6.000000       1.950000   15150.000000       8.000000   \n",
              "75%        12.000000       3.750000   16791.000000      11.000000   \n",
              "max      1200.000000    8142.750000   18287.000000      12.000000   \n",
              "\n",
              "                year            dow             dp           days  \\\n",
              "count  392622.000000  392622.000000  392622.000000  392622.000000   \n",
              "mean     2010.934642       2.606950     151.196966     544.250032   \n",
              "std         0.247157       1.923985     112.687843     112.668592   \n",
              "min      2010.000000       0.000000       0.000000     323.000000   \n",
              "25%      2011.000000       1.000000      49.000000     450.000000   \n",
              "50%      2011.000000       2.000000     131.000000     565.000000   \n",
              "75%      2011.000000       4.000000     246.000000     646.000000   \n",
              "max      2011.000000       6.000000     373.000000     696.000000   \n",
              "\n",
              "             revenue  \n",
              "count  392622.000000  \n",
              "mean       21.688089  \n",
              "std        90.994351  \n",
              "min         0.001000  \n",
              "25%         4.950000  \n",
              "50%        12.390000  \n",
              "75%        19.800000  \n",
              "max     38970.000000  "
            ]
          },
          "metadata": {
            "tags": []
          },
          "execution_count": 46
        }
      ]
    },
    {
      "cell_type": "code",
      "metadata": {
        "id": "VaC16v6fWeL2",
        "outputId": "c345843d-ac8e-413e-c032-30fa45b7f293"
      },
      "source": [
        "df.dow.unique()"
      ],
      "execution_count": null,
      "outputs": [
        {
          "output_type": "execute_result",
          "data": {
            "text/plain": [
              "array([2, 3, 4, 6, 0, 1], dtype=int64)"
            ]
          },
          "metadata": {
            "tags": []
          },
          "execution_count": 47
        }
      ]
    },
    {
      "cell_type": "code",
      "metadata": {
        "id": "VFBGeYiSWeL3"
      },
      "source": [
        "df['CustomerID'] = df['CustomerID'].astype(str)"
      ],
      "execution_count": null,
      "outputs": []
    },
    {
      "cell_type": "code",
      "metadata": {
        "id": "Jmhtn2ucWeL3",
        "outputId": "6e95953a-6b31-4e10-84ad-d7aab2d2863d"
      },
      "source": [
        "df.info()"
      ],
      "execution_count": null,
      "outputs": [
        {
          "output_type": "stream",
          "text": [
            "<class 'pandas.core.frame.DataFrame'>\n",
            "Int64Index: 392692 entries, 0 to 541908\n",
            "Data columns (total 15 columns):\n",
            " #   Column       Non-Null Count   Dtype         \n",
            "---  ------       --------------   -----         \n",
            " 0   InvoiceNo    392692 non-null  object        \n",
            " 1   StockCode    392692 non-null  object        \n",
            " 2   Description  392692 non-null  object        \n",
            " 3   Quantity     392692 non-null  int64         \n",
            " 4   InvoiceDate  392692 non-null  datetime64[ns]\n",
            " 5   UnitPrice    392692 non-null  float64       \n",
            " 6   CustomerID   392692 non-null  object        \n",
            " 7   Country      392692 non-null  object        \n",
            " 8   mindate      392692 non-null  datetime64[ns]\n",
            " 9   month        392692 non-null  int64         \n",
            " 10  year         392692 non-null  int64         \n",
            " 11  dow          392692 non-null  int64         \n",
            " 12  dp           392692 non-null  int16         \n",
            " 13  days         392692 non-null  int16         \n",
            " 14  revenue      392692 non-null  float64       \n",
            "dtypes: datetime64[ns](2), float64(2), int16(2), int64(4), object(5)\n",
            "memory usage: 43.4+ MB\n"
          ],
          "name": "stdout"
        }
      ]
    },
    {
      "cell_type": "code",
      "metadata": {
        "id": "Stkyc0slWeL3",
        "outputId": "1d803612-7235-4f9b-9480-e06628c93980"
      },
      "source": [
        "#total revenue of transactions based on customerid\n",
        "dfr = df.groupby('CustomerID')['revenue'].sum()\n",
        "dfr = dfr.reset_index()\n",
        "dfr.head()"
      ],
      "execution_count": null,
      "outputs": [
        {
          "output_type": "execute_result",
          "data": {
            "text/html": [
              "<div>\n",
              "<style scoped>\n",
              "    .dataframe tbody tr th:only-of-type {\n",
              "        vertical-align: middle;\n",
              "    }\n",
              "\n",
              "    .dataframe tbody tr th {\n",
              "        vertical-align: top;\n",
              "    }\n",
              "\n",
              "    .dataframe thead th {\n",
              "        text-align: right;\n",
              "    }\n",
              "</style>\n",
              "<table border=\"1\" class=\"dataframe\">\n",
              "  <thead>\n",
              "    <tr style=\"text-align: right;\">\n",
              "      <th></th>\n",
              "      <th>CustomerID</th>\n",
              "      <th>revenue</th>\n",
              "    </tr>\n",
              "  </thead>\n",
              "  <tbody>\n",
              "    <tr>\n",
              "      <th>0</th>\n",
              "      <td>12346.0</td>\n",
              "      <td>77183.60</td>\n",
              "    </tr>\n",
              "    <tr>\n",
              "      <th>1</th>\n",
              "      <td>12347.0</td>\n",
              "      <td>4310.00</td>\n",
              "    </tr>\n",
              "    <tr>\n",
              "      <th>2</th>\n",
              "      <td>12348.0</td>\n",
              "      <td>1797.24</td>\n",
              "    </tr>\n",
              "    <tr>\n",
              "      <th>3</th>\n",
              "      <td>12349.0</td>\n",
              "      <td>1757.55</td>\n",
              "    </tr>\n",
              "    <tr>\n",
              "      <th>4</th>\n",
              "      <td>12350.0</td>\n",
              "      <td>334.40</td>\n",
              "    </tr>\n",
              "  </tbody>\n",
              "</table>\n",
              "</div>"
            ],
            "text/plain": [
              "  CustomerID   revenue\n",
              "0    12346.0  77183.60\n",
              "1    12347.0   4310.00\n",
              "2    12348.0   1797.24\n",
              "3    12349.0   1757.55\n",
              "4    12350.0    334.40"
            ]
          },
          "metadata": {
            "tags": []
          },
          "execution_count": 50
        }
      ]
    },
    {
      "cell_type": "code",
      "metadata": {
        "id": "jH2fJ8BuWeL3",
        "outputId": "82c839a6-39c3-46a3-8a7f-6e679ffff310"
      },
      "source": [
        "#calculate freq of purchase based on customerid\n",
        "dff = df.groupby('CustomerID')['InvoiceNo'].count()\n",
        "dff = dff.reset_index()\n",
        "dff.columns = ['CustomerID', 'Frequency']\n",
        "dff.head()"
      ],
      "execution_count": null,
      "outputs": [
        {
          "output_type": "execute_result",
          "data": {
            "text/html": [
              "<div>\n",
              "<style scoped>\n",
              "    .dataframe tbody tr th:only-of-type {\n",
              "        vertical-align: middle;\n",
              "    }\n",
              "\n",
              "    .dataframe tbody tr th {\n",
              "        vertical-align: top;\n",
              "    }\n",
              "\n",
              "    .dataframe thead th {\n",
              "        text-align: right;\n",
              "    }\n",
              "</style>\n",
              "<table border=\"1\" class=\"dataframe\">\n",
              "  <thead>\n",
              "    <tr style=\"text-align: right;\">\n",
              "      <th></th>\n",
              "      <th>CustomerID</th>\n",
              "      <th>Frequency</th>\n",
              "    </tr>\n",
              "  </thead>\n",
              "  <tbody>\n",
              "    <tr>\n",
              "      <th>0</th>\n",
              "      <td>12346.0</td>\n",
              "      <td>1</td>\n",
              "    </tr>\n",
              "    <tr>\n",
              "      <th>1</th>\n",
              "      <td>12347.0</td>\n",
              "      <td>182</td>\n",
              "    </tr>\n",
              "    <tr>\n",
              "      <th>2</th>\n",
              "      <td>12348.0</td>\n",
              "      <td>31</td>\n",
              "    </tr>\n",
              "    <tr>\n",
              "      <th>3</th>\n",
              "      <td>12349.0</td>\n",
              "      <td>73</td>\n",
              "    </tr>\n",
              "    <tr>\n",
              "      <th>4</th>\n",
              "      <td>12350.0</td>\n",
              "      <td>17</td>\n",
              "    </tr>\n",
              "  </tbody>\n",
              "</table>\n",
              "</div>"
            ],
            "text/plain": [
              "  CustomerID  Frequency\n",
              "0    12346.0          1\n",
              "1    12347.0        182\n",
              "2    12348.0         31\n",
              "3    12349.0         73\n",
              "4    12350.0         17"
            ]
          },
          "metadata": {
            "tags": []
          },
          "execution_count": 51
        }
      ]
    },
    {
      "cell_type": "code",
      "metadata": {
        "id": "gUOne1FsWeL3",
        "outputId": "be5577d7-e4df-4091-b2c6-29ba7cb26c21"
      },
      "source": [
        "#combine freq and revenue datasets\n",
        "dfrf = pd.merge(dfr, dff, on='CustomerID', how='inner')\n",
        "dfrf.head()"
      ],
      "execution_count": null,
      "outputs": [
        {
          "output_type": "execute_result",
          "data": {
            "text/html": [
              "<div>\n",
              "<style scoped>\n",
              "    .dataframe tbody tr th:only-of-type {\n",
              "        vertical-align: middle;\n",
              "    }\n",
              "\n",
              "    .dataframe tbody tr th {\n",
              "        vertical-align: top;\n",
              "    }\n",
              "\n",
              "    .dataframe thead th {\n",
              "        text-align: right;\n",
              "    }\n",
              "</style>\n",
              "<table border=\"1\" class=\"dataframe\">\n",
              "  <thead>\n",
              "    <tr style=\"text-align: right;\">\n",
              "      <th></th>\n",
              "      <th>CustomerID</th>\n",
              "      <th>revenue</th>\n",
              "      <th>Frequency</th>\n",
              "    </tr>\n",
              "  </thead>\n",
              "  <tbody>\n",
              "    <tr>\n",
              "      <th>0</th>\n",
              "      <td>12346.0</td>\n",
              "      <td>77183.60</td>\n",
              "      <td>1</td>\n",
              "    </tr>\n",
              "    <tr>\n",
              "      <th>1</th>\n",
              "      <td>12347.0</td>\n",
              "      <td>4310.00</td>\n",
              "      <td>182</td>\n",
              "    </tr>\n",
              "    <tr>\n",
              "      <th>2</th>\n",
              "      <td>12348.0</td>\n",
              "      <td>1797.24</td>\n",
              "      <td>31</td>\n",
              "    </tr>\n",
              "    <tr>\n",
              "      <th>3</th>\n",
              "      <td>12349.0</td>\n",
              "      <td>1757.55</td>\n",
              "      <td>73</td>\n",
              "    </tr>\n",
              "    <tr>\n",
              "      <th>4</th>\n",
              "      <td>12350.0</td>\n",
              "      <td>334.40</td>\n",
              "      <td>17</td>\n",
              "    </tr>\n",
              "  </tbody>\n",
              "</table>\n",
              "</div>"
            ],
            "text/plain": [
              "  CustomerID   revenue  Frequency\n",
              "0    12346.0  77183.60          1\n",
              "1    12347.0   4310.00        182\n",
              "2    12348.0   1797.24         31\n",
              "3    12349.0   1757.55         73\n",
              "4    12350.0    334.40         17"
            ]
          },
          "metadata": {
            "tags": []
          },
          "execution_count": 52
        }
      ]
    },
    {
      "cell_type": "code",
      "metadata": {
        "id": "mS5dgbTBWeL4",
        "outputId": "eed0b3dd-db38-458b-f68d-b77776fd8aba"
      },
      "source": [
        "#calculate how recent was the last transaction\n",
        "dfdp = df.groupby('CustomerID')['dp'].min()\n",
        "dfdp = dfdp.reset_index()\n",
        "dfdp.head()"
      ],
      "execution_count": null,
      "outputs": [
        {
          "output_type": "execute_result",
          "data": {
            "text/html": [
              "<div>\n",
              "<style scoped>\n",
              "    .dataframe tbody tr th:only-of-type {\n",
              "        vertical-align: middle;\n",
              "    }\n",
              "\n",
              "    .dataframe tbody tr th {\n",
              "        vertical-align: top;\n",
              "    }\n",
              "\n",
              "    .dataframe thead th {\n",
              "        text-align: right;\n",
              "    }\n",
              "</style>\n",
              "<table border=\"1\" class=\"dataframe\">\n",
              "  <thead>\n",
              "    <tr style=\"text-align: right;\">\n",
              "      <th></th>\n",
              "      <th>CustomerID</th>\n",
              "      <th>dp</th>\n",
              "    </tr>\n",
              "  </thead>\n",
              "  <tbody>\n",
              "    <tr>\n",
              "      <th>0</th>\n",
              "      <td>12346.0</td>\n",
              "      <td>325</td>\n",
              "    </tr>\n",
              "    <tr>\n",
              "      <th>1</th>\n",
              "      <td>12347.0</td>\n",
              "      <td>1</td>\n",
              "    </tr>\n",
              "    <tr>\n",
              "      <th>2</th>\n",
              "      <td>12348.0</td>\n",
              "      <td>74</td>\n",
              "    </tr>\n",
              "    <tr>\n",
              "      <th>3</th>\n",
              "      <td>12349.0</td>\n",
              "      <td>18</td>\n",
              "    </tr>\n",
              "    <tr>\n",
              "      <th>4</th>\n",
              "      <td>12350.0</td>\n",
              "      <td>309</td>\n",
              "    </tr>\n",
              "  </tbody>\n",
              "</table>\n",
              "</div>"
            ],
            "text/plain": [
              "  CustomerID   dp\n",
              "0    12346.0  325\n",
              "1    12347.0    1\n",
              "2    12348.0   74\n",
              "3    12349.0   18\n",
              "4    12350.0  309"
            ]
          },
          "metadata": {
            "tags": []
          },
          "execution_count": 53
        }
      ]
    },
    {
      "cell_type": "code",
      "metadata": {
        "id": "ddrhd0ctWeL4",
        "outputId": "96b3b231-21f7-47d2-f57d-5fee077390ef"
      },
      "source": [
        "#combine dfrf with dfrec\n",
        "dfc = pd.merge(dfrf, dfdp, on='CustomerID', how='inner')\n",
        "dfc.columns = ['CustomerID', 'revenue', 'frequency', 'daysprior']\n",
        "dfc.describe()"
      ],
      "execution_count": null,
      "outputs": [
        {
          "output_type": "execute_result",
          "data": {
            "text/html": [
              "<div>\n",
              "<style scoped>\n",
              "    .dataframe tbody tr th:only-of-type {\n",
              "        vertical-align: middle;\n",
              "    }\n",
              "\n",
              "    .dataframe tbody tr th {\n",
              "        vertical-align: top;\n",
              "    }\n",
              "\n",
              "    .dataframe thead th {\n",
              "        text-align: right;\n",
              "    }\n",
              "</style>\n",
              "<table border=\"1\" class=\"dataframe\">\n",
              "  <thead>\n",
              "    <tr style=\"text-align: right;\">\n",
              "      <th></th>\n",
              "      <th>revenue</th>\n",
              "      <th>frequency</th>\n",
              "      <th>daysprior</th>\n",
              "    </tr>\n",
              "  </thead>\n",
              "  <tbody>\n",
              "    <tr>\n",
              "      <th>count</th>\n",
              "      <td>4338.000000</td>\n",
              "      <td>4338.000000</td>\n",
              "      <td>4338.000000</td>\n",
              "    </tr>\n",
              "    <tr>\n",
              "      <th>mean</th>\n",
              "      <td>2048.688081</td>\n",
              "      <td>90.523744</td>\n",
              "      <td>91.536422</td>\n",
              "    </tr>\n",
              "    <tr>\n",
              "      <th>std</th>\n",
              "      <td>8985.230220</td>\n",
              "      <td>225.506968</td>\n",
              "      <td>100.014169</td>\n",
              "    </tr>\n",
              "    <tr>\n",
              "      <th>min</th>\n",
              "      <td>3.750000</td>\n",
              "      <td>1.000000</td>\n",
              "      <td>0.000000</td>\n",
              "    </tr>\n",
              "    <tr>\n",
              "      <th>25%</th>\n",
              "      <td>306.482500</td>\n",
              "      <td>17.000000</td>\n",
              "      <td>17.000000</td>\n",
              "    </tr>\n",
              "    <tr>\n",
              "      <th>50%</th>\n",
              "      <td>668.570000</td>\n",
              "      <td>41.000000</td>\n",
              "      <td>50.000000</td>\n",
              "    </tr>\n",
              "    <tr>\n",
              "      <th>75%</th>\n",
              "      <td>1660.597500</td>\n",
              "      <td>98.000000</td>\n",
              "      <td>141.000000</td>\n",
              "    </tr>\n",
              "    <tr>\n",
              "      <th>max</th>\n",
              "      <td>280206.020000</td>\n",
              "      <td>7676.000000</td>\n",
              "      <td>373.000000</td>\n",
              "    </tr>\n",
              "  </tbody>\n",
              "</table>\n",
              "</div>"
            ],
            "text/plain": [
              "             revenue    frequency    daysprior\n",
              "count    4338.000000  4338.000000  4338.000000\n",
              "mean     2048.688081    90.523744    91.536422\n",
              "std      8985.230220   225.506968   100.014169\n",
              "min         3.750000     1.000000     0.000000\n",
              "25%       306.482500    17.000000    17.000000\n",
              "50%       668.570000    41.000000    50.000000\n",
              "75%      1660.597500    98.000000   141.000000\n",
              "max    280206.020000  7676.000000   373.000000"
            ]
          },
          "metadata": {
            "tags": []
          },
          "execution_count": 54
        }
      ]
    },
    {
      "cell_type": "code",
      "metadata": {
        "id": "eIYsfCVuWeL4",
        "outputId": "e919e7f7-31a5-4d93-b183-097fe1b22928"
      },
      "source": [
        "dfc.hist(column='frequency', bins=100)"
      ],
      "execution_count": null,
      "outputs": [
        {
          "output_type": "execute_result",
          "data": {
            "text/plain": [
              "array([[<AxesSubplot:title={'center':'frequency'}>]], dtype=object)"
            ]
          },
          "metadata": {
            "tags": []
          },
          "execution_count": 55
        },
        {
          "output_type": "display_data",
          "data": {
            "image/png": "[encoded data removed]",
            "text/plain": [
              "<Figure size 432x288 with 1 Axes>"
            ]
          },
          "metadata": {
            "tags": [],
            "needs_background": "light"
          }
        }
      ]
    },
    {
      "cell_type": "code",
      "metadata": {
        "id": "kgZ6EJFFWeL4",
        "outputId": "6f09a1de-2845-4aa9-f120-4724bd312520"
      },
      "source": [
        "dfc.hist(column='revenue', bins=100)"
      ],
      "execution_count": null,
      "outputs": [
        {
          "output_type": "execute_result",
          "data": {
            "text/plain": [
              "array([[<AxesSubplot:title={'center':'revenue'}>]], dtype=object)"
            ]
          },
          "metadata": {
            "tags": []
          },
          "execution_count": 56
        },
        {
          "output_type": "display_data",
          "data": {
            "image/png": "[encoded data removed]",
            "text/plain": [
              "<Figure size 432x288 with 1 Axes>"
            ]
          },
          "metadata": {
            "tags": [],
            "needs_background": "light"
          }
        }
      ]
    },
    {
      "cell_type": "code",
      "metadata": {
        "id": "ArnxW8eBWeL5",
        "outputId": "56b7d928-9012-4b3b-cc7e-4e6262259460"
      },
      "source": [
        "dfc.hist(column='daysprior', bins=100)"
      ],
      "execution_count": null,
      "outputs": [
        {
          "output_type": "execute_result",
          "data": {
            "text/plain": [
              "array([[<AxesSubplot:title={'center':'daysprior'}>]], dtype=object)"
            ]
          },
          "metadata": {
            "tags": []
          },
          "execution_count": 57
        },
        {
          "output_type": "display_data",
          "data": {
            "image/png": "[encoded data removed]",
            "text/plain": [
              "<Figure size 432x288 with 1 Axes>"
            ]
          },
          "metadata": {
            "tags": [],
            "needs_background": "light"
          }
        }
      ]
    },
    {
      "cell_type": "code",
      "metadata": {
        "id": "daDWLV8PWeL5",
        "outputId": "ad7a8a79-7a67-4d86-8a7b-bec1b31169ca"
      },
      "source": [
        "boxplot_cols=['revenue', 'frequency', 'daysprior']\n",
        "dfc[boxplot_cols].plot(kind='box', subplots=True, layout=(2,3), figsize=(16,16))"
      ],
      "execution_count": null,
      "outputs": [
        {
          "output_type": "execute_result",
          "data": {
            "text/plain": [
              "revenue         AxesSubplot(0.125,0.536818;0.227941x0.343182)\n",
              "frequency    AxesSubplot(0.398529,0.536818;0.227941x0.343182)\n",
              "daysprior    AxesSubplot(0.672059,0.536818;0.227941x0.343182)\n",
              "dtype: object"
            ]
          },
          "metadata": {
            "tags": []
          },
          "execution_count": 58
        },
        {
          "output_type": "display_data",
          "data": {
            "image/png": "[encoded data removed]",
            "text/plain": [
              "<Figure size 1152x1152 with 6 Axes>"
            ]
          },
          "metadata": {
            "tags": [],
            "needs_background": "light"
          }
        }
      ]
    },
    {
      "cell_type": "code",
      "metadata": {
        "id": "ImKrtqJ7WeL5",
        "outputId": "47ee5653-fddf-4dcc-f31f-309bc322f163"
      },
      "source": [
        "dfc.head()"
      ],
      "execution_count": null,
      "outputs": [
        {
          "output_type": "execute_result",
          "data": {
            "text/html": [
              "<div>\n",
              "<style scoped>\n",
              "    .dataframe tbody tr th:only-of-type {\n",
              "        vertical-align: middle;\n",
              "    }\n",
              "\n",
              "    .dataframe tbody tr th {\n",
              "        vertical-align: top;\n",
              "    }\n",
              "\n",
              "    .dataframe thead th {\n",
              "        text-align: right;\n",
              "    }\n",
              "</style>\n",
              "<table border=\"1\" class=\"dataframe\">\n",
              "  <thead>\n",
              "    <tr style=\"text-align: right;\">\n",
              "      <th></th>\n",
              "      <th>CustomerID</th>\n",
              "      <th>revenue</th>\n",
              "      <th>frequency</th>\n",
              "      <th>daysprior</th>\n",
              "    </tr>\n",
              "  </thead>\n",
              "  <tbody>\n",
              "    <tr>\n",
              "      <th>0</th>\n",
              "      <td>12346.0</td>\n",
              "      <td>77183.60</td>\n",
              "      <td>1</td>\n",
              "      <td>325</td>\n",
              "    </tr>\n",
              "    <tr>\n",
              "      <th>1</th>\n",
              "      <td>12347.0</td>\n",
              "      <td>4310.00</td>\n",
              "      <td>182</td>\n",
              "      <td>1</td>\n",
              "    </tr>\n",
              "    <tr>\n",
              "      <th>2</th>\n",
              "      <td>12348.0</td>\n",
              "      <td>1797.24</td>\n",
              "      <td>31</td>\n",
              "      <td>74</td>\n",
              "    </tr>\n",
              "    <tr>\n",
              "      <th>3</th>\n",
              "      <td>12349.0</td>\n",
              "      <td>1757.55</td>\n",
              "      <td>73</td>\n",
              "      <td>18</td>\n",
              "    </tr>\n",
              "    <tr>\n",
              "      <th>4</th>\n",
              "      <td>12350.0</td>\n",
              "      <td>334.40</td>\n",
              "      <td>17</td>\n",
              "      <td>309</td>\n",
              "    </tr>\n",
              "  </tbody>\n",
              "</table>\n",
              "</div>"
            ],
            "text/plain": [
              "  CustomerID   revenue  frequency  daysprior\n",
              "0    12346.0  77183.60          1        325\n",
              "1    12347.0   4310.00        182          1\n",
              "2    12348.0   1797.24         31         74\n",
              "3    12349.0   1757.55         73         18\n",
              "4    12350.0    334.40         17        309"
            ]
          },
          "metadata": {
            "tags": []
          },
          "execution_count": 59
        }
      ]
    },
    {
      "cell_type": "code",
      "metadata": {
        "id": "N2C6fJlTWeL5",
        "outputId": "f551e1ef-6c2f-4e8b-bb94-356332d728d0"
      },
      "source": [
        "df.head()                      "
      ],
      "execution_count": null,
      "outputs": [
        {
          "output_type": "execute_result",
          "data": {
            "text/html": [
              "<div>\n",
              "<style scoped>\n",
              "    .dataframe tbody tr th:only-of-type {\n",
              "        vertical-align: middle;\n",
              "    }\n",
              "\n",
              "    .dataframe tbody tr th {\n",
              "        vertical-align: top;\n",
              "    }\n",
              "\n",
              "    .dataframe thead th {\n",
              "        text-align: right;\n",
              "    }\n",
              "</style>\n",
              "<table border=\"1\" class=\"dataframe\">\n",
              "  <thead>\n",
              "    <tr style=\"text-align: right;\">\n",
              "      <th></th>\n",
              "      <th>InvoiceNo</th>\n",
              "      <th>StockCode</th>\n",
              "      <th>Description</th>\n",
              "      <th>Quantity</th>\n",
              "      <th>InvoiceDate</th>\n",
              "      <th>UnitPrice</th>\n",
              "      <th>CustomerID</th>\n",
              "      <th>Country</th>\n",
              "      <th>mindate</th>\n",
              "      <th>month</th>\n",
              "      <th>year</th>\n",
              "      <th>dow</th>\n",
              "      <th>dp</th>\n",
              "      <th>days</th>\n",
              "      <th>revenue</th>\n",
              "    </tr>\n",
              "  </thead>\n",
              "  <tbody>\n",
              "    <tr>\n",
              "      <th>0</th>\n",
              "      <td>536365</td>\n",
              "      <td>85123A</td>\n",
              "      <td>WHITE HANGING HEART T-LIGHT HOLDER</td>\n",
              "      <td>6</td>\n",
              "      <td>2010-12-01 08:26:00</td>\n",
              "      <td>2.55</td>\n",
              "      <td>17850.0</td>\n",
              "      <td>United Kingdom</td>\n",
              "      <td>2010-01-12 08:26:00</td>\n",
              "      <td>12</td>\n",
              "      <td>2010</td>\n",
              "      <td>2</td>\n",
              "      <td>373</td>\n",
              "      <td>323</td>\n",
              "      <td>15.30</td>\n",
              "    </tr>\n",
              "    <tr>\n",
              "      <th>1</th>\n",
              "      <td>536365</td>\n",
              "      <td>71053</td>\n",
              "      <td>WHITE METAL LANTERN</td>\n",
              "      <td>6</td>\n",
              "      <td>2010-12-01 08:26:00</td>\n",
              "      <td>3.39</td>\n",
              "      <td>17850.0</td>\n",
              "      <td>United Kingdom</td>\n",
              "      <td>2010-01-12 08:26:00</td>\n",
              "      <td>12</td>\n",
              "      <td>2010</td>\n",
              "      <td>2</td>\n",
              "      <td>373</td>\n",
              "      <td>323</td>\n",
              "      <td>20.34</td>\n",
              "    </tr>\n",
              "    <tr>\n",
              "      <th>2</th>\n",
              "      <td>536365</td>\n",
              "      <td>84406B</td>\n",
              "      <td>CREAM CUPID HEARTS COAT HANGER</td>\n",
              "      <td>8</td>\n",
              "      <td>2010-12-01 08:26:00</td>\n",
              "      <td>2.75</td>\n",
              "      <td>17850.0</td>\n",
              "      <td>United Kingdom</td>\n",
              "      <td>2010-01-12 08:26:00</td>\n",
              "      <td>12</td>\n",
              "      <td>2010</td>\n",
              "      <td>2</td>\n",
              "      <td>373</td>\n",
              "      <td>323</td>\n",
              "      <td>22.00</td>\n",
              "    </tr>\n",
              "    <tr>\n",
              "      <th>3</th>\n",
              "      <td>536365</td>\n",
              "      <td>84029G</td>\n",
              "      <td>KNITTED UNION FLAG HOT WATER BOTTLE</td>\n",
              "      <td>6</td>\n",
              "      <td>2010-12-01 08:26:00</td>\n",
              "      <td>3.39</td>\n",
              "      <td>17850.0</td>\n",
              "      <td>United Kingdom</td>\n",
              "      <td>2010-01-12 08:26:00</td>\n",
              "      <td>12</td>\n",
              "      <td>2010</td>\n",
              "      <td>2</td>\n",
              "      <td>373</td>\n",
              "      <td>323</td>\n",
              "      <td>20.34</td>\n",
              "    </tr>\n",
              "    <tr>\n",
              "      <th>4</th>\n",
              "      <td>536365</td>\n",
              "      <td>84029E</td>\n",
              "      <td>RED WOOLLY HOTTIE WHITE HEART.</td>\n",
              "      <td>6</td>\n",
              "      <td>2010-12-01 08:26:00</td>\n",
              "      <td>3.39</td>\n",
              "      <td>17850.0</td>\n",
              "      <td>United Kingdom</td>\n",
              "      <td>2010-01-12 08:26:00</td>\n",
              "      <td>12</td>\n",
              "      <td>2010</td>\n",
              "      <td>2</td>\n",
              "      <td>373</td>\n",
              "      <td>323</td>\n",
              "      <td>20.34</td>\n",
              "    </tr>\n",
              "  </tbody>\n",
              "</table>\n",
              "</div>"
            ],
            "text/plain": [
              "  InvoiceNo StockCode                          Description  Quantity  \\\n",
              "0    536365    85123A   WHITE HANGING HEART T-LIGHT HOLDER         6   \n",
              "1    536365     71053                  WHITE METAL LANTERN         6   \n",
              "2    536365    84406B       CREAM CUPID HEARTS COAT HANGER         8   \n",
              "3    536365    84029G  KNITTED UNION FLAG HOT WATER BOTTLE         6   \n",
              "4    536365    84029E       RED WOOLLY HOTTIE WHITE HEART.         6   \n",
              "\n",
              "          InvoiceDate  UnitPrice CustomerID         Country  \\\n",
              "0 2010-12-01 08:26:00       2.55    17850.0  United Kingdom   \n",
              "1 2010-12-01 08:26:00       3.39    17850.0  United Kingdom   \n",
              "2 2010-12-01 08:26:00       2.75    17850.0  United Kingdom   \n",
              "3 2010-12-01 08:26:00       3.39    17850.0  United Kingdom   \n",
              "4 2010-12-01 08:26:00       3.39    17850.0  United Kingdom   \n",
              "\n",
              "              mindate  month  year  dow   dp  days  revenue  \n",
              "0 2010-01-12 08:26:00     12  2010    2  373   323    15.30  \n",
              "1 2010-01-12 08:26:00     12  2010    2  373   323    20.34  \n",
              "2 2010-01-12 08:26:00     12  2010    2  373   323    22.00  \n",
              "3 2010-01-12 08:26:00     12  2010    2  373   323    20.34  \n",
              "4 2010-01-12 08:26:00     12  2010    2  373   323    20.34  "
            ]
          },
          "metadata": {
            "tags": []
          },
          "execution_count": 60
        }
      ]
    },
    {
      "cell_type": "code",
      "metadata": {
        "id": "T2VPw6YTWeL5",
        "outputId": "0a15707e-5157-41a9-a7af-c1c4aec1d243"
      },
      "source": [
        "dfcsecondanalysis=dfc.copy()\n",
        "dfcsecondanalysis.head()"
      ],
      "execution_count": null,
      "outputs": [
        {
          "output_type": "execute_result",
          "data": {
            "text/html": [
              "<div>\n",
              "<style scoped>\n",
              "    .dataframe tbody tr th:only-of-type {\n",
              "        vertical-align: middle;\n",
              "    }\n",
              "\n",
              "    .dataframe tbody tr th {\n",
              "        vertical-align: top;\n",
              "    }\n",
              "\n",
              "    .dataframe thead th {\n",
              "        text-align: right;\n",
              "    }\n",
              "</style>\n",
              "<table border=\"1\" class=\"dataframe\">\n",
              "  <thead>\n",
              "    <tr style=\"text-align: right;\">\n",
              "      <th></th>\n",
              "      <th>CustomerID</th>\n",
              "      <th>revenue</th>\n",
              "      <th>frequency</th>\n",
              "      <th>daysprior</th>\n",
              "    </tr>\n",
              "  </thead>\n",
              "  <tbody>\n",
              "    <tr>\n",
              "      <th>0</th>\n",
              "      <td>12346.0</td>\n",
              "      <td>77183.60</td>\n",
              "      <td>1</td>\n",
              "      <td>325</td>\n",
              "    </tr>\n",
              "    <tr>\n",
              "      <th>1</th>\n",
              "      <td>12347.0</td>\n",
              "      <td>4310.00</td>\n",
              "      <td>182</td>\n",
              "      <td>1</td>\n",
              "    </tr>\n",
              "    <tr>\n",
              "      <th>2</th>\n",
              "      <td>12348.0</td>\n",
              "      <td>1797.24</td>\n",
              "      <td>31</td>\n",
              "      <td>74</td>\n",
              "    </tr>\n",
              "    <tr>\n",
              "      <th>3</th>\n",
              "      <td>12349.0</td>\n",
              "      <td>1757.55</td>\n",
              "      <td>73</td>\n",
              "      <td>18</td>\n",
              "    </tr>\n",
              "    <tr>\n",
              "      <th>4</th>\n",
              "      <td>12350.0</td>\n",
              "      <td>334.40</td>\n",
              "      <td>17</td>\n",
              "      <td>309</td>\n",
              "    </tr>\n",
              "  </tbody>\n",
              "</table>\n",
              "</div>"
            ],
            "text/plain": [
              "  CustomerID   revenue  frequency  daysprior\n",
              "0    12346.0  77183.60          1        325\n",
              "1    12347.0   4310.00        182          1\n",
              "2    12348.0   1797.24         31         74\n",
              "3    12349.0   1757.55         73         18\n",
              "4    12350.0    334.40         17        309"
            ]
          },
          "metadata": {
            "tags": []
          },
          "execution_count": 61
        }
      ]
    },
    {
      "cell_type": "code",
      "metadata": {
        "id": "1zrjCqnTWeL6",
        "outputId": "e5aca53c-35bf-49f1-a478-c5b0f4c1c8f7"
      },
      "source": [
        "X = dfcsecondanalysis[['revenue', 'frequency', 'daysprior']].to_numpy()      \n",
        "\n",
        "y_pred = KMeans(n_clusters=5, random_state=42).fit_predict(X)\n",
        "\n",
        "plt.scatter(X[:, 0], X[:, 1], c=y_pred)  "
      ],
      "execution_count": null,
      "outputs": [
        {
          "output_type": "execute_result",
          "data": {
            "text/plain": [
              "<matplotlib.collections.PathCollection at 0x18686798a60>"
            ]
          },
          "metadata": {
            "tags": []
          },
          "execution_count": 62
        },
        {
          "output_type": "display_data",
          "data": {
            "image/png": "[encoded data removed]",
            "text/plain": [
              "<Figure size 432x288 with 1 Axes>"
            ]
          },
          "metadata": {
            "tags": [],
            "needs_background": "light"
          }
        }
      ]
    },
    {
      "cell_type": "code",
      "metadata": {
        "id": "sQ7-om73WeL6",
        "outputId": "3c2739f3-1efa-48e4-d30b-d7a7031403b2"
      },
      "source": [
        "X = dfc[['revenue', 'frequency', 'daysprior']].to_numpy()      \n",
        "\n",
        "y_pred = KMeans(n_clusters=3, random_state=42).fit_predict(X)\n",
        "\n",
        "plt.scatter(X[:, 0], X[:, 1], c=y_pred)  "
      ],
      "execution_count": null,
      "outputs": [
        {
          "output_type": "execute_result",
          "data": {
            "text/plain": [
              "<matplotlib.collections.PathCollection at 0x18686c5c160>"
            ]
          },
          "metadata": {
            "tags": []
          },
          "execution_count": 63
        },
        {
          "output_type": "display_data",
          "data": {
            "image/png": "[encoded data removed]",
            "text/plain": [
              "<Figure size 432x288 with 1 Axes>"
            ]
          },
          "metadata": {
            "tags": [],
            "needs_background": "light"
          }
        }
      ]
    },
    {
      "cell_type": "code",
      "metadata": {
        "id": "YgU2BbQGWeL6",
        "outputId": "3973395f-18b2-4b31-bca8-227da9ba6d11"
      },
      "source": [
        "# Rescaling the attributes\n",
        "\n",
        "dfc2 = dfc[[ 'revenue', 'frequency', 'daysprior']]\n",
        "\n",
        "# Instantiate\n",
        "scaler = StandardScaler()\n",
        "\n",
        "# fit_transform\n",
        "dfc3 = scaler.fit_transform(dfc2)\n",
        "dfc3.shape"
      ],
      "execution_count": null,
      "outputs": [
        {
          "output_type": "execute_result",
          "data": {
            "text/plain": [
              "(4338, 3)"
            ]
          },
          "metadata": {
            "tags": []
          },
          "execution_count": 64
        }
      ]
    },
    {
      "cell_type": "code",
      "metadata": {
        "id": "8Vo0IiVrWeL6",
        "outputId": "492725ba-51a6-4cae-f6cb-3ac619253577"
      },
      "source": [
        "dfc3 = pd.DataFrame(dfc3)\n",
        "dfc3.columns = ['revenue', 'frequency', 'daysprior']\n",
        "dfc3.head()"
      ],
      "execution_count": null,
      "outputs": [
        {
          "output_type": "execute_result",
          "data": {
            "text/html": [
              "<div>\n",
              "<style scoped>\n",
              "    .dataframe tbody tr th:only-of-type {\n",
              "        vertical-align: middle;\n",
              "    }\n",
              "\n",
              "    .dataframe tbody tr th {\n",
              "        vertical-align: top;\n",
              "    }\n",
              "\n",
              "    .dataframe thead th {\n",
              "        text-align: right;\n",
              "    }\n",
              "</style>\n",
              "<table border=\"1\" class=\"dataframe\">\n",
              "  <thead>\n",
              "    <tr style=\"text-align: right;\">\n",
              "      <th></th>\n",
              "      <th>revenue</th>\n",
              "      <th>frequency</th>\n",
              "      <th>daysprior</th>\n",
              "    </tr>\n",
              "  </thead>\n",
              "  <tbody>\n",
              "    <tr>\n",
              "      <th>0</th>\n",
              "      <td>8.363010</td>\n",
              "      <td>-0.397035</td>\n",
              "      <td>2.334574</td>\n",
              "    </tr>\n",
              "    <tr>\n",
              "      <th>1</th>\n",
              "      <td>0.251699</td>\n",
              "      <td>0.405694</td>\n",
              "      <td>-0.905340</td>\n",
              "    </tr>\n",
              "    <tr>\n",
              "      <th>2</th>\n",
              "      <td>-0.027988</td>\n",
              "      <td>-0.263986</td>\n",
              "      <td>-0.175360</td>\n",
              "    </tr>\n",
              "    <tr>\n",
              "      <th>3</th>\n",
              "      <td>-0.032406</td>\n",
              "      <td>-0.077717</td>\n",
              "      <td>-0.735345</td>\n",
              "    </tr>\n",
              "    <tr>\n",
              "      <th>4</th>\n",
              "      <td>-0.190812</td>\n",
              "      <td>-0.326075</td>\n",
              "      <td>2.174578</td>\n",
              "    </tr>\n",
              "  </tbody>\n",
              "</table>\n",
              "</div>"
            ],
            "text/plain": [
              "    revenue  frequency  daysprior\n",
              "0  8.363010  -0.397035   2.334574\n",
              "1  0.251699   0.405694  -0.905340\n",
              "2 -0.027988  -0.263986  -0.175360\n",
              "3 -0.032406  -0.077717  -0.735345\n",
              "4 -0.190812  -0.326075   2.174578"
            ]
          },
          "metadata": {
            "tags": []
          },
          "execution_count": 65
        }
      ]
    },
    {
      "cell_type": "code",
      "metadata": {
        "id": "2QDolB0lWeL6",
        "outputId": "0be780b4-5ba4-49f5-e758-abecbfe2f69b"
      },
      "source": [
        "dfc.head()"
      ],
      "execution_count": null,
      "outputs": [
        {
          "output_type": "execute_result",
          "data": {
            "text/html": [
              "<div>\n",
              "<style scoped>\n",
              "    .dataframe tbody tr th:only-of-type {\n",
              "        vertical-align: middle;\n",
              "    }\n",
              "\n",
              "    .dataframe tbody tr th {\n",
              "        vertical-align: top;\n",
              "    }\n",
              "\n",
              "    .dataframe thead th {\n",
              "        text-align: right;\n",
              "    }\n",
              "</style>\n",
              "<table border=\"1\" class=\"dataframe\">\n",
              "  <thead>\n",
              "    <tr style=\"text-align: right;\">\n",
              "      <th></th>\n",
              "      <th>CustomerID</th>\n",
              "      <th>revenue</th>\n",
              "      <th>frequency</th>\n",
              "      <th>daysprior</th>\n",
              "    </tr>\n",
              "  </thead>\n",
              "  <tbody>\n",
              "    <tr>\n",
              "      <th>0</th>\n",
              "      <td>12346.0</td>\n",
              "      <td>77183.60</td>\n",
              "      <td>1</td>\n",
              "      <td>325</td>\n",
              "    </tr>\n",
              "    <tr>\n",
              "      <th>1</th>\n",
              "      <td>12347.0</td>\n",
              "      <td>4310.00</td>\n",
              "      <td>182</td>\n",
              "      <td>1</td>\n",
              "    </tr>\n",
              "    <tr>\n",
              "      <th>2</th>\n",
              "      <td>12348.0</td>\n",
              "      <td>1797.24</td>\n",
              "      <td>31</td>\n",
              "      <td>74</td>\n",
              "    </tr>\n",
              "    <tr>\n",
              "      <th>3</th>\n",
              "      <td>12349.0</td>\n",
              "      <td>1757.55</td>\n",
              "      <td>73</td>\n",
              "      <td>18</td>\n",
              "    </tr>\n",
              "    <tr>\n",
              "      <th>4</th>\n",
              "      <td>12350.0</td>\n",
              "      <td>334.40</td>\n",
              "      <td>17</td>\n",
              "      <td>309</td>\n",
              "    </tr>\n",
              "  </tbody>\n",
              "</table>\n",
              "</div>"
            ],
            "text/plain": [
              "  CustomerID   revenue  frequency  daysprior\n",
              "0    12346.0  77183.60          1        325\n",
              "1    12347.0   4310.00        182          1\n",
              "2    12348.0   1797.24         31         74\n",
              "3    12349.0   1757.55         73         18\n",
              "4    12350.0    334.40         17        309"
            ]
          },
          "metadata": {
            "tags": []
          },
          "execution_count": 66
        }
      ]
    },
    {
      "cell_type": "code",
      "metadata": {
        "id": "6td3XIqrWeL7",
        "outputId": "a2319035-70e8-4b71-e446-292780f61512"
      },
      "source": [
        "# Elbow-curve\n",
        "ssd = []\n",
        "range_n_clusters = [2, 3, 4, 5, 6, 7, 8, 9, 10]\n",
        "for num_clusters in range_n_clusters:\n",
        "    kmeans = KMeans(n_clusters=num_clusters, max_iter=50)\n",
        "    kmeans.fit(dfc3)\n",
        "    \n",
        "    ssd.append(kmeans.inertia_)\n",
        "    \n",
        "plt.plot(ssd)"
      ],
      "execution_count": null,
      "outputs": [
        {
          "output_type": "execute_result",
          "data": {
            "text/plain": [
              "[<matplotlib.lines.Line2D at 0x18686f66ca0>]"
            ]
          },
          "metadata": {
            "tags": []
          },
          "execution_count": 67
        },
        {
          "output_type": "display_data",
          "data": {
            "image/png": "[encoded data removed]",
            "text/plain": [
              "<Figure size 432x288 with 1 Axes>"
            ]
          },
          "metadata": {
            "tags": [],
            "needs_background": "light"
          }
        }
      ]
    },
    {
      "cell_type": "code",
      "metadata": {
        "scrolled": true,
        "id": "SMkVLz9IWeL7",
        "outputId": "01875cd3-32c1-45f3-e16b-38af9da41b29"
      },
      "source": [
        "# Silhouette score of 1 means that the clusters are very dense and nicely separated. The score of 0 means that clusters are overlapping. The score of less than 0 means that data belonging to clusters may be wrong/incorrect.\n",
        "range_n_clusters = [2, 3, 4, 5, 6, 7, 8]\n",
        "\n",
        "for num_clusters in range_n_clusters:\n",
        "    \n",
        "    # intialise kmeans\n",
        "    kmeans = KMeans(n_clusters=num_clusters, max_iter=50)\n",
        "    kmeans.fit(dfc3)\n",
        "    \n",
        "    cluster_labels = kmeans.labels_\n",
        "    \n",
        "    # silhouette score\n",
        "    silhouette_avg = silhouette_score(dfc3, cluster_labels)\n",
        "    print(\"For n_clusters={0}, the silhouette score is {1}\".format(num_clusters, silhouette_avg))"
      ],
      "execution_count": null,
      "outputs": [
        {
          "output_type": "stream",
          "text": [
            "For n_clusters=2, the silhouette score is 0.9312310483407636\n",
            "For n_clusters=3, the silhouette score is 0.6022759587511283\n",
            "For n_clusters=4, the silhouette score is 0.6014738543563704\n",
            "For n_clusters=5, the silhouette score is 0.6165550700897563\n",
            "For n_clusters=6, the silhouette score is 0.591226826316891\n",
            "For n_clusters=7, the silhouette score is 0.5227273211798416\n",
            "For n_clusters=8, the silhouette score is 0.5233039673638264\n"
          ],
          "name": "stdout"
        }
      ]
    },
    {
      "cell_type": "markdown",
      "metadata": {
        "id": "zX2A8m8jWeL7"
      },
      "source": [
        "#DO NOT KNOW how to integrate this piece to get the best iteration out of all based on Silhouette scores :(\n",
        "best_result = (n_clusters, metric_score)\n",
        "clusters = []\n",
        "for M iterations:\n",
        "    for 1 to N clusters:\n",
        "        Kmeans(n_clusters)\n",
        "        calculate metric_score\n",
        "        if metric_score better than previous best:\n",
        "            save cluster assignments\n",
        "            update best_result\n",
        "            \n"
      ]
    },
    {
      "cell_type": "code",
      "metadata": {
        "id": "vXJsVzjNWeL7",
        "outputId": "34c9eb91-a186-40a7-fc58-b398c9e114f4"
      },
      "source": [
        "corr=dfc[['revenue', 'frequency', 'daysprior']].corr()  #medium correlation between revenue and frequency as expected\n",
        "corr"
      ],
      "execution_count": null,
      "outputs": [
        {
          "output_type": "execute_result",
          "data": {
            "text/html": [
              "<div>\n",
              "<style scoped>\n",
              "    .dataframe tbody tr th:only-of-type {\n",
              "        vertical-align: middle;\n",
              "    }\n",
              "\n",
              "    .dataframe tbody tr th {\n",
              "        vertical-align: top;\n",
              "    }\n",
              "\n",
              "    .dataframe thead th {\n",
              "        text-align: right;\n",
              "    }\n",
              "</style>\n",
              "<table border=\"1\" class=\"dataframe\">\n",
              "  <thead>\n",
              "    <tr style=\"text-align: right;\">\n",
              "      <th></th>\n",
              "      <th>revenue</th>\n",
              "      <th>frequency</th>\n",
              "      <th>daysprior</th>\n",
              "    </tr>\n",
              "  </thead>\n",
              "  <tbody>\n",
              "    <tr>\n",
              "      <th>revenue</th>\n",
              "      <td>1.000000</td>\n",
              "      <td>0.425282</td>\n",
              "      <td>-0.121831</td>\n",
              "    </tr>\n",
              "    <tr>\n",
              "      <th>frequency</th>\n",
              "      <td>0.425282</td>\n",
              "      <td>1.000000</td>\n",
              "      <td>-0.206444</td>\n",
              "    </tr>\n",
              "    <tr>\n",
              "      <th>daysprior</th>\n",
              "      <td>-0.121831</td>\n",
              "      <td>-0.206444</td>\n",
              "      <td>1.000000</td>\n",
              "    </tr>\n",
              "  </tbody>\n",
              "</table>\n",
              "</div>"
            ],
            "text/plain": [
              "            revenue  frequency  daysprior\n",
              "revenue    1.000000   0.425282  -0.121831\n",
              "frequency  0.425282   1.000000  -0.206444\n",
              "daysprior -0.121831  -0.206444   1.000000"
            ]
          },
          "metadata": {
            "tags": []
          },
          "execution_count": 69
        }
      ]
    },
    {
      "cell_type": "code",
      "metadata": {
        "id": "nRuu6eujWeL8",
        "outputId": "60bc7404-199b-4c76-f15f-7bab6c07485d"
      },
      "source": [
        "dfctwo=dfc.copy()\n",
        "dfctwo.head()"
      ],
      "execution_count": null,
      "outputs": [
        {
          "output_type": "execute_result",
          "data": {
            "text/html": [
              "<div>\n",
              "<style scoped>\n",
              "    .dataframe tbody tr th:only-of-type {\n",
              "        vertical-align: middle;\n",
              "    }\n",
              "\n",
              "    .dataframe tbody tr th {\n",
              "        vertical-align: top;\n",
              "    }\n",
              "\n",
              "    .dataframe thead th {\n",
              "        text-align: right;\n",
              "    }\n",
              "</style>\n",
              "<table border=\"1\" class=\"dataframe\">\n",
              "  <thead>\n",
              "    <tr style=\"text-align: right;\">\n",
              "      <th></th>\n",
              "      <th>CustomerID</th>\n",
              "      <th>revenue</th>\n",
              "      <th>frequency</th>\n",
              "      <th>daysprior</th>\n",
              "    </tr>\n",
              "  </thead>\n",
              "  <tbody>\n",
              "    <tr>\n",
              "      <th>0</th>\n",
              "      <td>12346.0</td>\n",
              "      <td>77183.60</td>\n",
              "      <td>1</td>\n",
              "      <td>325</td>\n",
              "    </tr>\n",
              "    <tr>\n",
              "      <th>1</th>\n",
              "      <td>12347.0</td>\n",
              "      <td>4310.00</td>\n",
              "      <td>182</td>\n",
              "      <td>1</td>\n",
              "    </tr>\n",
              "    <tr>\n",
              "      <th>2</th>\n",
              "      <td>12348.0</td>\n",
              "      <td>1797.24</td>\n",
              "      <td>31</td>\n",
              "      <td>74</td>\n",
              "    </tr>\n",
              "    <tr>\n",
              "      <th>3</th>\n",
              "      <td>12349.0</td>\n",
              "      <td>1757.55</td>\n",
              "      <td>73</td>\n",
              "      <td>18</td>\n",
              "    </tr>\n",
              "    <tr>\n",
              "      <th>4</th>\n",
              "      <td>12350.0</td>\n",
              "      <td>334.40</td>\n",
              "      <td>17</td>\n",
              "      <td>309</td>\n",
              "    </tr>\n",
              "  </tbody>\n",
              "</table>\n",
              "</div>"
            ],
            "text/plain": [
              "  CustomerID   revenue  frequency  daysprior\n",
              "0    12346.0  77183.60          1        325\n",
              "1    12347.0   4310.00        182          1\n",
              "2    12348.0   1797.24         31         74\n",
              "3    12349.0   1757.55         73         18\n",
              "4    12350.0    334.40         17        309"
            ]
          },
          "metadata": {
            "tags": []
          },
          "execution_count": 70
        }
      ]
    },
    {
      "cell_type": "code",
      "metadata": {
        "id": "Qc6r4lqEWeL8",
        "outputId": "b0160bd4-8e93-4833-f4aa-53bf02a1e75f"
      },
      "source": [
        "dfcthree=dfc.copy()\n",
        "dfcthree.head()"
      ],
      "execution_count": null,
      "outputs": [
        {
          "output_type": "execute_result",
          "data": {
            "text/html": [
              "<div>\n",
              "<style scoped>\n",
              "    .dataframe tbody tr th:only-of-type {\n",
              "        vertical-align: middle;\n",
              "    }\n",
              "\n",
              "    .dataframe tbody tr th {\n",
              "        vertical-align: top;\n",
              "    }\n",
              "\n",
              "    .dataframe thead th {\n",
              "        text-align: right;\n",
              "    }\n",
              "</style>\n",
              "<table border=\"1\" class=\"dataframe\">\n",
              "  <thead>\n",
              "    <tr style=\"text-align: right;\">\n",
              "      <th></th>\n",
              "      <th>CustomerID</th>\n",
              "      <th>revenue</th>\n",
              "      <th>frequency</th>\n",
              "      <th>daysprior</th>\n",
              "    </tr>\n",
              "  </thead>\n",
              "  <tbody>\n",
              "    <tr>\n",
              "      <th>0</th>\n",
              "      <td>12346.0</td>\n",
              "      <td>77183.60</td>\n",
              "      <td>1</td>\n",
              "      <td>325</td>\n",
              "    </tr>\n",
              "    <tr>\n",
              "      <th>1</th>\n",
              "      <td>12347.0</td>\n",
              "      <td>4310.00</td>\n",
              "      <td>182</td>\n",
              "      <td>1</td>\n",
              "    </tr>\n",
              "    <tr>\n",
              "      <th>2</th>\n",
              "      <td>12348.0</td>\n",
              "      <td>1797.24</td>\n",
              "      <td>31</td>\n",
              "      <td>74</td>\n",
              "    </tr>\n",
              "    <tr>\n",
              "      <th>3</th>\n",
              "      <td>12349.0</td>\n",
              "      <td>1757.55</td>\n",
              "      <td>73</td>\n",
              "      <td>18</td>\n",
              "    </tr>\n",
              "    <tr>\n",
              "      <th>4</th>\n",
              "      <td>12350.0</td>\n",
              "      <td>334.40</td>\n",
              "      <td>17</td>\n",
              "      <td>309</td>\n",
              "    </tr>\n",
              "  </tbody>\n",
              "</table>\n",
              "</div>"
            ],
            "text/plain": [
              "  CustomerID   revenue  frequency  daysprior\n",
              "0    12346.0  77183.60          1        325\n",
              "1    12347.0   4310.00        182          1\n",
              "2    12348.0   1797.24         31         74\n",
              "3    12349.0   1757.55         73         18\n",
              "4    12350.0    334.40         17        309"
            ]
          },
          "metadata": {
            "tags": []
          },
          "execution_count": 71
        }
      ]
    },
    {
      "cell_type": "code",
      "metadata": {
        "id": "Mz8RS_dFWeL8",
        "outputId": "1da984a0-3731-4ebd-e787-a50b9cdd3ea7"
      },
      "source": [
        "dfcfour=dfc.copy()\n",
        "dfcfour.head()"
      ],
      "execution_count": null,
      "outputs": [
        {
          "output_type": "execute_result",
          "data": {
            "text/html": [
              "<div>\n",
              "<style scoped>\n",
              "    .dataframe tbody tr th:only-of-type {\n",
              "        vertical-align: middle;\n",
              "    }\n",
              "\n",
              "    .dataframe tbody tr th {\n",
              "        vertical-align: top;\n",
              "    }\n",
              "\n",
              "    .dataframe thead th {\n",
              "        text-align: right;\n",
              "    }\n",
              "</style>\n",
              "<table border=\"1\" class=\"dataframe\">\n",
              "  <thead>\n",
              "    <tr style=\"text-align: right;\">\n",
              "      <th></th>\n",
              "      <th>CustomerID</th>\n",
              "      <th>revenue</th>\n",
              "      <th>frequency</th>\n",
              "      <th>daysprior</th>\n",
              "    </tr>\n",
              "  </thead>\n",
              "  <tbody>\n",
              "    <tr>\n",
              "      <th>0</th>\n",
              "      <td>12346.0</td>\n",
              "      <td>77183.60</td>\n",
              "      <td>1</td>\n",
              "      <td>325</td>\n",
              "    </tr>\n",
              "    <tr>\n",
              "      <th>1</th>\n",
              "      <td>12347.0</td>\n",
              "      <td>4310.00</td>\n",
              "      <td>182</td>\n",
              "      <td>1</td>\n",
              "    </tr>\n",
              "    <tr>\n",
              "      <th>2</th>\n",
              "      <td>12348.0</td>\n",
              "      <td>1797.24</td>\n",
              "      <td>31</td>\n",
              "      <td>74</td>\n",
              "    </tr>\n",
              "    <tr>\n",
              "      <th>3</th>\n",
              "      <td>12349.0</td>\n",
              "      <td>1757.55</td>\n",
              "      <td>73</td>\n",
              "      <td>18</td>\n",
              "    </tr>\n",
              "    <tr>\n",
              "      <th>4</th>\n",
              "      <td>12350.0</td>\n",
              "      <td>334.40</td>\n",
              "      <td>17</td>\n",
              "      <td>309</td>\n",
              "    </tr>\n",
              "  </tbody>\n",
              "</table>\n",
              "</div>"
            ],
            "text/plain": [
              "  CustomerID   revenue  frequency  daysprior\n",
              "0    12346.0  77183.60          1        325\n",
              "1    12347.0   4310.00        182          1\n",
              "2    12348.0   1797.24         31         74\n",
              "3    12349.0   1757.55         73         18\n",
              "4    12350.0    334.40         17        309"
            ]
          },
          "metadata": {
            "tags": []
          },
          "execution_count": 72
        }
      ]
    },
    {
      "cell_type": "code",
      "metadata": {
        "id": "lRZ15h3fWeL8",
        "outputId": "05d81b0c-a315-4cb0-8f88-5316373c92a0"
      },
      "source": [
        "dfcfive=dfc.copy()\n",
        "dfcfive.head()"
      ],
      "execution_count": null,
      "outputs": [
        {
          "output_type": "execute_result",
          "data": {
            "text/html": [
              "<div>\n",
              "<style scoped>\n",
              "    .dataframe tbody tr th:only-of-type {\n",
              "        vertical-align: middle;\n",
              "    }\n",
              "\n",
              "    .dataframe tbody tr th {\n",
              "        vertical-align: top;\n",
              "    }\n",
              "\n",
              "    .dataframe thead th {\n",
              "        text-align: right;\n",
              "    }\n",
              "</style>\n",
              "<table border=\"1\" class=\"dataframe\">\n",
              "  <thead>\n",
              "    <tr style=\"text-align: right;\">\n",
              "      <th></th>\n",
              "      <th>CustomerID</th>\n",
              "      <th>revenue</th>\n",
              "      <th>frequency</th>\n",
              "      <th>daysprior</th>\n",
              "    </tr>\n",
              "  </thead>\n",
              "  <tbody>\n",
              "    <tr>\n",
              "      <th>0</th>\n",
              "      <td>12346.0</td>\n",
              "      <td>77183.60</td>\n",
              "      <td>1</td>\n",
              "      <td>325</td>\n",
              "    </tr>\n",
              "    <tr>\n",
              "      <th>1</th>\n",
              "      <td>12347.0</td>\n",
              "      <td>4310.00</td>\n",
              "      <td>182</td>\n",
              "      <td>1</td>\n",
              "    </tr>\n",
              "    <tr>\n",
              "      <th>2</th>\n",
              "      <td>12348.0</td>\n",
              "      <td>1797.24</td>\n",
              "      <td>31</td>\n",
              "      <td>74</td>\n",
              "    </tr>\n",
              "    <tr>\n",
              "      <th>3</th>\n",
              "      <td>12349.0</td>\n",
              "      <td>1757.55</td>\n",
              "      <td>73</td>\n",
              "      <td>18</td>\n",
              "    </tr>\n",
              "    <tr>\n",
              "      <th>4</th>\n",
              "      <td>12350.0</td>\n",
              "      <td>334.40</td>\n",
              "      <td>17</td>\n",
              "      <td>309</td>\n",
              "    </tr>\n",
              "  </tbody>\n",
              "</table>\n",
              "</div>"
            ],
            "text/plain": [
              "  CustomerID   revenue  frequency  daysprior\n",
              "0    12346.0  77183.60          1        325\n",
              "1    12347.0   4310.00        182          1\n",
              "2    12348.0   1797.24         31         74\n",
              "3    12349.0   1757.55         73         18\n",
              "4    12350.0    334.40         17        309"
            ]
          },
          "metadata": {
            "tags": []
          },
          "execution_count": 73
        }
      ]
    },
    {
      "cell_type": "code",
      "metadata": {
        "id": "Ime8LWUrWeL9",
        "outputId": "7ec92a9b-b610-4bc5-cdd2-f43f39c70806"
      },
      "source": [
        "dfcsix=dfc.copy()\n",
        "dfcsix.head()"
      ],
      "execution_count": null,
      "outputs": [
        {
          "output_type": "execute_result",
          "data": {
            "text/html": [
              "<div>\n",
              "<style scoped>\n",
              "    .dataframe tbody tr th:only-of-type {\n",
              "        vertical-align: middle;\n",
              "    }\n",
              "\n",
              "    .dataframe tbody tr th {\n",
              "        vertical-align: top;\n",
              "    }\n",
              "\n",
              "    .dataframe thead th {\n",
              "        text-align: right;\n",
              "    }\n",
              "</style>\n",
              "<table border=\"1\" class=\"dataframe\">\n",
              "  <thead>\n",
              "    <tr style=\"text-align: right;\">\n",
              "      <th></th>\n",
              "      <th>CustomerID</th>\n",
              "      <th>revenue</th>\n",
              "      <th>frequency</th>\n",
              "      <th>daysprior</th>\n",
              "    </tr>\n",
              "  </thead>\n",
              "  <tbody>\n",
              "    <tr>\n",
              "      <th>0</th>\n",
              "      <td>12346.0</td>\n",
              "      <td>77183.60</td>\n",
              "      <td>1</td>\n",
              "      <td>325</td>\n",
              "    </tr>\n",
              "    <tr>\n",
              "      <th>1</th>\n",
              "      <td>12347.0</td>\n",
              "      <td>4310.00</td>\n",
              "      <td>182</td>\n",
              "      <td>1</td>\n",
              "    </tr>\n",
              "    <tr>\n",
              "      <th>2</th>\n",
              "      <td>12348.0</td>\n",
              "      <td>1797.24</td>\n",
              "      <td>31</td>\n",
              "      <td>74</td>\n",
              "    </tr>\n",
              "    <tr>\n",
              "      <th>3</th>\n",
              "      <td>12349.0</td>\n",
              "      <td>1757.55</td>\n",
              "      <td>73</td>\n",
              "      <td>18</td>\n",
              "    </tr>\n",
              "    <tr>\n",
              "      <th>4</th>\n",
              "      <td>12350.0</td>\n",
              "      <td>334.40</td>\n",
              "      <td>17</td>\n",
              "      <td>309</td>\n",
              "    </tr>\n",
              "  </tbody>\n",
              "</table>\n",
              "</div>"
            ],
            "text/plain": [
              "  CustomerID   revenue  frequency  daysprior\n",
              "0    12346.0  77183.60          1        325\n",
              "1    12347.0   4310.00        182          1\n",
              "2    12348.0   1797.24         31         74\n",
              "3    12349.0   1757.55         73         18\n",
              "4    12350.0    334.40         17        309"
            ]
          },
          "metadata": {
            "tags": []
          },
          "execution_count": 74
        }
      ]
    },
    {
      "cell_type": "code",
      "metadata": {
        "id": "SppekVnGWeL9"
      },
      "source": [
        "feature_names = dfc.columns"
      ],
      "execution_count": null,
      "outputs": []
    },
    {
      "cell_type": "code",
      "metadata": {
        "id": "0hPVE-ZJWeL9",
        "outputId": "6846b04b-4a28-4447-f02c-09ec33469bb3"
      },
      "source": [
        "kmeans = KMeans(n_clusters=3, random_state=42, max_iter=1500)\n",
        "kmeans.fit(dfc)\n",
        "kmeans.labels_\n",
        "#assign created labels as ClusterNo\n",
        "dfc['ClusterNo'] = kmeans.labels_\n",
        "dfc['ClusterNo'].unique()\n",
        "dfc.head(2)"
      ],
      "execution_count": null,
      "outputs": [
        {
          "output_type": "execute_result",
          "data": {
            "text/html": [
              "<div>\n",
              "<style scoped>\n",
              "    .dataframe tbody tr th:only-of-type {\n",
              "        vertical-align: middle;\n",
              "    }\n",
              "\n",
              "    .dataframe tbody tr th {\n",
              "        vertical-align: top;\n",
              "    }\n",
              "\n",
              "    .dataframe thead th {\n",
              "        text-align: right;\n",
              "    }\n",
              "</style>\n",
              "<table border=\"1\" class=\"dataframe\">\n",
              "  <thead>\n",
              "    <tr style=\"text-align: right;\">\n",
              "      <th></th>\n",
              "      <th>CustomerID</th>\n",
              "      <th>revenue</th>\n",
              "      <th>frequency</th>\n",
              "      <th>daysprior</th>\n",
              "      <th>ClusterNo</th>\n",
              "    </tr>\n",
              "  </thead>\n",
              "  <tbody>\n",
              "    <tr>\n",
              "      <th>0</th>\n",
              "      <td>12346.0</td>\n",
              "      <td>77183.6</td>\n",
              "      <td>1</td>\n",
              "      <td>325</td>\n",
              "      <td>2</td>\n",
              "    </tr>\n",
              "    <tr>\n",
              "      <th>1</th>\n",
              "      <td>12347.0</td>\n",
              "      <td>4310.0</td>\n",
              "      <td>182</td>\n",
              "      <td>1</td>\n",
              "      <td>0</td>\n",
              "    </tr>\n",
              "  </tbody>\n",
              "</table>\n",
              "</div>"
            ],
            "text/plain": [
              "  CustomerID  revenue  frequency  daysprior  ClusterNo\n",
              "0    12346.0  77183.6          1        325          2\n",
              "1    12347.0   4310.0        182          1          0"
            ]
          },
          "metadata": {
            "tags": []
          },
          "execution_count": 76
        }
      ]
    },
    {
      "cell_type": "code",
      "metadata": {
        "id": "JcmJtHgBWeL9"
      },
      "source": [
        "import matplotlib.pyplot as plt\n",
        "from scipy import stats\n",
        "import sklearn\n",
        "from sklearn.model_selection import cross_val_score\n",
        "from sklearn.model_selection import train_test_split\n",
        "# Load libraries\n",
        "import pandas as pd\n",
        "from sklearn.tree import DecisionTreeClassifier # Import Decision Tree Classifier\n",
        "from sklearn.model_selection import train_test_split # Import train_test_split function\n",
        "from sklearn import metrics #Import scikit-learn metrics module for accuracy calculation"
      ],
      "execution_count": null,
      "outputs": []
    },
    {
      "cell_type": "code",
      "metadata": {
        "id": "CWD_cbJ5WeL9",
        "outputId": "b86dca6b-5026-46f9-b938-00cb4dc7b066"
      },
      "source": [
        "# random forest for feature importance on a classification problem   ---> SO REMOVE daysprior as it is not important\n",
        "#The complete example of fitting a RandomForestClassifier and summarizing the calculated feature importance scores is listed below.\n",
        "from sklearn.datasets import make_classification\n",
        "from sklearn.ensemble import RandomForestClassifier\n",
        "from matplotlib import pyplot\n",
        "# define dataset\n",
        "feature_cols = ['revenue', 'frequency', 'daysprior']\n",
        "X = dfc[feature_cols] # Features\n",
        "y = dfc.ClusterNo # Target variable\n",
        "# define the model\n",
        "model = RandomForestClassifier()\n",
        "# fit the model\n",
        "model.fit(X, y)\n",
        "# get importance\n",
        "importance = model.feature_importances_\n",
        "# summarize feature importance\n",
        "for i,v in enumerate(importance):\n",
        "\tprint('Feature: %0d, Score: %.5f' % (i,v))\n",
        "# plot feature importance\n",
        "pyplot.bar([x for x in range(len(importance))], importance)\n",
        "pyplot.show()"
      ],
      "execution_count": null,
      "outputs": [
        {
          "output_type": "stream",
          "text": [
            "Feature: 0, Score: 0.79863\n",
            "Feature: 1, Score: 0.15947\n",
            "Feature: 2, Score: 0.04189\n"
          ],
          "name": "stdout"
        },
        {
          "output_type": "display_data",
          "data": {
            "image/png": "[encoded data removed]",
            "text/plain": [
              "<Figure size 432x288 with 1 Axes>"
            ]
          },
          "metadata": {
            "tags": [],
            "needs_background": "light"
          }
        }
      ]
    },
    {
      "cell_type": "markdown",
      "metadata": {
        "id": "ox87qmwmWeL-"
      },
      "source": [
        "kmeans = KMeans(n_clusters=5, random_state=42, max_iter=50)\n",
        "kmeans.fit(dfcsecondanalysis)\n",
        "kmeans.labels_\n",
        "#assign created labels as ClusterNo\n",
        "dfcsecondanalysis['ClusterNo'] = kmeans.labels_\n",
        "dfcsecondanalysis.head(2)"
      ]
    },
    {
      "cell_type": "code",
      "metadata": {
        "id": "982NpGw_WeL-",
        "outputId": "0bb16eac-22f6-467e-f5cc-bcb977e6e1d0"
      },
      "source": [
        "kmeans = KMeans(n_clusters=3, random_state=42, max_iter=1500)\n",
        "kmeans.fit(dfc)\n",
        "kmeans.labels_\n",
        "#assign created labels as ClusterNo\n",
        "dfc['ClusterNo'] = kmeans.labels_\n",
        "dfc['ClusterNo'].unique()\n",
        "dfc.head(2)"
      ],
      "execution_count": null,
      "outputs": [
        {
          "output_type": "execute_result",
          "data": {
            "text/html": [
              "<div>\n",
              "<style scoped>\n",
              "    .dataframe tbody tr th:only-of-type {\n",
              "        vertical-align: middle;\n",
              "    }\n",
              "\n",
              "    .dataframe tbody tr th {\n",
              "        vertical-align: top;\n",
              "    }\n",
              "\n",
              "    .dataframe thead th {\n",
              "        text-align: right;\n",
              "    }\n",
              "</style>\n",
              "<table border=\"1\" class=\"dataframe\">\n",
              "  <thead>\n",
              "    <tr style=\"text-align: right;\">\n",
              "      <th></th>\n",
              "      <th>CustomerID</th>\n",
              "      <th>revenue</th>\n",
              "      <th>frequency</th>\n",
              "      <th>daysprior</th>\n",
              "      <th>ClusterNo</th>\n",
              "    </tr>\n",
              "  </thead>\n",
              "  <tbody>\n",
              "    <tr>\n",
              "      <th>0</th>\n",
              "      <td>12346.0</td>\n",
              "      <td>77183.6</td>\n",
              "      <td>1</td>\n",
              "      <td>325</td>\n",
              "      <td>2</td>\n",
              "    </tr>\n",
              "    <tr>\n",
              "      <th>1</th>\n",
              "      <td>12347.0</td>\n",
              "      <td>4310.0</td>\n",
              "      <td>182</td>\n",
              "      <td>1</td>\n",
              "      <td>0</td>\n",
              "    </tr>\n",
              "  </tbody>\n",
              "</table>\n",
              "</div>"
            ],
            "text/plain": [
              "  CustomerID  revenue  frequency  daysprior  ClusterNo\n",
              "0    12346.0  77183.6          1        325          2\n",
              "1    12347.0   4310.0        182          1          0"
            ]
          },
          "metadata": {
            "tags": []
          },
          "execution_count": 80
        }
      ]
    },
    {
      "cell_type": "code",
      "metadata": {
        "id": "Xiu7vD0UWeL-",
        "outputId": "edbea47e-863f-48b1-f819-6030a4b2900d"
      },
      "source": [
        "kmeans = KMeans(n_clusters=4, random_state=42, max_iter=50)\n",
        "kmeans.fit(dfctwo)\n",
        "kmeans.labels_\n",
        "#assign created labels as ClusterNo\n",
        "dfctwo['ClusterNo'] = kmeans.labels_\n",
        "dfctwo.head(2)"
      ],
      "execution_count": null,
      "outputs": [
        {
          "output_type": "execute_result",
          "data": {
            "text/html": [
              "<div>\n",
              "<style scoped>\n",
              "    .dataframe tbody tr th:only-of-type {\n",
              "        vertical-align: middle;\n",
              "    }\n",
              "\n",
              "    .dataframe tbody tr th {\n",
              "        vertical-align: top;\n",
              "    }\n",
              "\n",
              "    .dataframe thead th {\n",
              "        text-align: right;\n",
              "    }\n",
              "</style>\n",
              "<table border=\"1\" class=\"dataframe\">\n",
              "  <thead>\n",
              "    <tr style=\"text-align: right;\">\n",
              "      <th></th>\n",
              "      <th>CustomerID</th>\n",
              "      <th>revenue</th>\n",
              "      <th>frequency</th>\n",
              "      <th>daysprior</th>\n",
              "      <th>ClusterNo</th>\n",
              "    </tr>\n",
              "  </thead>\n",
              "  <tbody>\n",
              "    <tr>\n",
              "      <th>0</th>\n",
              "      <td>12346.0</td>\n",
              "      <td>77183.6</td>\n",
              "      <td>1</td>\n",
              "      <td>325</td>\n",
              "      <td>3</td>\n",
              "    </tr>\n",
              "    <tr>\n",
              "      <th>1</th>\n",
              "      <td>12347.0</td>\n",
              "      <td>4310.0</td>\n",
              "      <td>182</td>\n",
              "      <td>1</td>\n",
              "      <td>0</td>\n",
              "    </tr>\n",
              "  </tbody>\n",
              "</table>\n",
              "</div>"
            ],
            "text/plain": [
              "  CustomerID  revenue  frequency  daysprior  ClusterNo\n",
              "0    12346.0  77183.6          1        325          3\n",
              "1    12347.0   4310.0        182          1          0"
            ]
          },
          "metadata": {
            "tags": []
          },
          "execution_count": 81
        }
      ]
    },
    {
      "cell_type": "code",
      "metadata": {
        "id": "bbFMx4hIWeL-",
        "outputId": "4b646192-9eef-40fb-d84a-5ba88c7907a3"
      },
      "source": [
        "kmeans = KMeans(n_clusters=5, random_state=42, max_iter=50)\n",
        "kmeans.fit(dfcthree)\n",
        "kmeans.labels_\n",
        "#assign created labels as ClusterNo\n",
        "dfcthree['ClusterNo'] = kmeans.labels_\n",
        "dfcthree.ClusterNo.()"
      ],
      "execution_count": null,
      "outputs": [
        {
          "output_type": "execute_result",
          "data": {
            "text/plain": [
              "count    4338.000000\n",
              "mean        0.145920\n",
              "std         0.640396\n",
              "min         0.000000\n",
              "25%         0.000000\n",
              "50%         0.000000\n",
              "75%         0.000000\n",
              "max         4.000000\n",
              "Name: ClusterNo, dtype: float64"
            ]
          },
          "metadata": {
            "tags": []
          },
          "execution_count": 114
        }
      ]
    },
    {
      "cell_type": "code",
      "metadata": {
        "id": "NCKXHJABWeL_",
        "outputId": "aa85a5d1-f0af-43de-9101-d5e96bb2d997"
      },
      "source": [
        "\n",
        "dfcthree[[\"ClusterNo\", \"revenue\"]].groupby(\"ClusterNo\").sum()"
      ],
      "execution_count": null,
      "outputs": [
        {
          "output_type": "execute_result",
          "data": {
            "text/html": [
              "<div>\n",
              "<style scoped>\n",
              "    .dataframe tbody tr th:only-of-type {\n",
              "        vertical-align: middle;\n",
              "    }\n",
              "\n",
              "    .dataframe tbody tr th {\n",
              "        vertical-align: top;\n",
              "    }\n",
              "\n",
              "    .dataframe thead th {\n",
              "        text-align: right;\n",
              "    }\n",
              "</style>\n",
              "<table border=\"1\" class=\"dataframe\">\n",
              "  <thead>\n",
              "    <tr style=\"text-align: right;\">\n",
              "      <th></th>\n",
              "      <th>revenue</th>\n",
              "    </tr>\n",
              "    <tr>\n",
              "      <th>ClusterNo</th>\n",
              "      <th></th>\n",
              "    </tr>\n",
              "  </thead>\n",
              "  <tbody>\n",
              "    <tr>\n",
              "      <th>0</th>\n",
              "      <td>4397376.544</td>\n",
              "    </tr>\n",
              "    <tr>\n",
              "      <th>1</th>\n",
              "      <td>539863.320</td>\n",
              "    </tr>\n",
              "    <tr>\n",
              "      <th>2</th>\n",
              "      <td>1179357.790</td>\n",
              "    </tr>\n",
              "    <tr>\n",
              "      <th>3</th>\n",
              "      <td>2021912.170</td>\n",
              "    </tr>\n",
              "    <tr>\n",
              "      <th>4</th>\n",
              "      <td>748699.070</td>\n",
              "    </tr>\n",
              "  </tbody>\n",
              "</table>\n",
              "</div>"
            ],
            "text/plain": [
              "               revenue\n",
              "ClusterNo             \n",
              "0          4397376.544\n",
              "1           539863.320\n",
              "2          1179357.790\n",
              "3          2021912.170\n",
              "4           748699.070"
            ]
          },
          "metadata": {
            "tags": []
          },
          "execution_count": 121
        }
      ]
    },
    {
      "cell_type": "code",
      "metadata": {
        "id": "WvUHzaQVWeL_",
        "outputId": "69efc279-6c98-4cd6-b600-9b149d46fcda"
      },
      "source": [
        "dfcthreegb = dfcthree.groupby([\"ClusterNo\"]).size()\n",
        "dfcthreegb\n",
        "ax = dfcthreegb.plot.bar(x='ClusterNo', rot=0, figsize=(8, 4), fontsize=13)\n",
        "ax.set_ylabel('Number of Customers', fontsize=13)\n",
        "ax.set_xlabel('Cluster', fontsize=13)"
      ],
      "execution_count": null,
      "outputs": [
        {
          "output_type": "execute_result",
          "data": {
            "text/plain": [
              "Text(0.5, 0, 'Cluster')"
            ]
          },
          "metadata": {
            "tags": []
          },
          "execution_count": 146
        },
        {
          "output_type": "display_data",
          "data": {
            "image/png": "[encoded data removed]",
            "text/plain": [
              "<Figure size 576x288 with 1 Axes>"
            ]
          },
          "metadata": {
            "tags": [],
            "needs_background": "light"
          }
        }
      ]
    },
    {
      "cell_type": "code",
      "metadata": {
        "id": "TencpCHcWeL_",
        "outputId": "027e2056-1645-443e-8789-0e1218be4246"
      },
      "source": [
        "dfcthree[[\"ClusterNo\", \"revenue\"]].groupby(\"ClusterNo\").describe()"
      ],
      "execution_count": null,
      "outputs": [
        {
          "output_type": "execute_result",
          "data": {
            "text/html": [
              "<div>\n",
              "<style scoped>\n",
              "    .dataframe tbody tr th:only-of-type {\n",
              "        vertical-align: middle;\n",
              "    }\n",
              "\n",
              "    .dataframe tbody tr th {\n",
              "        vertical-align: top;\n",
              "    }\n",
              "\n",
              "    .dataframe thead tr th {\n",
              "        text-align: left;\n",
              "    }\n",
              "\n",
              "    .dataframe thead tr:last-of-type th {\n",
              "        text-align: right;\n",
              "    }\n",
              "</style>\n",
              "<table border=\"1\" class=\"dataframe\">\n",
              "  <thead>\n",
              "    <tr>\n",
              "      <th></th>\n",
              "      <th colspan=\"8\" halign=\"left\">revenue</th>\n",
              "    </tr>\n",
              "    <tr>\n",
              "      <th></th>\n",
              "      <th>count</th>\n",
              "      <th>mean</th>\n",
              "      <th>std</th>\n",
              "      <th>min</th>\n",
              "      <th>25%</th>\n",
              "      <th>50%</th>\n",
              "      <th>75%</th>\n",
              "      <th>max</th>\n",
              "    </tr>\n",
              "    <tr>\n",
              "      <th>ClusterNo</th>\n",
              "      <th></th>\n",
              "      <th></th>\n",
              "      <th></th>\n",
              "      <th></th>\n",
              "      <th></th>\n",
              "      <th></th>\n",
              "      <th></th>\n",
              "      <th></th>\n",
              "    </tr>\n",
              "  </thead>\n",
              "  <tbody>\n",
              "    <tr>\n",
              "      <th>0</th>\n",
              "      <td>4120.0</td>\n",
              "      <td>1067.324404</td>\n",
              "      <td>1142.812959</td>\n",
              "      <td>3.75</td>\n",
              "      <td>296.170</td>\n",
              "      <td>623.34</td>\n",
              "      <td>1416.2200</td>\n",
              "      <td>5756.89</td>\n",
              "    </tr>\n",
              "    <tr>\n",
              "      <th>1</th>\n",
              "      <td>2.0</td>\n",
              "      <td>269931.660000</td>\n",
              "      <td>14530.139257</td>\n",
              "      <td>259657.30</td>\n",
              "      <td>264794.480</td>\n",
              "      <td>269931.66</td>\n",
              "      <td>275068.8400</td>\n",
              "      <td>280206.02</td>\n",
              "    </tr>\n",
              "    <tr>\n",
              "      <th>2</th>\n",
              "      <td>22.0</td>\n",
              "      <td>53607.172273</td>\n",
              "      <td>16261.349712</td>\n",
              "      <td>33053.19</td>\n",
              "      <td>40067.335</td>\n",
              "      <td>53030.72</td>\n",
              "      <td>63937.9025</td>\n",
              "      <td>91062.38</td>\n",
              "    </tr>\n",
              "    <tr>\n",
              "      <th>3</th>\n",
              "      <td>189.0</td>\n",
              "      <td>10697.947989</td>\n",
              "      <td>5540.410654</td>\n",
              "      <td>5781.73</td>\n",
              "      <td>6868.290</td>\n",
              "      <td>8625.80</td>\n",
              "      <td>12393.7000</td>\n",
              "      <td>31906.82</td>\n",
              "    </tr>\n",
              "    <tr>\n",
              "      <th>4</th>\n",
              "      <td>5.0</td>\n",
              "      <td>149739.814000</td>\n",
              "      <td>31841.192074</td>\n",
              "      <td>117210.08</td>\n",
              "      <td>124914.530</td>\n",
              "      <td>143711.17</td>\n",
              "      <td>168472.5000</td>\n",
              "      <td>194390.79</td>\n",
              "    </tr>\n",
              "  </tbody>\n",
              "</table>\n",
              "</div>"
            ],
            "text/plain": [
              "          revenue                                                      \\\n",
              "            count           mean           std        min         25%   \n",
              "ClusterNo                                                               \n",
              "0          4120.0    1067.324404   1142.812959       3.75     296.170   \n",
              "1             2.0  269931.660000  14530.139257  259657.30  264794.480   \n",
              "2            22.0   53607.172273  16261.349712   33053.19   40067.335   \n",
              "3           189.0   10697.947989   5540.410654    5781.73    6868.290   \n",
              "4             5.0  149739.814000  31841.192074  117210.08  124914.530   \n",
              "\n",
              "                                              \n",
              "                 50%          75%        max  \n",
              "ClusterNo                                     \n",
              "0             623.34    1416.2200    5756.89  \n",
              "1          269931.66  275068.8400  280206.02  \n",
              "2           53030.72   63937.9025   91062.38  \n",
              "3            8625.80   12393.7000   31906.82  \n",
              "4          143711.17  168472.5000  194390.79  "
            ]
          },
          "metadata": {
            "tags": []
          },
          "execution_count": 122
        }
      ]
    },
    {
      "cell_type": "code",
      "metadata": {
        "id": "ItLMbboeWeL_",
        "outputId": "8874999d-764d-41da-d3f9-a838f052a98e"
      },
      "source": [
        "dfcthree[[\"ClusterNo\", \"frequency\"]].groupby(\"ClusterNo\").describe()"
      ],
      "execution_count": null,
      "outputs": [
        {
          "output_type": "execute_result",
          "data": {
            "text/html": [
              "<div>\n",
              "<style scoped>\n",
              "    .dataframe tbody tr th:only-of-type {\n",
              "        vertical-align: middle;\n",
              "    }\n",
              "\n",
              "    .dataframe tbody tr th {\n",
              "        vertical-align: top;\n",
              "    }\n",
              "\n",
              "    .dataframe thead tr th {\n",
              "        text-align: left;\n",
              "    }\n",
              "\n",
              "    .dataframe thead tr:last-of-type th {\n",
              "        text-align: right;\n",
              "    }\n",
              "</style>\n",
              "<table border=\"1\" class=\"dataframe\">\n",
              "  <thead>\n",
              "    <tr>\n",
              "      <th></th>\n",
              "      <th colspan=\"8\" halign=\"left\">frequency</th>\n",
              "    </tr>\n",
              "    <tr>\n",
              "      <th></th>\n",
              "      <th>count</th>\n",
              "      <th>mean</th>\n",
              "      <th>std</th>\n",
              "      <th>min</th>\n",
              "      <th>25%</th>\n",
              "      <th>50%</th>\n",
              "      <th>75%</th>\n",
              "      <th>max</th>\n",
              "    </tr>\n",
              "    <tr>\n",
              "      <th>ClusterNo</th>\n",
              "      <th></th>\n",
              "      <th></th>\n",
              "      <th></th>\n",
              "      <th></th>\n",
              "      <th></th>\n",
              "      <th></th>\n",
              "      <th></th>\n",
              "      <th></th>\n",
              "    </tr>\n",
              "  </thead>\n",
              "  <tbody>\n",
              "    <tr>\n",
              "      <th>0</th>\n",
              "      <td>4120.0</td>\n",
              "      <td>69.987136</td>\n",
              "      <td>94.176865</td>\n",
              "      <td>1.0</td>\n",
              "      <td>16.00</td>\n",
              "      <td>38.0</td>\n",
              "      <td>87.25</td>\n",
              "      <td>1263.0</td>\n",
              "    </tr>\n",
              "    <tr>\n",
              "      <th>1</th>\n",
              "      <td>2.0</td>\n",
              "      <td>1253.500000</td>\n",
              "      <td>1163.190655</td>\n",
              "      <td>431.0</td>\n",
              "      <td>842.25</td>\n",
              "      <td>1253.5</td>\n",
              "      <td>1664.75</td>\n",
              "      <td>2076.0</td>\n",
              "    </tr>\n",
              "    <tr>\n",
              "      <th>2</th>\n",
              "      <td>22.0</td>\n",
              "      <td>1244.409091</td>\n",
              "      <td>2002.820788</td>\n",
              "      <td>1.0</td>\n",
              "      <td>132.25</td>\n",
              "      <td>359.0</td>\n",
              "      <td>1468.50</td>\n",
              "      <td>7676.0</td>\n",
              "    </tr>\n",
              "    <tr>\n",
              "      <th>3</th>\n",
              "      <td>189.0</td>\n",
              "      <td>351.021164</td>\n",
              "      <td>314.369514</td>\n",
              "      <td>4.0</td>\n",
              "      <td>159.00</td>\n",
              "      <td>304.0</td>\n",
              "      <td>441.00</td>\n",
              "      <td>2677.0</td>\n",
              "    </tr>\n",
              "    <tr>\n",
              "      <th>4</th>\n",
              "      <td>5.0</td>\n",
              "      <td>1623.600000</td>\n",
              "      <td>2320.411666</td>\n",
              "      <td>3.0</td>\n",
              "      <td>336.00</td>\n",
              "      <td>714.0</td>\n",
              "      <td>1395.00</td>\n",
              "      <td>5670.0</td>\n",
              "    </tr>\n",
              "  </tbody>\n",
              "</table>\n",
              "</div>"
            ],
            "text/plain": [
              "          frequency                                                            \\\n",
              "              count         mean          std    min     25%     50%      75%   \n",
              "ClusterNo                                                                       \n",
              "0            4120.0    69.987136    94.176865    1.0   16.00    38.0    87.25   \n",
              "1               2.0  1253.500000  1163.190655  431.0  842.25  1253.5  1664.75   \n",
              "2              22.0  1244.409091  2002.820788    1.0  132.25   359.0  1468.50   \n",
              "3             189.0   351.021164   314.369514    4.0  159.00   304.0   441.00   \n",
              "4               5.0  1623.600000  2320.411666    3.0  336.00   714.0  1395.00   \n",
              "\n",
              "                   \n",
              "              max  \n",
              "ClusterNo          \n",
              "0          1263.0  \n",
              "1          2076.0  \n",
              "2          7676.0  \n",
              "3          2677.0  \n",
              "4          5670.0  "
            ]
          },
          "metadata": {
            "tags": []
          },
          "execution_count": 119
        }
      ]
    },
    {
      "cell_type": "code",
      "metadata": {
        "id": "15sPrMjbWeMA",
        "outputId": "4b867ae3-2f48-451b-c4f7-b66c72964b0d"
      },
      "source": [
        "dfcthree[[\"ClusterNo\", \"daysprior\"]].groupby(\"ClusterNo\").describe()"
      ],
      "execution_count": null,
      "outputs": [
        {
          "output_type": "execute_result",
          "data": {
            "text/html": [
              "<div>\n",
              "<style scoped>\n",
              "    .dataframe tbody tr th:only-of-type {\n",
              "        vertical-align: middle;\n",
              "    }\n",
              "\n",
              "    .dataframe tbody tr th {\n",
              "        vertical-align: top;\n",
              "    }\n",
              "\n",
              "    .dataframe thead tr th {\n",
              "        text-align: left;\n",
              "    }\n",
              "\n",
              "    .dataframe thead tr:last-of-type th {\n",
              "        text-align: right;\n",
              "    }\n",
              "</style>\n",
              "<table border=\"1\" class=\"dataframe\">\n",
              "  <thead>\n",
              "    <tr>\n",
              "      <th></th>\n",
              "      <th colspan=\"8\" halign=\"left\">daysprior</th>\n",
              "    </tr>\n",
              "    <tr>\n",
              "      <th></th>\n",
              "      <th>count</th>\n",
              "      <th>mean</th>\n",
              "      <th>std</th>\n",
              "      <th>min</th>\n",
              "      <th>25%</th>\n",
              "      <th>50%</th>\n",
              "      <th>75%</th>\n",
              "      <th>max</th>\n",
              "    </tr>\n",
              "    <tr>\n",
              "      <th>ClusterNo</th>\n",
              "      <th></th>\n",
              "      <th></th>\n",
              "      <th></th>\n",
              "      <th></th>\n",
              "      <th></th>\n",
              "      <th></th>\n",
              "      <th></th>\n",
              "      <th></th>\n",
              "    </tr>\n",
              "  </thead>\n",
              "  <tbody>\n",
              "    <tr>\n",
              "      <th>0</th>\n",
              "      <td>4120.0</td>\n",
              "      <td>95.277184</td>\n",
              "      <td>100.811716</td>\n",
              "      <td>0.0</td>\n",
              "      <td>18.00</td>\n",
              "      <td>53.0</td>\n",
              "      <td>150.00</td>\n",
              "      <td>373.0</td>\n",
              "    </tr>\n",
              "    <tr>\n",
              "      <th>1</th>\n",
              "      <td>2.0</td>\n",
              "      <td>0.500000</td>\n",
              "      <td>0.707107</td>\n",
              "      <td>0.0</td>\n",
              "      <td>0.25</td>\n",
              "      <td>0.5</td>\n",
              "      <td>0.75</td>\n",
              "      <td>1.0</td>\n",
              "    </tr>\n",
              "    <tr>\n",
              "      <th>2</th>\n",
              "      <td>22.0</td>\n",
              "      <td>39.409091</td>\n",
              "      <td>87.677797</td>\n",
              "      <td>0.0</td>\n",
              "      <td>2.00</td>\n",
              "      <td>3.0</td>\n",
              "      <td>14.50</td>\n",
              "      <td>325.0</td>\n",
              "    </tr>\n",
              "    <tr>\n",
              "      <th>3</th>\n",
              "      <td>189.0</td>\n",
              "      <td>19.238095</td>\n",
              "      <td>32.788514</td>\n",
              "      <td>0.0</td>\n",
              "      <td>2.00</td>\n",
              "      <td>9.0</td>\n",
              "      <td>22.00</td>\n",
              "      <td>275.0</td>\n",
              "    </tr>\n",
              "    <tr>\n",
              "      <th>4</th>\n",
              "      <td>5.0</td>\n",
              "      <td>7.800000</td>\n",
              "      <td>9.418068</td>\n",
              "      <td>0.0</td>\n",
              "      <td>0.00</td>\n",
              "      <td>7.0</td>\n",
              "      <td>9.00</td>\n",
              "      <td>23.0</td>\n",
              "    </tr>\n",
              "  </tbody>\n",
              "</table>\n",
              "</div>"
            ],
            "text/plain": [
              "          daysprior                                                        \n",
              "              count       mean         std  min    25%   50%     75%    max\n",
              "ClusterNo                                                                  \n",
              "0            4120.0  95.277184  100.811716  0.0  18.00  53.0  150.00  373.0\n",
              "1               2.0   0.500000    0.707107  0.0   0.25   0.5    0.75    1.0\n",
              "2              22.0  39.409091   87.677797  0.0   2.00   3.0   14.50  325.0\n",
              "3             189.0  19.238095   32.788514  0.0   2.00   9.0   22.00  275.0\n",
              "4               5.0   7.800000    9.418068  0.0   0.00   7.0    9.00   23.0"
            ]
          },
          "metadata": {
            "tags": []
          },
          "execution_count": 120
        }
      ]
    },
    {
      "cell_type": "code",
      "metadata": {
        "id": "1POkui6aWeMA",
        "outputId": "5afdefa3-29ba-4ad2-bdd5-cf42f56ff422"
      },
      "source": [
        "dfcthree.describe()"
      ],
      "execution_count": null,
      "outputs": [
        {
          "output_type": "execute_result",
          "data": {
            "text/html": [
              "<div>\n",
              "<style scoped>\n",
              "    .dataframe tbody tr th:only-of-type {\n",
              "        vertical-align: middle;\n",
              "    }\n",
              "\n",
              "    .dataframe tbody tr th {\n",
              "        vertical-align: top;\n",
              "    }\n",
              "\n",
              "    .dataframe thead th {\n",
              "        text-align: right;\n",
              "    }\n",
              "</style>\n",
              "<table border=\"1\" class=\"dataframe\">\n",
              "  <thead>\n",
              "    <tr style=\"text-align: right;\">\n",
              "      <th></th>\n",
              "      <th>revenue</th>\n",
              "      <th>frequency</th>\n",
              "      <th>daysprior</th>\n",
              "      <th>ClusterNo</th>\n",
              "    </tr>\n",
              "  </thead>\n",
              "  <tbody>\n",
              "    <tr>\n",
              "      <th>count</th>\n",
              "      <td>4338.000000</td>\n",
              "      <td>4338.000000</td>\n",
              "      <td>4338.000000</td>\n",
              "      <td>4338.000000</td>\n",
              "    </tr>\n",
              "    <tr>\n",
              "      <th>mean</th>\n",
              "      <td>2048.688081</td>\n",
              "      <td>90.523744</td>\n",
              "      <td>91.536422</td>\n",
              "      <td>0.145920</td>\n",
              "    </tr>\n",
              "    <tr>\n",
              "      <th>std</th>\n",
              "      <td>8985.230220</td>\n",
              "      <td>225.506968</td>\n",
              "      <td>100.014169</td>\n",
              "      <td>0.640396</td>\n",
              "    </tr>\n",
              "    <tr>\n",
              "      <th>min</th>\n",
              "      <td>3.750000</td>\n",
              "      <td>1.000000</td>\n",
              "      <td>0.000000</td>\n",
              "      <td>0.000000</td>\n",
              "    </tr>\n",
              "    <tr>\n",
              "      <th>25%</th>\n",
              "      <td>306.482500</td>\n",
              "      <td>17.000000</td>\n",
              "      <td>17.000000</td>\n",
              "      <td>0.000000</td>\n",
              "    </tr>\n",
              "    <tr>\n",
              "      <th>50%</th>\n",
              "      <td>668.570000</td>\n",
              "      <td>41.000000</td>\n",
              "      <td>50.000000</td>\n",
              "      <td>0.000000</td>\n",
              "    </tr>\n",
              "    <tr>\n",
              "      <th>75%</th>\n",
              "      <td>1660.597500</td>\n",
              "      <td>98.000000</td>\n",
              "      <td>141.000000</td>\n",
              "      <td>0.000000</td>\n",
              "    </tr>\n",
              "    <tr>\n",
              "      <th>max</th>\n",
              "      <td>280206.020000</td>\n",
              "      <td>7676.000000</td>\n",
              "      <td>373.000000</td>\n",
              "      <td>4.000000</td>\n",
              "    </tr>\n",
              "  </tbody>\n",
              "</table>\n",
              "</div>"
            ],
            "text/plain": [
              "             revenue    frequency    daysprior    ClusterNo\n",
              "count    4338.000000  4338.000000  4338.000000  4338.000000\n",
              "mean     2048.688081    90.523744    91.536422     0.145920\n",
              "std      8985.230220   225.506968   100.014169     0.640396\n",
              "min         3.750000     1.000000     0.000000     0.000000\n",
              "25%       306.482500    17.000000    17.000000     0.000000\n",
              "50%       668.570000    41.000000    50.000000     0.000000\n",
              "75%      1660.597500    98.000000   141.000000     0.000000\n",
              "max    280206.020000  7676.000000   373.000000     4.000000"
            ]
          },
          "metadata": {
            "tags": []
          },
          "execution_count": 109
        }
      ]
    },
    {
      "cell_type": "code",
      "metadata": {
        "id": "-NlgywGoWeMA",
        "outputId": "a25680a5-f5b8-4995-c6e0-514bc5f6b036"
      },
      "source": [
        "kmeans = KMeans(n_clusters=6, random_state=42, max_iter=50)\n",
        "kmeans.fit(dfcfour)\n",
        "kmeans.labels_\n",
        "#assign created labels as ClusterNo\n",
        "dfcfour['ClusterNo'] = kmeans.labels_\n",
        "dfcfour.head()"
      ],
      "execution_count": null,
      "outputs": [
        {
          "output_type": "execute_result",
          "data": {
            "text/html": [
              "<div>\n",
              "<style scoped>\n",
              "    .dataframe tbody tr th:only-of-type {\n",
              "        vertical-align: middle;\n",
              "    }\n",
              "\n",
              "    .dataframe tbody tr th {\n",
              "        vertical-align: top;\n",
              "    }\n",
              "\n",
              "    .dataframe thead th {\n",
              "        text-align: right;\n",
              "    }\n",
              "</style>\n",
              "<table border=\"1\" class=\"dataframe\">\n",
              "  <thead>\n",
              "    <tr style=\"text-align: right;\">\n",
              "      <th></th>\n",
              "      <th>CustomerID</th>\n",
              "      <th>revenue</th>\n",
              "      <th>frequency</th>\n",
              "      <th>daysprior</th>\n",
              "      <th>ClusterNo</th>\n",
              "    </tr>\n",
              "  </thead>\n",
              "  <tbody>\n",
              "    <tr>\n",
              "      <th>0</th>\n",
              "      <td>12346.0</td>\n",
              "      <td>77183.60</td>\n",
              "      <td>1</td>\n",
              "      <td>325</td>\n",
              "      <td>3</td>\n",
              "    </tr>\n",
              "    <tr>\n",
              "      <th>1</th>\n",
              "      <td>12347.0</td>\n",
              "      <td>4310.00</td>\n",
              "      <td>182</td>\n",
              "      <td>1</td>\n",
              "      <td>4</td>\n",
              "    </tr>\n",
              "    <tr>\n",
              "      <th>2</th>\n",
              "      <td>12348.0</td>\n",
              "      <td>1797.24</td>\n",
              "      <td>31</td>\n",
              "      <td>74</td>\n",
              "      <td>4</td>\n",
              "    </tr>\n",
              "    <tr>\n",
              "      <th>3</th>\n",
              "      <td>12349.0</td>\n",
              "      <td>1757.55</td>\n",
              "      <td>73</td>\n",
              "      <td>18</td>\n",
              "      <td>4</td>\n",
              "    </tr>\n",
              "    <tr>\n",
              "      <th>4</th>\n",
              "      <td>12350.0</td>\n",
              "      <td>334.40</td>\n",
              "      <td>17</td>\n",
              "      <td>309</td>\n",
              "      <td>4</td>\n",
              "    </tr>\n",
              "  </tbody>\n",
              "</table>\n",
              "</div>"
            ],
            "text/plain": [
              "  CustomerID   revenue  frequency  daysprior  ClusterNo\n",
              "0    12346.0  77183.60          1        325          3\n",
              "1    12347.0   4310.00        182          1          4\n",
              "2    12348.0   1797.24         31         74          4\n",
              "3    12349.0   1757.55         73         18          4\n",
              "4    12350.0    334.40         17        309          4"
            ]
          },
          "metadata": {
            "tags": []
          },
          "execution_count": 83
        }
      ]
    },
    {
      "cell_type": "code",
      "metadata": {
        "id": "xbWXAv6TWeMA",
        "outputId": "98db0c83-898f-4939-cc4a-6dc86345127f"
      },
      "source": [
        "kmeans = KMeans(n_clusters=7, random_state=42, max_iter=50)\n",
        "kmeans.fit(dfcfive)\n",
        "kmeans.labels_\n",
        "#assign created labels as ClusterNo\n",
        "dfcfive['ClusterNo'] = kmeans.labels_\n",
        "dfcfive.head()"
      ],
      "execution_count": null,
      "outputs": [
        {
          "output_type": "execute_result",
          "data": {
            "text/html": [
              "<div>\n",
              "<style scoped>\n",
              "    .dataframe tbody tr th:only-of-type {\n",
              "        vertical-align: middle;\n",
              "    }\n",
              "\n",
              "    .dataframe tbody tr th {\n",
              "        vertical-align: top;\n",
              "    }\n",
              "\n",
              "    .dataframe thead th {\n",
              "        text-align: right;\n",
              "    }\n",
              "</style>\n",
              "<table border=\"1\" class=\"dataframe\">\n",
              "  <thead>\n",
              "    <tr style=\"text-align: right;\">\n",
              "      <th></th>\n",
              "      <th>CustomerID</th>\n",
              "      <th>revenue</th>\n",
              "      <th>frequency</th>\n",
              "      <th>daysprior</th>\n",
              "      <th>ClusterNo</th>\n",
              "    </tr>\n",
              "  </thead>\n",
              "  <tbody>\n",
              "    <tr>\n",
              "      <th>0</th>\n",
              "      <td>12346.0</td>\n",
              "      <td>77183.60</td>\n",
              "      <td>1</td>\n",
              "      <td>325</td>\n",
              "      <td>4</td>\n",
              "    </tr>\n",
              "    <tr>\n",
              "      <th>1</th>\n",
              "      <td>12347.0</td>\n",
              "      <td>4310.00</td>\n",
              "      <td>182</td>\n",
              "      <td>1</td>\n",
              "      <td>6</td>\n",
              "    </tr>\n",
              "    <tr>\n",
              "      <th>2</th>\n",
              "      <td>12348.0</td>\n",
              "      <td>1797.24</td>\n",
              "      <td>31</td>\n",
              "      <td>74</td>\n",
              "      <td>6</td>\n",
              "    </tr>\n",
              "    <tr>\n",
              "      <th>3</th>\n",
              "      <td>12349.0</td>\n",
              "      <td>1757.55</td>\n",
              "      <td>73</td>\n",
              "      <td>18</td>\n",
              "      <td>6</td>\n",
              "    </tr>\n",
              "    <tr>\n",
              "      <th>4</th>\n",
              "      <td>12350.0</td>\n",
              "      <td>334.40</td>\n",
              "      <td>17</td>\n",
              "      <td>309</td>\n",
              "      <td>6</td>\n",
              "    </tr>\n",
              "  </tbody>\n",
              "</table>\n",
              "</div>"
            ],
            "text/plain": [
              "  CustomerID   revenue  frequency  daysprior  ClusterNo\n",
              "0    12346.0  77183.60          1        325          4\n",
              "1    12347.0   4310.00        182          1          6\n",
              "2    12348.0   1797.24         31         74          6\n",
              "3    12349.0   1757.55         73         18          6\n",
              "4    12350.0    334.40         17        309          6"
            ]
          },
          "metadata": {
            "tags": []
          },
          "execution_count": 84
        }
      ]
    },
    {
      "cell_type": "code",
      "metadata": {
        "id": "Vp4r2xiAWeMA",
        "outputId": "cfb17252-eded-4e89-b7d4-b16e899b6e1a"
      },
      "source": [
        "kmeans = KMeans(n_clusters=8, random_state=42, max_iter=50)\n",
        "kmeans.fit(dfcsix)\n",
        "kmeans.labels_\n",
        "#assign created labels as ClusterNo\n",
        "dfcsix['ClusterNo'] = kmeans.labels_\n",
        "dfcsix.head(2)"
      ],
      "execution_count": null,
      "outputs": [
        {
          "output_type": "execute_result",
          "data": {
            "text/html": [
              "<div>\n",
              "<style scoped>\n",
              "    .dataframe tbody tr th:only-of-type {\n",
              "        vertical-align: middle;\n",
              "    }\n",
              "\n",
              "    .dataframe tbody tr th {\n",
              "        vertical-align: top;\n",
              "    }\n",
              "\n",
              "    .dataframe thead th {\n",
              "        text-align: right;\n",
              "    }\n",
              "</style>\n",
              "<table border=\"1\" class=\"dataframe\">\n",
              "  <thead>\n",
              "    <tr style=\"text-align: right;\">\n",
              "      <th></th>\n",
              "      <th>CustomerID</th>\n",
              "      <th>revenue</th>\n",
              "      <th>frequency</th>\n",
              "      <th>daysprior</th>\n",
              "      <th>ClusterNo</th>\n",
              "    </tr>\n",
              "  </thead>\n",
              "  <tbody>\n",
              "    <tr>\n",
              "      <th>0</th>\n",
              "      <td>12346.0</td>\n",
              "      <td>77183.6</td>\n",
              "      <td>1</td>\n",
              "      <td>325</td>\n",
              "      <td>3</td>\n",
              "    </tr>\n",
              "    <tr>\n",
              "      <th>1</th>\n",
              "      <td>12347.0</td>\n",
              "      <td>4310.0</td>\n",
              "      <td>182</td>\n",
              "      <td>1</td>\n",
              "      <td>0</td>\n",
              "    </tr>\n",
              "  </tbody>\n",
              "</table>\n",
              "</div>"
            ],
            "text/plain": [
              "  CustomerID  revenue  frequency  daysprior  ClusterNo\n",
              "0    12346.0  77183.6          1        325          3\n",
              "1    12347.0   4310.0        182          1          0"
            ]
          },
          "metadata": {
            "tags": []
          },
          "execution_count": 85
        }
      ]
    },
    {
      "cell_type": "code",
      "metadata": {
        "id": "4PGoOvGJWeMB",
        "outputId": "a754c91f-eec2-44ed-cd94-200aea6424fb"
      },
      "source": [
        "X = dfc[['revenue', 'frequency']].to_numpy()      \n",
        "y_pred = KMeans(n_clusters=3, random_state=42).fit_predict(X)\n",
        "plt.scatter(X[:, 0], X[:, 1], c=y_pred)    #revenues"
      ],
      "execution_count": null,
      "outputs": [
        {
          "output_type": "execute_result",
          "data": {
            "text/plain": [
              "<matplotlib.collections.PathCollection at 0x18688218430>"
            ]
          },
          "metadata": {
            "tags": []
          },
          "execution_count": 86
        },
        {
          "output_type": "display_data",
          "data": {
            "image/png": "[encoded data removed]",
            "text/plain": [
              "<Figure size 432x288 with 1 Axes>"
            ]
          },
          "metadata": {
            "tags": [],
            "needs_background": "light"
          }
        }
      ]
    },
    {
      "cell_type": "code",
      "metadata": {
        "id": "zpYt3S7WWeMB",
        "outputId": "bf4372eb-eefa-4ff5-a35b-a1b35d22edc8"
      },
      "source": [
        "X = dfctwo[['revenue', 'frequency']].to_numpy()      \n",
        "y_pred2 = KMeans(n_clusters=4, random_state=42).fit_predict(X)\n",
        "plt.scatter(X[:, 0], X[:, 1], c=y_pred2)    #revenues"
      ],
      "execution_count": null,
      "outputs": [
        {
          "output_type": "execute_result",
          "data": {
            "text/plain": [
              "<matplotlib.collections.PathCollection at 0x18688265af0>"
            ]
          },
          "metadata": {
            "tags": []
          },
          "execution_count": 87
        },
        {
          "output_type": "display_data",
          "data": {
            "image/png": "[encoded data removed]",
            "text/plain": [
              "<Figure size 432x288 with 1 Axes>"
            ]
          },
          "metadata": {
            "tags": [],
            "needs_background": "light"
          }
        }
      ]
    },
    {
      "cell_type": "code",
      "metadata": {
        "id": "qNVr_5hGWeMD",
        "outputId": "ca788304-90ed-493b-eb13-58f56ff3688e"
      },
      "source": [
        "X = dfcthree[['revenue', 'frequency']].to_numpy()      \n",
        "y_pred3 = KMeans(n_clusters=5, random_state=42).fit_predict(X)\n",
        "plt.scatter(X[:, 0], X[:, 1], c=y_pred3)    #revenues"
      ],
      "execution_count": null,
      "outputs": [
        {
          "output_type": "execute_result",
          "data": {
            "text/plain": [
              "<matplotlib.collections.PathCollection at 0x186882cc1c0>"
            ]
          },
          "metadata": {
            "tags": []
          },
          "execution_count": 88
        },
        {
          "output_type": "display_data",
          "data": {
            "image/png": "[encoded data removed]",
            "text/plain": [
              "<Figure size 432x288 with 1 Axes>"
            ]
          },
          "metadata": {
            "tags": [],
            "needs_background": "light"
          }
        }
      ]
    },
    {
      "cell_type": "code",
      "metadata": {
        "id": "tZrkLiDGWeMD",
        "outputId": "bf19453b-1df6-42bb-ec67-8667c1f4dd33"
      },
      "source": [
        "X = dfcfour[['revenue', 'frequency']].to_numpy()      \n",
        "y_pred4 = KMeans(n_clusters=6, random_state=42).fit_predict(X)\n",
        "plt.scatter(X[:, 0], X[:, 1], c=y_pred4)    #revenues"
      ],
      "execution_count": null,
      "outputs": [
        {
          "output_type": "execute_result",
          "data": {
            "text/plain": [
              "<matplotlib.collections.PathCollection at 0x18688321880>"
            ]
          },
          "metadata": {
            "tags": []
          },
          "execution_count": 89
        },
        {
          "output_type": "display_data",
          "data": {
            "image/png": "[encoded data removed]",
            "text/plain": [
              "<Figure size 432x288 with 1 Axes>"
            ]
          },
          "metadata": {
            "tags": [],
            "needs_background": "light"
          }
        }
      ]
    },
    {
      "cell_type": "code",
      "metadata": {
        "id": "Nn23ofs6WeMD",
        "outputId": "31f68fab-863a-440e-9f4a-9e92fed1d7df"
      },
      "source": [
        "X = dfcfive[['revenue', 'frequency']].to_numpy()      \n",
        "y_pred5 = KMeans(n_clusters=7, random_state=42).fit_predict(X)\n",
        "\n",
        "plt.scatter(X[:, 0], X[:, 1], c=y_pred5)    #revenues"
      ],
      "execution_count": null,
      "outputs": [
        {
          "output_type": "execute_result",
          "data": {
            "text/plain": [
              "<matplotlib.collections.PathCollection at 0x1868837bf10>"
            ]
          },
          "metadata": {
            "tags": []
          },
          "execution_count": 90
        },
        {
          "output_type": "display_data",
          "data": {
            "image/png": "[encoded data removed]",
            "text/plain": [
              "<Figure size 432x288 with 1 Axes>"
            ]
          },
          "metadata": {
            "tags": [],
            "needs_background": "light"
          }
        }
      ]
    },
    {
      "cell_type": "code",
      "metadata": {
        "id": "X0fZS9mZWeME",
        "outputId": "89dc9276-9d86-4052-f6ce-875da37bfd01"
      },
      "source": [
        "X = dfcsix[['revenue', 'frequency']].to_numpy()      \n",
        "y_pred6 = KMeans(n_clusters=8, random_state=42).fit_predict(X)\n",
        "\n",
        "plt.scatter(X[:, 0], X[:, 1], c=y_pred6)    #revenues"
      ],
      "execution_count": null,
      "outputs": [
        {
          "output_type": "execute_result",
          "data": {
            "text/plain": [
              "<matplotlib.collections.PathCollection at 0x186883dd5e0>"
            ]
          },
          "metadata": {
            "tags": []
          },
          "execution_count": 91
        },
        {
          "output_type": "display_data",
          "data": {
            "image/png": "[encoded data removed]",
            "text/plain": [
              "<Figure size 432x288 with 1 Axes>"
            ]
          },
          "metadata": {
            "tags": [],
            "needs_background": "light"
          }
        }
      ]
    },
    {
      "cell_type": "code",
      "metadata": {
        "id": "vvuhngmXWeME",
        "outputId": "5c519487-7972-4897-c086-7a7a09736aaf"
      },
      "source": [
        "fig, ((ax1, ax2, ax3), (axs4, axs5, ax6)) = plt.subplots(nrows=2, ncols=3, sharex=True, sharey=True,  figsize=(16, 10))\n",
        "\n",
        "ax1 = plt.subplot2grid((2,3),(0, 0))\n",
        "ax1.scatter(dfc['revenue'], dfc['frequency'], c=y_pred, s=15)\n",
        "ax1.set_title('Customers in 3 Clusters')\n",
        "ax1.set_xlabel('Revenue per Customer', fontsize=13)\n",
        "ax1.set_ylabel('Frequency', fontsize=13)\n",
        "ax1.set_xticks([50000, 100000, 150000, 200000, 250000])\n",
        "from matplotlib import ticker\n",
        "formatter = ticker.ScalarFormatter(useMathText=True)\n",
        "formatter.set_scientific(True) \n",
        "formatter.set_powerlimits((-1,1)) \n",
        "ax1.xaxis.set_major_formatter(formatter) \n",
        "ax1.grid(linewidth=0.25)\n",
        "\n",
        "\n",
        "ax2 = plt.subplot2grid((2,3),(0, 1))\n",
        "ax2.scatter(dfctwo['revenue'], dfctwo['frequency'], c=y_pred2, s=15)\n",
        "ax2.set_title('Customers in 4 Clusters')\n",
        "ax2.set_xlabel('Revenue per Customer', fontsize=13)\n",
        "ax2.set_ylabel('Frequency', fontsize=13)\n",
        "ax2.set_xticks([50000, 100000, 150000, 200000, 250000])\n",
        "from matplotlib import ticker\n",
        "formatter = ticker.ScalarFormatter(useMathText=True)\n",
        "formatter.set_scientific(True) \n",
        "formatter.set_powerlimits((-1,1)) \n",
        "ax2.xaxis.set_major_formatter(formatter) \n",
        "ax2.grid(linewidth=0.25)\n",
        "\n",
        "ax3 = plt.subplot2grid((2,3),(0, 2))\n",
        "ax3.scatter(dfcthree['revenue'], dfcthree['frequency'], c=y_pred3, s=15)\n",
        "ax3.set_title('Customers in 5 Clusters')\n",
        "ax3.set_xlabel('Revenue per Customer', fontsize=13)\n",
        "ax3.set_ylabel('Frequency', fontsize=13)\n",
        "ax3.set_xticks([50000, 100000, 150000, 200000, 250000])\n",
        "from matplotlib import ticker\n",
        "formatter = ticker.ScalarFormatter(useMathText=True)\n",
        "formatter.set_scientific(True) \n",
        "formatter.set_powerlimits((-1,1)) \n",
        "ax3.xaxis.set_major_formatter(formatter) \n",
        "ax3.grid(linewidth=0.25)\n",
        "\n",
        "ax4 = plt.subplot2grid((2,3),(1, 0))\n",
        "ax4.scatter(dfcfour['revenue'], dfcfour['frequency'], c=y_pred4, s=15)\n",
        "ax4.set_title('Customers in 6 Clusters')\n",
        "ax4.set_xlabel('Revenue per Customer', fontsize=13)\n",
        "ax4.set_ylabel('Frequency', fontsize=13)\n",
        "ax4.set_xticks([50000, 100000, 150000, 200000, 250000])\n",
        "from matplotlib import ticker\n",
        "formatter = ticker.ScalarFormatter(useMathText=True)\n",
        "formatter.set_scientific(True) \n",
        "formatter.set_powerlimits((-1,1)) \n",
        "ax4.xaxis.set_major_formatter(formatter) \n",
        "ax4.grid(linewidth=0.25)\n",
        "\n",
        "ax5 = plt.subplot2grid((2,3),(1, 1))\n",
        "ax5.scatter(dfcfive['revenue'], dfcfive['frequency'], c=y_pred5, s=15)\n",
        "ax5.set_title('Customers in 7 Clusters')\n",
        "ax5.set_xlabel('Revenue per Customer', fontsize=13)\n",
        "ax5.set_ylabel('Frequency', fontsize=13)\n",
        "ax5.set_xticks([50000, 100000, 150000, 200000, 250000])\n",
        "from matplotlib import ticker\n",
        "formatter = ticker.ScalarFormatter(useMathText=True)\n",
        "formatter.set_scientific(True) \n",
        "formatter.set_powerlimits((-1,1)) \n",
        "ax5.xaxis.set_major_formatter(formatter) \n",
        "ax5.grid(linewidth=0.25)\n",
        "\n",
        "ax6 = plt.subplot2grid((2,3),(1, 2))\n",
        "ax6.scatter(dfcsix['revenue'], dfcsix['frequency'], c=y_pred6, s=15)\n",
        "ax6.set_title('Customers in 8 Clusters')\n",
        "ax6.set_xlabel('Revenue per Customer', fontsize=13)\n",
        "ax6.set_ylabel('Frequency', fontsize=13)\n",
        "ax6.set_xticks([50000, 100000, 150000, 200000, 250000])\n",
        "from matplotlib import ticker\n",
        "formatter = ticker.ScalarFormatter(useMathText=True)\n",
        "formatter.set_scientific(True) \n",
        "formatter.set_powerlimits((-1,1)) \n",
        "ax6.xaxis.set_major_formatter(formatter) \n",
        "ax6.grid(linewidth=0.25)"
      ],
      "execution_count": null,
      "outputs": [
        {
          "output_type": "display_data",
          "data": {
            "image/png": "[encoded data removed]",
            "text/plain": [
              "<Figure size 1152x720 with 6 Axes>"
            ]
          },
          "metadata": {
            "tags": [],
            "needs_background": "light"
          }
        }
      ]
    },
    {
      "cell_type": "code",
      "metadata": {
        "id": "u-XR7b3xWeMF",
        "outputId": "1ad5aee8-47bf-4ce8-97bf-15a031d2a975"
      },
      "source": [
        "# DOUBLE CHECKING IF ABOVE PLOTS ARE CONSISTENT WHEN CLUSTERNO IS USED INSTEAD OF Y_PRED-- GOOD THAT IT PRODUCES SAME PLOTS\n",
        "\n",
        "fig, ((ax1, ax2, ax3), (axs4, axs5, ax6)) = plt.subplots(nrows=2, ncols=3, sharex=True, sharey=True,  figsize=(16, 10))\n",
        "\n",
        "ax1 = plt.subplot2grid((2,3),(0, 0))\n",
        "ax1.scatter(dfc['revenue'], dfc['frequency'],  c=dfc.ClusterNo, s=15)\n",
        "ax1.set_title('Customers in 3 Clusters')\n",
        "ax1.set_xlabel('Revenue per Customer', fontsize=13)\n",
        "ax1.set_ylabel('Frequency', fontsize=13)\n",
        "ax1.set_xticks([50000, 100000, 150000, 200000, 250000])\n",
        "from matplotlib import ticker\n",
        "formatter = ticker.ScalarFormatter(useMathText=True)\n",
        "formatter.set_scientific(True) \n",
        "formatter.set_powerlimits((-1,1)) \n",
        "ax1.xaxis.set_major_formatter(formatter) \n",
        "ax1.grid(linewidth=0.25)\n",
        "\n",
        "\n",
        "ax2 = plt.subplot2grid((2,3),(0, 1))\n",
        "ax2.scatter(dfctwo['revenue'], dfctwo['frequency'], c=dfctwo.ClusterNo, s=15)\n",
        "ax2.set_title('Customers in 4 Clusters')\n",
        "ax2.set_xlabel('Revenue per Customer', fontsize=13)\n",
        "ax2.set_ylabel('Frequency', fontsize=13)\n",
        "ax2.set_xticks([50000, 100000, 150000, 200000, 250000])\n",
        "from matplotlib import ticker\n",
        "formatter = ticker.ScalarFormatter(useMathText=True)\n",
        "formatter.set_scientific(True) \n",
        "formatter.set_powerlimits((-1,1)) \n",
        "ax2.xaxis.set_major_formatter(formatter) \n",
        "ax2.grid(linewidth=0.25)\n",
        "\n",
        "ax3 = plt.subplot2grid((2,3),(0, 2))\n",
        "ax3.scatter(dfcthree['revenue'], dfcthree['frequency'], c=dfcthree.ClusterNo, s=15)\n",
        "ax3.set_title('Customers in 5 Clusters')\n",
        "ax3.set_xlabel('Revenue per Customer', fontsize=13)\n",
        "ax3.set_ylabel('Frequency', fontsize=13)\n",
        "ax3.set_xticks([50000, 100000, 150000, 200000, 250000])\n",
        "from matplotlib import ticker\n",
        "formatter = ticker.ScalarFormatter(useMathText=True)\n",
        "formatter.set_scientific(True) \n",
        "formatter.set_powerlimits((-1,1)) \n",
        "ax3.xaxis.set_major_formatter(formatter) \n",
        "ax3.grid(linewidth=0.25)\n",
        "\n",
        "ax4 = plt.subplot2grid((2,3),(1, 0))\n",
        "ax4.scatter(dfcfour['revenue'], dfcfour['frequency'], c=dfcfour.ClusterNo, s=15)\n",
        "ax4.set_title('Customers in 6 Clusters')\n",
        "ax4.set_xlabel('Revenue per Customer', fontsize=13)\n",
        "ax4.set_ylabel('Frequency', fontsize=13)\n",
        "ax4.set_xticks([50000, 100000, 150000, 200000, 250000])\n",
        "from matplotlib import ticker\n",
        "formatter = ticker.ScalarFormatter(useMathText=True)\n",
        "formatter.set_scientific(True) \n",
        "formatter.set_powerlimits((-1,1)) \n",
        "ax4.xaxis.set_major_formatter(formatter) \n",
        "ax4.grid(linewidth=0.25)\n",
        "\n",
        "ax5 = plt.subplot2grid((2,3),(1, 1))\n",
        "ax5.scatter(dfcfive['revenue'], dfcfive['frequency'], c=dfcfive.ClusterNo, s=15)\n",
        "ax5.set_title('Customers in 7 Clusters')\n",
        "ax5.set_xlabel('Revenue per Customer', fontsize=13)\n",
        "ax5.set_ylabel('Frequency', fontsize=13)\n",
        "ax5.set_xticks([50000, 100000, 150000, 200000, 250000])\n",
        "from matplotlib import ticker\n",
        "formatter = ticker.ScalarFormatter(useMathText=True)\n",
        "formatter.set_scientific(True) \n",
        "formatter.set_powerlimits((-1,1)) \n",
        "ax5.xaxis.set_major_formatter(formatter)\n",
        "ax5.grid(linewidth=0.25)\n",
        "\n",
        "ax6 = plt.subplot2grid((2,3),(1, 2))\n",
        "ax6.scatter(dfcsix['revenue'], dfcsix['frequency'], c=dfcsix.ClusterNo, s=15)\n",
        "ax6.set_title('Customers in 8 Clusters')\n",
        "ax6.set_xlabel('Revenue per Customer', fontsize=13)\n",
        "ax6.set_ylabel('Frequency', fontsize=13)\n",
        "ax6.set_xticks([50000, 100000, 150000, 200000, 250000])\n",
        "from matplotlib import ticker\n",
        "formatter = ticker.ScalarFormatter(useMathText=True)\n",
        "formatter.set_scientific(True) \n",
        "formatter.set_powerlimits((-1,1)) \n",
        "ax6.xaxis.set_major_formatter(formatter) \n",
        "ax6.grid(linewidth=0.25)"
      ],
      "execution_count": null,
      "outputs": [
        {
          "output_type": "display_data",
          "data": {
            "image/png": "[encoded data removed]",
            "text/plain": [
              "<Figure size 1152x720 with 6 Axes>"
            ]
          },
          "metadata": {
            "tags": [],
            "needs_background": "light"
          }
        }
      ]
    },
    {
      "cell_type": "code",
      "metadata": {
        "id": "tsS3bjxXWeMF",
        "outputId": "56f53c4b-2fa3-4285-e43a-54c01a9e94b6"
      },
      "source": [
        "dfc.head()"
      ],
      "execution_count": null,
      "outputs": [
        {
          "output_type": "execute_result",
          "data": {
            "text/html": [
              "<div>\n",
              "<style scoped>\n",
              "    .dataframe tbody tr th:only-of-type {\n",
              "        vertical-align: middle;\n",
              "    }\n",
              "\n",
              "    .dataframe tbody tr th {\n",
              "        vertical-align: top;\n",
              "    }\n",
              "\n",
              "    .dataframe thead th {\n",
              "        text-align: right;\n",
              "    }\n",
              "</style>\n",
              "<table border=\"1\" class=\"dataframe\">\n",
              "  <thead>\n",
              "    <tr style=\"text-align: right;\">\n",
              "      <th></th>\n",
              "      <th>CustomerID</th>\n",
              "      <th>revenue</th>\n",
              "      <th>frequency</th>\n",
              "      <th>daysprior</th>\n",
              "      <th>ClusterNo</th>\n",
              "    </tr>\n",
              "  </thead>\n",
              "  <tbody>\n",
              "    <tr>\n",
              "      <th>0</th>\n",
              "      <td>12346.0</td>\n",
              "      <td>77183.60</td>\n",
              "      <td>1</td>\n",
              "      <td>325</td>\n",
              "      <td>2</td>\n",
              "    </tr>\n",
              "    <tr>\n",
              "      <th>1</th>\n",
              "      <td>12347.0</td>\n",
              "      <td>4310.00</td>\n",
              "      <td>182</td>\n",
              "      <td>1</td>\n",
              "      <td>0</td>\n",
              "    </tr>\n",
              "    <tr>\n",
              "      <th>2</th>\n",
              "      <td>12348.0</td>\n",
              "      <td>1797.24</td>\n",
              "      <td>31</td>\n",
              "      <td>74</td>\n",
              "      <td>0</td>\n",
              "    </tr>\n",
              "    <tr>\n",
              "      <th>3</th>\n",
              "      <td>12349.0</td>\n",
              "      <td>1757.55</td>\n",
              "      <td>73</td>\n",
              "      <td>18</td>\n",
              "      <td>0</td>\n",
              "    </tr>\n",
              "    <tr>\n",
              "      <th>4</th>\n",
              "      <td>12350.0</td>\n",
              "      <td>334.40</td>\n",
              "      <td>17</td>\n",
              "      <td>309</td>\n",
              "      <td>0</td>\n",
              "    </tr>\n",
              "  </tbody>\n",
              "</table>\n",
              "</div>"
            ],
            "text/plain": [
              "  CustomerID   revenue  frequency  daysprior  ClusterNo\n",
              "0    12346.0  77183.60          1        325          2\n",
              "1    12347.0   4310.00        182          1          0\n",
              "2    12348.0   1797.24         31         74          0\n",
              "3    12349.0   1757.55         73         18          0\n",
              "4    12350.0    334.40         17        309          0"
            ]
          },
          "metadata": {
            "tags": []
          },
          "execution_count": 94
        }
      ]
    },
    {
      "cell_type": "code",
      "metadata": {
        "id": "7m7xCEfkWeMG",
        "outputId": "b268578e-1302-4365-b505-6740baee5470"
      },
      "source": [
        "dfcthree.ClusterNo.hist()\n",
        "dfcthreeGB = dfcthree.groupby([\"ClusterNo\"]).size()\n",
        "dfcthreeGB"
      ],
      "execution_count": null,
      "outputs": [
        {
          "output_type": "execute_result",
          "data": {
            "text/plain": [
              "ClusterNo\n",
              "0    4120\n",
              "1       2\n",
              "2      22\n",
              "3     189\n",
              "4       5\n",
              "dtype: int64"
            ]
          },
          "metadata": {
            "tags": []
          },
          "execution_count": 95
        },
        {
          "output_type": "display_data",
          "data": {
            "image/png": "[encoded data removed]",
            "text/plain": [
              "<Figure size 432x288 with 1 Axes>"
            ]
          },
          "metadata": {
            "tags": [],
            "needs_background": "light"
          }
        }
      ]
    },
    {
      "cell_type": "code",
      "metadata": {
        "id": "QHk05q5NWeMG",
        "outputId": "34f77a1d-f264-4728-9367-2619e67acdef"
      },
      "source": [
        "X[:, 0]  #revenue per customer"
      ],
      "execution_count": null,
      "outputs": [
        {
          "output_type": "execute_result",
          "data": {
            "text/plain": [
              "array([77183.6 ,  4310.  ,  1797.24, ...,   178.05,  2045.53,  1837.28])"
            ]
          },
          "metadata": {
            "tags": []
          },
          "execution_count": 96
        }
      ]
    },
    {
      "cell_type": "code",
      "metadata": {
        "id": "jQh_zydhWeMG",
        "outputId": "31cb0484-1b23-4596-b91d-ed5a56eb802d"
      },
      "source": [
        "X[:, 1]  #freq per customer"
      ],
      "execution_count": null,
      "outputs": [
        {
          "output_type": "execute_result",
          "data": {
            "text/plain": [
              "array([  1., 182.,  31., ...,  12., 721.,  70.])"
            ]
          },
          "metadata": {
            "tags": []
          },
          "execution_count": 97
        }
      ]
    },
    {
      "cell_type": "code",
      "metadata": {
        "id": "ij135lN7WeMH",
        "outputId": "ad265d2d-e298-4b79-9243-843c09a56394"
      },
      "source": [
        "g = sns.FacetGrid(dfc, col='ClusterNo')\n",
        "g.map(plt.hist, 'revenue', bins=3)"
      ],
      "execution_count": null,
      "outputs": [
        {
          "output_type": "execute_result",
          "data": {
            "text/plain": [
              "<seaborn.axisgrid.FacetGrid at 0x18689043970>"
            ]
          },
          "metadata": {
            "tags": []
          },
          "execution_count": 98
        },
        {
          "output_type": "display_data",
          "data": {
            "image/png": "[encoded data removed]",
            "text/plain": [
              "<Figure size 648x216 with 3 Axes>"
            ]
          },
          "metadata": {
            "tags": [],
            "needs_background": "light"
          }
        }
      ]
    },
    {
      "cell_type": "code",
      "metadata": {
        "id": "yq7nMWbdWeMH",
        "outputId": "6ff4e9a0-2188-4193-db56-73657c02ee82"
      },
      "source": [
        "sns.boxplot(x='ClusterNo', y='revenue', data=dfc)"
      ],
      "execution_count": null,
      "outputs": [
        {
          "output_type": "execute_result",
          "data": {
            "text/plain": [
              "<AxesSubplot:xlabel='ClusterNo', ylabel='revenue'>"
            ]
          },
          "metadata": {
            "tags": []
          },
          "execution_count": 99
        },
        {
          "output_type": "display_data",
          "data": {
            "image/png": "[encoded data removed]",
            "text/plain": [
              "<Figure size 432x288 with 1 Axes>"
            ]
          },
          "metadata": {
            "tags": [],
            "needs_background": "light"
          }
        }
      ]
    },
    {
      "cell_type": "code",
      "metadata": {
        "id": "PBzl1BNVWeMH",
        "outputId": "7eee8550-9e8f-4267-dc7a-5509bdd86d01"
      },
      "source": [
        "sns.boxplot(x='ClusterNo', y='revenue', data=dfctwo)"
      ],
      "execution_count": null,
      "outputs": [
        {
          "output_type": "execute_result",
          "data": {
            "text/plain": [
              "<AxesSubplot:xlabel='ClusterNo', ylabel='revenue'>"
            ]
          },
          "metadata": {
            "tags": []
          },
          "execution_count": 100
        },
        {
          "output_type": "display_data",
          "data": {
            "image/png": "[encoded data removed]",
            "text/plain": [
              "<Figure size 432x288 with 1 Axes>"
            ]
          },
          "metadata": {
            "tags": [],
            "needs_background": "light"
          }
        }
      ]
    },
    {
      "cell_type": "code",
      "metadata": {
        "id": "Lrj3PKE9WeMI",
        "outputId": "88f8c6a1-2d7e-4edb-fa99-76750630fb2a"
      },
      "source": [
        "sns.boxplot(x='ClusterNo', y='revenue', data=dfcthree)"
      ],
      "execution_count": null,
      "outputs": [
        {
          "output_type": "execute_result",
          "data": {
            "text/plain": [
              "<AxesSubplot:xlabel='ClusterNo', ylabel='revenue'>"
            ]
          },
          "metadata": {
            "tags": []
          },
          "execution_count": 107
        },
        {
          "output_type": "display_data",
          "data": {
            "image/png": "[encoded data removed]",
            "text/plain": [
              "<Figure size 432x288 with 1 Axes>"
            ]
          },
          "metadata": {
            "tags": [],
            "needs_background": "light"
          }
        }
      ]
    },
    {
      "cell_type": "markdown",
      "metadata": {
        "id": "T1ss2OtyWeMI"
      },
      "source": [
        "sns.boxplot(x='ClusterNo', y='revenue', data=dfcthree)"
      ]
    },
    {
      "cell_type": "code",
      "metadata": {
        "id": "_T6reQ8UWeMI",
        "outputId": "180694ff-875b-46ee-e301-6d6e86459fcf"
      },
      "source": [
        "sns.boxplot(x='ClusterNo', y='frequency', data=dfc)"
      ],
      "execution_count": null,
      "outputs": [
        {
          "output_type": "execute_result",
          "data": {
            "text/plain": [
              "<AxesSubplot:xlabel='ClusterNo', ylabel='frequency'>"
            ]
          },
          "metadata": {
            "tags": []
          },
          "execution_count": 101
        },
        {
          "output_type": "display_data",
          "data": {
            "image/png": "[encoded data removed]",
            "text/plain": [
              "<Figure size 432x288 with 1 Axes>"
            ]
          },
          "metadata": {
            "tags": [],
            "needs_background": "light"
          }
        }
      ]
    },
    {
      "cell_type": "code",
      "metadata": {
        "id": "MUcCNSLwWeMJ",
        "outputId": "6d871712-6067-4e0b-8b00-9451dc27a968"
      },
      "source": [
        "sns.boxplot(x='ClusterNo', y='frequency', data=dfctwo)"
      ],
      "execution_count": null,
      "outputs": [
        {
          "output_type": "execute_result",
          "data": {
            "text/plain": [
              "<AxesSubplot:xlabel='ClusterNo', ylabel='frequency'>"
            ]
          },
          "metadata": {
            "tags": []
          },
          "execution_count": 102
        },
        {
          "output_type": "display_data",
          "data": {
            "image/png": "[encoded data removed]",
            "text/plain": [
              "<Figure size 432x288 with 1 Axes>"
            ]
          },
          "metadata": {
            "tags": [],
            "needs_background": "light"
          }
        }
      ]
    },
    {
      "cell_type": "code",
      "metadata": {
        "id": "CcLtRGugWeMJ",
        "outputId": "37833f18-2e99-4808-a764-4def8157064f"
      },
      "source": [
        "corr=dfc[['revenue', 'frequency', 'daysprior', 'CustomerID']].corr()\n",
        "corr"
      ],
      "execution_count": null,
      "outputs": [
        {
          "output_type": "execute_result",
          "data": {
            "text/html": [
              "<div>\n",
              "<style scoped>\n",
              "    .dataframe tbody tr th:only-of-type {\n",
              "        vertical-align: middle;\n",
              "    }\n",
              "\n",
              "    .dataframe tbody tr th {\n",
              "        vertical-align: top;\n",
              "    }\n",
              "\n",
              "    .dataframe thead th {\n",
              "        text-align: right;\n",
              "    }\n",
              "</style>\n",
              "<table border=\"1\" class=\"dataframe\">\n",
              "  <thead>\n",
              "    <tr style=\"text-align: right;\">\n",
              "      <th></th>\n",
              "      <th>revenue</th>\n",
              "      <th>frequency</th>\n",
              "      <th>daysprior</th>\n",
              "    </tr>\n",
              "  </thead>\n",
              "  <tbody>\n",
              "    <tr>\n",
              "      <th>revenue</th>\n",
              "      <td>1.000000</td>\n",
              "      <td>0.425282</td>\n",
              "      <td>-0.121831</td>\n",
              "    </tr>\n",
              "    <tr>\n",
              "      <th>frequency</th>\n",
              "      <td>0.425282</td>\n",
              "      <td>1.000000</td>\n",
              "      <td>-0.206444</td>\n",
              "    </tr>\n",
              "    <tr>\n",
              "      <th>daysprior</th>\n",
              "      <td>-0.121831</td>\n",
              "      <td>-0.206444</td>\n",
              "      <td>1.000000</td>\n",
              "    </tr>\n",
              "  </tbody>\n",
              "</table>\n",
              "</div>"
            ],
            "text/plain": [
              "            revenue  frequency  daysprior\n",
              "revenue    1.000000   0.425282  -0.121831\n",
              "frequency  0.425282   1.000000  -0.206444\n",
              "daysprior -0.121831  -0.206444   1.000000"
            ]
          },
          "metadata": {
            "tags": []
          },
          "execution_count": 103
        }
      ]
    },
    {
      "cell_type": "code",
      "metadata": {
        "id": "NLc9exvVWeMJ",
        "outputId": "6e3140ab-9ba7-4a00-90f0-a20bbf6f4652"
      },
      "source": [
        "fig=plt.figure(figsize=(3,3))\n",
        "plt.matshow(corr, cmap='RdBu', fignum=fig.number)\n",
        "plt.xticks(range(len(corr.columns)), corr.columns, rotation='vertical');\n",
        "plt.yticks(range(len(corr.columns)), corr.columns);"
      ],
      "execution_count": null,
      "outputs": [
        {
          "output_type": "display_data",
          "data": {
            "image/png": "[encoded data removed]",
            "text/plain": [
              "<Figure size 216x216 with 1 Axes>"
            ]
          },
          "metadata": {
            "tags": [],
            "needs_background": "light"
          }
        }
      ]
    },
    {
      "cell_type": "markdown",
      "metadata": {
        "id": "pc5yVXYDWeMJ"
      },
      "source": [
        "sns.swarmplot(x='ClusterNo',y='revenue',data=dfc)\n",
        "plt.xlabel('ClusterNo')\n",
        "plt.ylabel('revenue')\n",
        "plt.show()"
      ]
    },
    {
      "cell_type": "markdown",
      "metadata": {
        "id": "SQ_rscQ-WeMK"
      },
      "source": [
        "sns.swarmplot(x='ClusterNo',y='revenue',data=dfctwo)\n",
        "plt.xlabel('ClusterNo')\n",
        "plt.ylabel('revenue')\n",
        "plt.show()"
      ]
    },
    {
      "cell_type": "code",
      "metadata": {
        "id": "nyGzxeL9WeMK",
        "outputId": "9326c227-931c-42a0-80f5-bd7da1609379"
      },
      "source": [
        "sns.swarmplot(x='ClusterNo',y='revenue',data=dfcthree)\n",
        "plt.xlabel('ClusterNo')\n",
        "plt.ylabel('revenue')\n",
        "plt.show()"
      ],
      "execution_count": null,
      "outputs": [
        {
          "output_type": "stream",
          "text": [
            "C:\\Users\\banut\\anaconda3\\lib\\site-packages\\seaborn\\categorical.py:1296: UserWarning: 99.7% of the points cannot be placed; you may want to decrease the size of the markers or use stripplot.\n",
            "  warnings.warn(msg, UserWarning)\n",
            "C:\\Users\\banut\\anaconda3\\lib\\site-packages\\seaborn\\categorical.py:1296: UserWarning: 79.4% of the points cannot be placed; you may want to decrease the size of the markers or use stripplot.\n",
            "  warnings.warn(msg, UserWarning)\n"
          ],
          "name": "stderr"
        },
        {
          "output_type": "display_data",
          "data": {
            "image/png": "[encoded data removed]",
            "text/plain": [
              "<Figure size 432x288 with 1 Axes>"
            ]
          },
          "metadata": {
            "tags": [],
            "needs_background": "light"
          }
        }
      ]
    },
    {
      "cell_type": "markdown",
      "metadata": {
        "id": "itqKiUWUWeMK"
      },
      "source": [
        "sns.swarmplot(x='ClusterNo',y='revenue',data=dfctfour)\n",
        "plt.xlabel('ClusterNo')\n",
        "plt.ylabel('revenue')\n",
        "plt.show()"
      ]
    },
    {
      "cell_type": "markdown",
      "metadata": {
        "id": "WStfqVCXWeML"
      },
      "source": [
        "sns.swarmplot(x='ClusterNo',y='revenue',data=dfctfive)\n",
        "plt.xlabel('ClusterNo')\n",
        "plt.ylabel('revenue')\n",
        "plt.show()"
      ]
    },
    {
      "cell_type": "markdown",
      "metadata": {
        "id": "qVR21PaxWeML"
      },
      "source": [
        "sns.swarmplot(x='ClusterNo',y='revenue',data=dfcsix)\n",
        "plt.xlabel('ClusterNo')\n",
        "plt.ylabel('revenue')\n",
        "plt.show()"
      ]
    },
    {
      "cell_type": "markdown",
      "metadata": {
        "id": "DOhI-qlrWeML"
      },
      "source": [
        "SECOND ANALYSIS -NON-ML TO VALIDATE ML RESULTS???"
      ]
    },
    {
      "cell_type": "code",
      "metadata": {
        "id": "p1jRG2c5WeML",
        "outputId": "8ff04932-698d-47e6-a6c1-a3307b4e1e04"
      },
      "source": [
        "dfcsecondanalysis.head()"
      ],
      "execution_count": null,
      "outputs": [
        {
          "output_type": "execute_result",
          "data": {
            "text/html": [
              "<div>\n",
              "<style scoped>\n",
              "    .dataframe tbody tr th:only-of-type {\n",
              "        vertical-align: middle;\n",
              "    }\n",
              "\n",
              "    .dataframe tbody tr th {\n",
              "        vertical-align: top;\n",
              "    }\n",
              "\n",
              "    .dataframe thead th {\n",
              "        text-align: right;\n",
              "    }\n",
              "</style>\n",
              "<table border=\"1\" class=\"dataframe\">\n",
              "  <thead>\n",
              "    <tr style=\"text-align: right;\">\n",
              "      <th></th>\n",
              "      <th>CustomerID</th>\n",
              "      <th>revenue</th>\n",
              "      <th>frequency</th>\n",
              "      <th>daysprior</th>\n",
              "    </tr>\n",
              "  </thead>\n",
              "  <tbody>\n",
              "    <tr>\n",
              "      <th>0</th>\n",
              "      <td>12346.0</td>\n",
              "      <td>77183.60</td>\n",
              "      <td>1</td>\n",
              "      <td>325</td>\n",
              "    </tr>\n",
              "    <tr>\n",
              "      <th>1</th>\n",
              "      <td>12347.0</td>\n",
              "      <td>4310.00</td>\n",
              "      <td>182</td>\n",
              "      <td>1</td>\n",
              "    </tr>\n",
              "    <tr>\n",
              "      <th>2</th>\n",
              "      <td>12348.0</td>\n",
              "      <td>1797.24</td>\n",
              "      <td>31</td>\n",
              "      <td>74</td>\n",
              "    </tr>\n",
              "    <tr>\n",
              "      <th>3</th>\n",
              "      <td>12349.0</td>\n",
              "      <td>1757.55</td>\n",
              "      <td>73</td>\n",
              "      <td>18</td>\n",
              "    </tr>\n",
              "    <tr>\n",
              "      <th>4</th>\n",
              "      <td>12350.0</td>\n",
              "      <td>334.40</td>\n",
              "      <td>17</td>\n",
              "      <td>309</td>\n",
              "    </tr>\n",
              "  </tbody>\n",
              "</table>\n",
              "</div>"
            ],
            "text/plain": [
              "  CustomerID   revenue  frequency  daysprior\n",
              "0    12346.0  77183.60          1        325\n",
              "1    12347.0   4310.00        182          1\n",
              "2    12348.0   1797.24         31         74\n",
              "3    12349.0   1757.55         73         18\n",
              "4    12350.0    334.40         17        309"
            ]
          },
          "metadata": {
            "tags": []
          },
          "execution_count": 124
        }
      ]
    },
    {
      "cell_type": "markdown",
      "metadata": {
        "id": "oLg2hUPGWeMM"
      },
      "source": [
        "X = dfcsecondanalysis[['revenue', 'frequency', 'daysprior']].to_numpy()      \n",
        "y_pred = KMeans(n_clusters=5, random_state=42).fit_predict(X)\n",
        "plt.scatter(X[:, 0], X[:, 1], c=y_pred)  \n",
        "dfcsecondanalysis.head()\n",
        "\n",
        "kmeans = KMeans(n_clusters=5, random_state=42, max_iter=50)\n",
        "kmeans.fit(dfcsecondanalysis)\n",
        "kmeans.labels_\n",
        "#assign created labels as ClusterNo\n",
        "dfcsecondanalysis['ClusterNo'] = kmeans.labels_\n",
        "dfcsecondanalysis.head(2)"
      ]
    },
    {
      "cell_type": "code",
      "metadata": {
        "id": "CsTqw3j8WeMM"
      },
      "source": [
        "recency1 = (datetime(2010, 12, 1) - df.groupby(\"CustomerID\").agg({\"InvoiceDate\":\"max\"})).rename(columns = {\"InvoiceDate\":\"Recency\"})"
      ],
      "execution_count": null,
      "outputs": []
    },
    {
      "cell_type": "code",
      "metadata": {
        "id": "1nbS_9S9WeMM"
      },
      "source": [
        "freq1 = df.groupby(\"CustomerID\").agg({\"InvoiceDate\":\"nunique\"}).rename(columns={\"InvoiceDate\": \"Frequency\"})"
      ],
      "execution_count": null,
      "outputs": []
    },
    {
      "cell_type": "markdown",
      "metadata": {
        "id": "ipGlJzx8WeMM"
      },
      "source": [
        "Can we draw Empirical cumulative distribution functions (ECDFs)for 3 customer clusters in the same chart?\n",
        "    \n"
      ]
    },
    {
      "cell_type": "code",
      "metadata": {
        "id": "GcpOjWLmWeMN",
        "outputId": "38c9c9c0-b6e0-4786-d24b-c6fa9f29a588"
      },
      "source": [
        "dfcsecondanalysis.head()"
      ],
      "execution_count": null,
      "outputs": [
        {
          "output_type": "execute_result",
          "data": {
            "text/html": [
              "<div>\n",
              "<style scoped>\n",
              "    .dataframe tbody tr th:only-of-type {\n",
              "        vertical-align: middle;\n",
              "    }\n",
              "\n",
              "    .dataframe tbody tr th {\n",
              "        vertical-align: top;\n",
              "    }\n",
              "\n",
              "    .dataframe thead th {\n",
              "        text-align: right;\n",
              "    }\n",
              "</style>\n",
              "<table border=\"1\" class=\"dataframe\">\n",
              "  <thead>\n",
              "    <tr style=\"text-align: right;\">\n",
              "      <th></th>\n",
              "      <th>CustomerID</th>\n",
              "      <th>revenue</th>\n",
              "      <th>frequency</th>\n",
              "      <th>daysprior</th>\n",
              "    </tr>\n",
              "  </thead>\n",
              "  <tbody>\n",
              "    <tr>\n",
              "      <th>0</th>\n",
              "      <td>12346.0</td>\n",
              "      <td>77183.60</td>\n",
              "      <td>1</td>\n",
              "      <td>325</td>\n",
              "    </tr>\n",
              "    <tr>\n",
              "      <th>1</th>\n",
              "      <td>12347.0</td>\n",
              "      <td>4310.00</td>\n",
              "      <td>182</td>\n",
              "      <td>1</td>\n",
              "    </tr>\n",
              "    <tr>\n",
              "      <th>2</th>\n",
              "      <td>12348.0</td>\n",
              "      <td>1797.24</td>\n",
              "      <td>31</td>\n",
              "      <td>74</td>\n",
              "    </tr>\n",
              "    <tr>\n",
              "      <th>3</th>\n",
              "      <td>12349.0</td>\n",
              "      <td>1757.55</td>\n",
              "      <td>73</td>\n",
              "      <td>18</td>\n",
              "    </tr>\n",
              "    <tr>\n",
              "      <th>4</th>\n",
              "      <td>12350.0</td>\n",
              "      <td>334.40</td>\n",
              "      <td>17</td>\n",
              "      <td>309</td>\n",
              "    </tr>\n",
              "  </tbody>\n",
              "</table>\n",
              "</div>"
            ],
            "text/plain": [
              "  CustomerID   revenue  frequency  daysprior\n",
              "0    12346.0  77183.60          1        325\n",
              "1    12347.0   4310.00        182          1\n",
              "2    12348.0   1797.24         31         74\n",
              "3    12349.0   1757.55         73         18\n",
              "4    12350.0    334.40         17        309"
            ]
          },
          "metadata": {
            "tags": []
          },
          "execution_count": 127
        }
      ]
    },
    {
      "cell_type": "code",
      "metadata": {
        "id": "-2HBh-HXWeMN",
        "outputId": "4921e9b6-359d-4834-a6bc-140adb8a8b63"
      },
      "source": [
        "dfcsecondanalysis[\"Recencycategory\"] = pd.qcut(dfcsecondanalysis[\"daysprior\"], 5, labels = [5, 4 , 3, 2, 1])\n",
        "dfcsecondanalysis[\"Frequencycategory\"]= pd.qcut(dfcsecondanalysis[\"frequency\"].rank(method=\"first\"),5, labels=[1,2,3,4,5])\n",
        "dfcsecondanalysis[\"Revenuecategory\"] = pd.qcut(dfcsecondanalysis['revenue'], 5, labels = [1, 2, 3, 4, 5])\n",
        "dfcsecondanalysis.head()"
      ],
      "execution_count": null,
      "outputs": [
        {
          "output_type": "execute_result",
          "data": {
            "text/html": [
              "<div>\n",
              "<style scoped>\n",
              "    .dataframe tbody tr th:only-of-type {\n",
              "        vertical-align: middle;\n",
              "    }\n",
              "\n",
              "    .dataframe tbody tr th {\n",
              "        vertical-align: top;\n",
              "    }\n",
              "\n",
              "    .dataframe thead th {\n",
              "        text-align: right;\n",
              "    }\n",
              "</style>\n",
              "<table border=\"1\" class=\"dataframe\">\n",
              "  <thead>\n",
              "    <tr style=\"text-align: right;\">\n",
              "      <th></th>\n",
              "      <th>CustomerID</th>\n",
              "      <th>revenue</th>\n",
              "      <th>frequency</th>\n",
              "      <th>daysprior</th>\n",
              "      <th>Recencycategory</th>\n",
              "      <th>Frequencycategory</th>\n",
              "      <th>Revenuecategory</th>\n",
              "    </tr>\n",
              "  </thead>\n",
              "  <tbody>\n",
              "    <tr>\n",
              "      <th>0</th>\n",
              "      <td>12346.0</td>\n",
              "      <td>77183.60</td>\n",
              "      <td>1</td>\n",
              "      <td>325</td>\n",
              "      <td>1</td>\n",
              "      <td>1</td>\n",
              "      <td>5</td>\n",
              "    </tr>\n",
              "    <tr>\n",
              "      <th>1</th>\n",
              "      <td>12347.0</td>\n",
              "      <td>4310.00</td>\n",
              "      <td>182</td>\n",
              "      <td>1</td>\n",
              "      <td>5</td>\n",
              "      <td>5</td>\n",
              "      <td>5</td>\n",
              "    </tr>\n",
              "    <tr>\n",
              "      <th>2</th>\n",
              "      <td>12348.0</td>\n",
              "      <td>1797.24</td>\n",
              "      <td>31</td>\n",
              "      <td>74</td>\n",
              "      <td>2</td>\n",
              "      <td>3</td>\n",
              "      <td>4</td>\n",
              "    </tr>\n",
              "    <tr>\n",
              "      <th>3</th>\n",
              "      <td>12349.0</td>\n",
              "      <td>1757.55</td>\n",
              "      <td>73</td>\n",
              "      <td>18</td>\n",
              "      <td>4</td>\n",
              "      <td>4</td>\n",
              "      <td>4</td>\n",
              "    </tr>\n",
              "    <tr>\n",
              "      <th>4</th>\n",
              "      <td>12350.0</td>\n",
              "      <td>334.40</td>\n",
              "      <td>17</td>\n",
              "      <td>309</td>\n",
              "      <td>1</td>\n",
              "      <td>2</td>\n",
              "      <td>2</td>\n",
              "    </tr>\n",
              "  </tbody>\n",
              "</table>\n",
              "</div>"
            ],
            "text/plain": [
              "  CustomerID   revenue  frequency  daysprior Recencycategory  \\\n",
              "0    12346.0  77183.60          1        325               1   \n",
              "1    12347.0   4310.00        182          1               5   \n",
              "2    12348.0   1797.24         31         74               2   \n",
              "3    12349.0   1757.55         73         18               4   \n",
              "4    12350.0    334.40         17        309               1   \n",
              "\n",
              "  Frequencycategory Revenuecategory  \n",
              "0                 1               5  \n",
              "1                 5               5  \n",
              "2                 3               4  \n",
              "3                 4               4  \n",
              "4                 2               2  "
            ]
          },
          "metadata": {
            "tags": []
          },
          "execution_count": 128
        }
      ]
    },
    {
      "cell_type": "code",
      "metadata": {
        "id": "BKnXvbHrWeMN",
        "outputId": "bcc9024a-7b7c-427f-f923-d023f39ebf33"
      },
      "source": [
        "dfcsecondanalysis[\"RFR_SCORE\"] = (dfcsecondanalysis[\"Recencycategory\"].astype(str) + \n",
        "                     dfcsecondanalysis[\"Frequencycategory\"].astype(str) + \n",
        "                     dfcsecondanalysis[\"Revenuecategory\"].astype(str))\n",
        "dfcsecondanalysis.head()"
      ],
      "execution_count": null,
      "outputs": [
        {
          "output_type": "execute_result",
          "data": {
            "text/html": [
              "<div>\n",
              "<style scoped>\n",
              "    .dataframe tbody tr th:only-of-type {\n",
              "        vertical-align: middle;\n",
              "    }\n",
              "\n",
              "    .dataframe tbody tr th {\n",
              "        vertical-align: top;\n",
              "    }\n",
              "\n",
              "    .dataframe thead th {\n",
              "        text-align: right;\n",
              "    }\n",
              "</style>\n",
              "<table border=\"1\" class=\"dataframe\">\n",
              "  <thead>\n",
              "    <tr style=\"text-align: right;\">\n",
              "      <th></th>\n",
              "      <th>CustomerID</th>\n",
              "      <th>revenue</th>\n",
              "      <th>frequency</th>\n",
              "      <th>daysprior</th>\n",
              "      <th>Recencycategory</th>\n",
              "      <th>Frequencycategory</th>\n",
              "      <th>Revenuecategory</th>\n",
              "      <th>RFR_SCORE</th>\n",
              "    </tr>\n",
              "  </thead>\n",
              "  <tbody>\n",
              "    <tr>\n",
              "      <th>0</th>\n",
              "      <td>12346.0</td>\n",
              "      <td>77183.60</td>\n",
              "      <td>1</td>\n",
              "      <td>325</td>\n",
              "      <td>1</td>\n",
              "      <td>1</td>\n",
              "      <td>5</td>\n",
              "      <td>115</td>\n",
              "    </tr>\n",
              "    <tr>\n",
              "      <th>1</th>\n",
              "      <td>12347.0</td>\n",
              "      <td>4310.00</td>\n",
              "      <td>182</td>\n",
              "      <td>1</td>\n",
              "      <td>5</td>\n",
              "      <td>5</td>\n",
              "      <td>5</td>\n",
              "      <td>555</td>\n",
              "    </tr>\n",
              "    <tr>\n",
              "      <th>2</th>\n",
              "      <td>12348.0</td>\n",
              "      <td>1797.24</td>\n",
              "      <td>31</td>\n",
              "      <td>74</td>\n",
              "      <td>2</td>\n",
              "      <td>3</td>\n",
              "      <td>4</td>\n",
              "      <td>234</td>\n",
              "    </tr>\n",
              "    <tr>\n",
              "      <th>3</th>\n",
              "      <td>12349.0</td>\n",
              "      <td>1757.55</td>\n",
              "      <td>73</td>\n",
              "      <td>18</td>\n",
              "      <td>4</td>\n",
              "      <td>4</td>\n",
              "      <td>4</td>\n",
              "      <td>444</td>\n",
              "    </tr>\n",
              "    <tr>\n",
              "      <th>4</th>\n",
              "      <td>12350.0</td>\n",
              "      <td>334.40</td>\n",
              "      <td>17</td>\n",
              "      <td>309</td>\n",
              "      <td>1</td>\n",
              "      <td>2</td>\n",
              "      <td>2</td>\n",
              "      <td>122</td>\n",
              "    </tr>\n",
              "  </tbody>\n",
              "</table>\n",
              "</div>"
            ],
            "text/plain": [
              "  CustomerID   revenue  frequency  daysprior Recencycategory  \\\n",
              "0    12346.0  77183.60          1        325               1   \n",
              "1    12347.0   4310.00        182          1               5   \n",
              "2    12348.0   1797.24         31         74               2   \n",
              "3    12349.0   1757.55         73         18               4   \n",
              "4    12350.0    334.40         17        309               1   \n",
              "\n",
              "  Frequencycategory Revenuecategory RFR_SCORE  \n",
              "0                 1               5       115  \n",
              "1                 5               5       555  \n",
              "2                 3               4       234  \n",
              "3                 4               4       444  \n",
              "4                 2               2       122  "
            ]
          },
          "metadata": {
            "tags": []
          },
          "execution_count": 129
        }
      ]
    },
    {
      "cell_type": "code",
      "metadata": {
        "id": "nXr80dWPWeMO"
      },
      "source": [
        "seg_map = {\n",
        "    r'[1-3][1-3][1-2]': 'Lowest Value-IGNORE',\n",
        "    r'[3-5][1-3][1-2]': 'Lowest Value-IGNORE',\n",
        "    \n",
        "    r'[1-3][1-5][2-5]': 'STIMULATE',\n",
        "    r'[1-3][3-5][1-2]': 'STIMULATE',\n",
        "    r'[3-5][1-3][2-5]': 'New customers-WELCOME',\n",
        "    \n",
        "    r'[3-5][3-5][1-2]': 'Loyal Silver-REWARD',\n",
        "    r'[3-5][3-5][2-5]': 'Highest Value-REWARD'\n",
        " \n",
        "}\n",
        "\n",
        "dfcsecondanalysis['Segment'] = dfcsecondanalysis['Recencycategory'].astype(str) + dfcsecondanalysis['Frequencycategory'].astype(str)+ dfcsecondanalysis['Revenuecategory'].astype(str)\n",
        "dfcsecondanalysis['Segment'] = dfcsecondanalysis['Segment'].replace(seg_map, regex=True)"
      ],
      "execution_count": null,
      "outputs": []
    },
    {
      "cell_type": "code",
      "metadata": {
        "id": "5hI0pB7IWeMO",
        "outputId": "1fa58aac-0841-43e2-f86f-f841ba578fc5"
      },
      "source": [
        "dfcsecondanalysis.head(10)"
      ],
      "execution_count": null,
      "outputs": [
        {
          "output_type": "execute_result",
          "data": {
            "text/html": [
              "<div>\n",
              "<style scoped>\n",
              "    .dataframe tbody tr th:only-of-type {\n",
              "        vertical-align: middle;\n",
              "    }\n",
              "\n",
              "    .dataframe tbody tr th {\n",
              "        vertical-align: top;\n",
              "    }\n",
              "\n",
              "    .dataframe thead th {\n",
              "        text-align: right;\n",
              "    }\n",
              "</style>\n",
              "<table border=\"1\" class=\"dataframe\">\n",
              "  <thead>\n",
              "    <tr style=\"text-align: right;\">\n",
              "      <th></th>\n",
              "      <th>CustomerID</th>\n",
              "      <th>revenue</th>\n",
              "      <th>frequency</th>\n",
              "      <th>daysprior</th>\n",
              "      <th>Recencycategory</th>\n",
              "      <th>Frequencycategory</th>\n",
              "      <th>Revenuecategory</th>\n",
              "      <th>RFR_SCORE</th>\n",
              "      <th>Segment</th>\n",
              "    </tr>\n",
              "  </thead>\n",
              "  <tbody>\n",
              "    <tr>\n",
              "      <th>0</th>\n",
              "      <td>12346.0</td>\n",
              "      <td>77183.60</td>\n",
              "      <td>1</td>\n",
              "      <td>325</td>\n",
              "      <td>1</td>\n",
              "      <td>1</td>\n",
              "      <td>5</td>\n",
              "      <td>115</td>\n",
              "      <td>STIMULATE</td>\n",
              "    </tr>\n",
              "    <tr>\n",
              "      <th>1</th>\n",
              "      <td>12347.0</td>\n",
              "      <td>4310.00</td>\n",
              "      <td>182</td>\n",
              "      <td>1</td>\n",
              "      <td>5</td>\n",
              "      <td>5</td>\n",
              "      <td>5</td>\n",
              "      <td>555</td>\n",
              "      <td>Highest Value-REWARD</td>\n",
              "    </tr>\n",
              "    <tr>\n",
              "      <th>2</th>\n",
              "      <td>12348.0</td>\n",
              "      <td>1797.24</td>\n",
              "      <td>31</td>\n",
              "      <td>74</td>\n",
              "      <td>2</td>\n",
              "      <td>3</td>\n",
              "      <td>4</td>\n",
              "      <td>234</td>\n",
              "      <td>STIMULATE</td>\n",
              "    </tr>\n",
              "    <tr>\n",
              "      <th>3</th>\n",
              "      <td>12349.0</td>\n",
              "      <td>1757.55</td>\n",
              "      <td>73</td>\n",
              "      <td>18</td>\n",
              "      <td>4</td>\n",
              "      <td>4</td>\n",
              "      <td>4</td>\n",
              "      <td>444</td>\n",
              "      <td>Highest Value-REWARD</td>\n",
              "    </tr>\n",
              "    <tr>\n",
              "      <th>4</th>\n",
              "      <td>12350.0</td>\n",
              "      <td>334.40</td>\n",
              "      <td>17</td>\n",
              "      <td>309</td>\n",
              "      <td>1</td>\n",
              "      <td>2</td>\n",
              "      <td>2</td>\n",
              "      <td>122</td>\n",
              "      <td>Lowest Value-IGNORE</td>\n",
              "    </tr>\n",
              "    <tr>\n",
              "      <th>5</th>\n",
              "      <td>12352.0</td>\n",
              "      <td>2506.04</td>\n",
              "      <td>85</td>\n",
              "      <td>35</td>\n",
              "      <td>3</td>\n",
              "      <td>4</td>\n",
              "      <td>5</td>\n",
              "      <td>345</td>\n",
              "      <td>STIMULATE</td>\n",
              "    </tr>\n",
              "    <tr>\n",
              "      <th>6</th>\n",
              "      <td>12353.0</td>\n",
              "      <td>89.00</td>\n",
              "      <td>4</td>\n",
              "      <td>203</td>\n",
              "      <td>1</td>\n",
              "      <td>1</td>\n",
              "      <td>1</td>\n",
              "      <td>111</td>\n",
              "      <td>Lowest Value-IGNORE</td>\n",
              "    </tr>\n",
              "    <tr>\n",
              "      <th>7</th>\n",
              "      <td>12354.0</td>\n",
              "      <td>1079.40</td>\n",
              "      <td>58</td>\n",
              "      <td>231</td>\n",
              "      <td>1</td>\n",
              "      <td>4</td>\n",
              "      <td>4</td>\n",
              "      <td>144</td>\n",
              "      <td>STIMULATE</td>\n",
              "    </tr>\n",
              "    <tr>\n",
              "      <th>8</th>\n",
              "      <td>12355.0</td>\n",
              "      <td>459.40</td>\n",
              "      <td>13</td>\n",
              "      <td>213</td>\n",
              "      <td>1</td>\n",
              "      <td>1</td>\n",
              "      <td>2</td>\n",
              "      <td>112</td>\n",
              "      <td>Lowest Value-IGNORE</td>\n",
              "    </tr>\n",
              "    <tr>\n",
              "      <th>9</th>\n",
              "      <td>12356.0</td>\n",
              "      <td>2811.43</td>\n",
              "      <td>59</td>\n",
              "      <td>22</td>\n",
              "      <td>4</td>\n",
              "      <td>4</td>\n",
              "      <td>5</td>\n",
              "      <td>445</td>\n",
              "      <td>Highest Value-REWARD</td>\n",
              "    </tr>\n",
              "  </tbody>\n",
              "</table>\n",
              "</div>"
            ],
            "text/plain": [
              "  CustomerID   revenue  frequency  daysprior Recencycategory  \\\n",
              "0    12346.0  77183.60          1        325               1   \n",
              "1    12347.0   4310.00        182          1               5   \n",
              "2    12348.0   1797.24         31         74               2   \n",
              "3    12349.0   1757.55         73         18               4   \n",
              "4    12350.0    334.40         17        309               1   \n",
              "5    12352.0   2506.04         85         35               3   \n",
              "6    12353.0     89.00          4        203               1   \n",
              "7    12354.0   1079.40         58        231               1   \n",
              "8    12355.0    459.40         13        213               1   \n",
              "9    12356.0   2811.43         59         22               4   \n",
              "\n",
              "  Frequencycategory Revenuecategory RFR_SCORE               Segment  \n",
              "0                 1               5       115             STIMULATE  \n",
              "1                 5               5       555  Highest Value-REWARD  \n",
              "2                 3               4       234             STIMULATE  \n",
              "3                 4               4       444  Highest Value-REWARD  \n",
              "4                 2               2       122   Lowest Value-IGNORE  \n",
              "5                 4               5       345             STIMULATE  \n",
              "6                 1               1       111   Lowest Value-IGNORE  \n",
              "7                 4               4       144             STIMULATE  \n",
              "8                 1               2       112   Lowest Value-IGNORE  \n",
              "9                 4               5       445  Highest Value-REWARD  "
            ]
          },
          "metadata": {
            "tags": []
          },
          "execution_count": 131
        }
      ]
    },
    {
      "cell_type": "code",
      "metadata": {
        "id": "eR4F-vfoWeMO",
        "outputId": "0c6893a0-feee-4a73-bff8-05dccb85e68e"
      },
      "source": [
        "dfsa = dfcsecondanalysis.groupby([\"Segment\"]).size()\n",
        "dfsa"
      ],
      "execution_count": null,
      "outputs": [
        {
          "output_type": "execute_result",
          "data": {
            "text/plain": [
              "Segment\n",
              "Highest Value-REWARD     1050\n",
              "Lowest Value-IGNORE      1606\n",
              "Loyal Silver-REWARD        50\n",
              "New customers-WELCOME     332\n",
              "STIMULATE                1300\n",
              "dtype: int64"
            ]
          },
          "metadata": {
            "tags": []
          },
          "execution_count": 132
        }
      ]
    },
    {
      "cell_type": "code",
      "metadata": {
        "id": "WKva5TUgWeMO",
        "outputId": "72645006-1cd1-4a97-d322-f1c9bc79735c"
      },
      "source": [
        "ax = dfsa.plot.bar(x='Segment', rot=0, figsize=(15, 6), fontsize=13)\n",
        "ax.set_ylabel('Number of Customers', fontsize=13)\n",
        "ax.set_xlabel('Cluster', fontsize=13)"
      ],
      "execution_count": null,
      "outputs": [
        {
          "output_type": "execute_result",
          "data": {
            "text/plain": [
              "Text(0.5, 0, 'Cluster')"
            ]
          },
          "metadata": {
            "tags": []
          },
          "execution_count": 150
        },
        {
          "output_type": "display_data",
          "data": {
            "image/png": "[encoded data removed]",
            "text/plain": [
              "<Figure size 1080x432 with 1 Axes>"
            ]
          },
          "metadata": {
            "tags": [],
            "needs_background": "light"
          }
        }
      ]
    },
    {
      "cell_type": "code",
      "metadata": {
        "id": "Sc7tpQmpWeMP"
      },
      "source": [
        ""
      ],
      "execution_count": null,
      "outputs": []
    },
    {
      "cell_type": "code",
      "metadata": {
        "id": "8s7TNmftWeMP"
      },
      "source": [
        ""
      ],
      "execution_count": null,
      "outputs": []
    }
  ]
}